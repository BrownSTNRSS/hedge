{
 "cells": [
  {
   "cell_type": "code",
   "execution_count": 85,
   "id": "8dc72b77-b9d8-48e5-924c-d5d8b5757fd5",
   "metadata": {},
   "outputs": [],
   "source": [
    "import pandas as pd\n",
    "import numpy as np\n",
    "from hmmlearn import hmm\n",
    "from tqdm import tqdm_notebook as tqdm\n",
    "import matplotlib.pyplot as plt\n"
   ]
  },
  {
   "cell_type": "code",
   "execution_count": 86,
   "id": "cd9ee9f0-b090-4698-84a8-39d59587a573",
   "metadata": {},
   "outputs": [
    {
     "data": {
      "text/html": [
       "<div>\n",
       "<style scoped>\n",
       "    .dataframe tbody tr th:only-of-type {\n",
       "        vertical-align: middle;\n",
       "    }\n",
       "\n",
       "    .dataframe tbody tr th {\n",
       "        vertical-align: top;\n",
       "    }\n",
       "\n",
       "    .dataframe thead th {\n",
       "        text-align: right;\n",
       "    }\n",
       "</style>\n",
       "<table border=\"1\" class=\"dataframe\">\n",
       "  <thead>\n",
       "    <tr style=\"text-align: right;\">\n",
       "      <th></th>\n",
       "      <th>SPY_Close</th>\n",
       "      <th>VIX_Close</th>\n",
       "      <th>SPY_Return</th>\n",
       "      <th>Rolling_Vol</th>\n",
       "    </tr>\n",
       "  </thead>\n",
       "  <tbody>\n",
       "    <tr>\n",
       "      <th>1993-03-02</th>\n",
       "      <td>25.009039</td>\n",
       "      <td>12.490000</td>\n",
       "      <td>0.014819</td>\n",
       "      <td>0.130685</td>\n",
       "    </tr>\n",
       "    <tr>\n",
       "      <th>1993-03-03</th>\n",
       "      <td>25.113390</td>\n",
       "      <td>13.130000</td>\n",
       "      <td>0.004173</td>\n",
       "      <td>0.129372</td>\n",
       "    </tr>\n",
       "    <tr>\n",
       "      <th>1993-03-04</th>\n",
       "      <td>24.974276</td>\n",
       "      <td>13.440000</td>\n",
       "      <td>-0.005539</td>\n",
       "      <td>0.131218</td>\n",
       "    </tr>\n",
       "    <tr>\n",
       "      <th>1993-03-05</th>\n",
       "      <td>24.904697</td>\n",
       "      <td>14.080000</td>\n",
       "      <td>-0.002786</td>\n",
       "      <td>0.126503</td>\n",
       "    </tr>\n",
       "    <tr>\n",
       "      <th>1993-03-08</th>\n",
       "      <td>25.461226</td>\n",
       "      <td>16.219999</td>\n",
       "      <td>0.022346</td>\n",
       "      <td>0.147963</td>\n",
       "    </tr>\n",
       "  </tbody>\n",
       "</table>\n",
       "</div>"
      ],
      "text/plain": [
       "            SPY_Close  VIX_Close  SPY_Return  Rolling_Vol\n",
       "1993-03-02  25.009039  12.490000    0.014819     0.130685\n",
       "1993-03-03  25.113390  13.130000    0.004173     0.129372\n",
       "1993-03-04  24.974276  13.440000   -0.005539     0.131218\n",
       "1993-03-05  24.904697  14.080000   -0.002786     0.126503\n",
       "1993-03-08  25.461226  16.219999    0.022346     0.147963"
      ]
     },
     "execution_count": 86,
     "metadata": {},
     "output_type": "execute_result"
    }
   ],
   "source": [
    "df = pd.read_csv('SPY_VIX.csv', index_col=0)\n",
    "df.index = pd.to_datetime(df.index)\n",
    "df = df.astype(float)\n",
    "df['SPY_Return'] = df['SPY_Close'].pct_change()\n",
    "#df['SPY_HVol'] = df['SPY_Return'].rolling(window=21).mean() * 252\n",
    "df['Rolling_Vol'] = df['SPY_Return'].rolling(window=21).std() * np.sqrt(252)  # 20日ローリング、年率換算\n",
    "df.dropna(inplace=True)\n",
    "df.head()"
   ]
  },
  {
   "cell_type": "code",
   "execution_count": 87,
   "id": "375e6f13-5a99-4dea-a453-40ce33babee4",
   "metadata": {},
   "outputs": [],
   "source": [
    "date_index = df.index"
   ]
  },
  {
   "cell_type": "code",
   "execution_count": 88,
   "id": "c8bf63eb-e377-467e-92e8-f74a11766a6d",
   "metadata": {},
   "outputs": [],
   "source": [
    "X = df.iloc[:,1:].values"
   ]
  },
  {
   "cell_type": "code",
   "execution_count": 89,
   "id": "d2a4a485-24e9-4482-8436-731286688226",
   "metadata": {},
   "outputs": [],
   "source": [
    "def estimate_regime(X, n_components=3, return_last =True):\n",
    "    model = hmm.GaussianHMM(n_components=n_components, covariance_type=\"full\",n_iter=100)\n",
    "    model.fit(X)\n",
    "    \"\"\"\n",
    "    claudeさん、続きをお願い\n",
    "    \"\"\"\n",
    "    # 当日のレジーム予測\n",
    "    if return_last:\n",
    "        current_obs = X[-1:, :]  # 最新の観測値\n",
    "        regime = model.predict(current_obs)[0]\n",
    "        \n",
    "        # 当日のレジーム確率\n",
    "        regime_probs = model.predict_proba(current_obs)[0]\n",
    "        \n",
    "        return regime, regime_probs\n",
    "    else:\n",
    "        current_obs = X.copy()\n",
    "        regime = model.predict(current_obs)\n",
    "        # 当日のレジーム確率\n",
    "        regime_probs = model.predict_proba(current_obs)\n",
    "        \n",
    "        return regime, regime_probs\n",
    "        \n",
    "    \n",
    "\n",
    "def rolling_regime_estimation(X, min_window=60):\n",
    "    \"\"\"\n",
    "    エクスパンディングウィンドウでレジーム推定を実行\n",
    "    \n",
    "    Returns:\n",
    "    regimes: array of regime predictions\n",
    "    regime_probs: array of regime probabilities (n_obs × 3)\n",
    "    \"\"\"\n",
    "    n_obs = len(X)\n",
    "    regimes = np.full(n_obs, np.nan)\n",
    "    regime_probs = np.full((n_obs, 3), np.nan)\n",
    "    \n",
    "    for t in range(min_window, n_obs):\n",
    "        X_train = X[:t+1]  # エクスパンディングウィンドウ\n",
    "        regime, probs = estimate_regime(X_train)\n",
    "        regimes[t] = regime\n",
    "        regime_probs[t] = probs\n",
    "    \n",
    "    return regimes, regime_probs\n"
   ]
  },
  {
   "cell_type": "code",
   "execution_count": 90,
   "id": "a9c30f31-5d6f-4325-a4b4-43f735be5954",
   "metadata": {},
   "outputs": [
    {
     "data": {
      "image/png": "[encoded data removed]",
      "text/plain": [
       "<Figure size 1600x500 with 1 Axes>"
      ]
     },
     "metadata": {},
     "output_type": "display_data"
    }
   ],
   "source": [
    "regime, regime_prob = estimate_regime(X, return_last=False)\n",
    "pd.DataFrame(regime_prob, index=date_index).plot(kind='area', stacked=True, figsize=(16,5))\n",
    "plt.show()"
   ]
  },
  {
   "cell_type": "code",
   "execution_count": 99,
   "id": "f2de4666-bc79-4e61-8347-9df7f6807873",
   "metadata": {},
   "outputs": [],
   "source": [
    "model = hmm.GaussianHMM(n_components=3, covariance_type=\"full\", random_state=42)\n",
    "model.fit(X)\n",
    "\n",
    "# 当日のレジーム予測\n",
    "current_obs = X[-1:, :]  # 最新の観測値\n",
    "regime = model.predict(current_obs)[0]\n",
    "\n",
    "# 当日のレジーム確率\n",
    "regime_probs = model.predict_proba(current_obs)[0]\n",
    "\n",
    "# レジームを一貫性のある順序に並び替え\n",
    "consistent_regime, consistent_probs, mapping = reorder_regimes_by_volatility(\n",
    "    model, regime, regime_probs, vix_columns=0\n",
    ")"
   ]
  },
  {
   "cell_type": "code",
   "execution_count": 100,
   "id": "49e04594-8b38-4711-9b4a-2d6e4477c868",
   "metadata": {},
   "outputs": [],
   "source": [
    "def reorder_regimes_by_volatility(model, current_regime, current_probs, vix_columns=0):\n",
    "    \"\"\"\n",
    "    ボラティリティ（VIX or 第1特徴量）の大きさでレジームを再順序化\n",
    "    0=低ボラ, 1=中ボラ, 2=高ボラ に統一\n",
    "    \"\"\"\n",
    "    # 各状態の平均VIX（第1特徴量）を取得\n",
    "    vix_means = [model.means_[i][vix_columns] for i in range(3)]\n",
    "    \n",
    "    # VIXの昇順でソート → 新しい順序を決定\n",
    "    sorted_indices = np.argsort(vix_means)\n",
    "    \n",
    "    # 古いレジーム番号を新しい番号にマッピング\n",
    "    regime_mapping = {sorted_indices[i]: i for i in range(3)}\n",
    "    \n",
    "    # 現在のレジームを新しい番号に変換\n",
    "    consistent_regime = regime_mapping[current_regime]\n",
    "    \n",
    "    # 確率も新しい順序に並び替え\n",
    "    consistent_probs = np.zeros_like(current_probs)\n",
    "    for old_idx, new_idx in regime_mapping.items():\n",
    "        consistent_probs[new_idx] = current_probs[old_idx]\n",
    "    \n",
    "    return consistent_regime, consistent_probs, regime_mapping"
   ]
  },
  {
   "cell_type": "code",
   "execution_count": null,
   "id": "572354d4-1335-4fb8-bce4-963a79c77dfd",
   "metadata": {
    "scrolled": true
   },
   "outputs": [
    {
     "name": "stdout",
     "output_type": "stream",
     "text": [
      "更新\n",
      "更新\n",
      "更新\n",
      "更新\n",
      "更新\n",
      "更新\n",
      "更新\n",
      "更新\n"
     ]
    },
    {
     "name": "stderr",
     "output_type": "stream",
     "text": [
      "Model is not converging.  Current: 4598.173501328291 is not greater than 4598.17716633839. Delta is -0.003665010098302446\n"
     ]
    },
    {
     "name": "stdout",
     "output_type": "stream",
     "text": [
      "更新\n",
      "更新\n",
      "更新\n",
      "更新\n"
     ]
    },
    {
     "name": "stderr",
     "output_type": "stream",
     "text": [
      "Model is not converging.  Current: 4335.5379346367135 is not greater than 4335.699312589765. Delta is -0.16137795305166946\n"
     ]
    },
    {
     "name": "stdout",
     "output_type": "stream",
     "text": [
      "更新\n",
      "更新\n",
      "更新\n",
      "更新\n",
      "更新\n",
      "更新\n"
     ]
    },
    {
     "name": "stderr",
     "output_type": "stream",
     "text": [
      "Model is not converging.  Current: 4589.653305579868 is not greater than 4589.676497620881. Delta is -0.02319204101240757\n"
     ]
    },
    {
     "name": "stdout",
     "output_type": "stream",
     "text": [
      "更新\n",
      "更新\n",
      "更新\n",
      "更新\n",
      "更新\n",
      "更新\n",
      "更新\n",
      "更新\n",
      "更新\n",
      "更新\n",
      "更新\n"
     ]
    },
    {
     "name": "stderr",
     "output_type": "stream",
     "text": [
      "Model is not converging.  Current: 4347.538427729906 is not greater than 4347.945107271591. Delta is -0.4066795416847526\n"
     ]
    },
    {
     "name": "stdout",
     "output_type": "stream",
     "text": [
      "更新\n",
      "更新\n",
      "更新\n"
     ]
    },
    {
     "name": "stderr",
     "output_type": "stream",
     "text": [
      "Model is not converging.  Current: 4353.559859360412 is not greater than 4353.939182491229. Delta is -0.3793231308172835\n"
     ]
    },
    {
     "name": "stdout",
     "output_type": "stream",
     "text": [
      "更新\n",
      "更新\n"
     ]
    },
    {
     "name": "stderr",
     "output_type": "stream",
     "text": [
      "Model is not converging.  Current: 4617.000807457258 is not greater than 4617.001693959257. Delta is -0.0008865019990480505\n"
     ]
    },
    {
     "name": "stdout",
     "output_type": "stream",
     "text": [
      "更新\n",
      "更新\n",
      "更新\n"
     ]
    },
    {
     "name": "stderr",
     "output_type": "stream",
     "text": [
      "Model is not converging.  Current: 4827.082017221172 is not greater than 4827.13284218797. Delta is -0.05082496679824544\n"
     ]
    },
    {
     "name": "stdout",
     "output_type": "stream",
     "text": [
      "更新\n",
      "更新\n",
      "更新\n",
      "更新\n"
     ]
    },
    {
     "name": "stderr",
     "output_type": "stream",
     "text": [
      "Model is not converging.  Current: 4355.220991521532 is not greater than 4355.54103955069. Delta is -0.3200480291579879\n"
     ]
    },
    {
     "name": "stdout",
     "output_type": "stream",
     "text": [
      "更新\n",
      "更新\n",
      "更新\n",
      "更新\n",
      "更新\n",
      "更新\n",
      "更新\n",
      "更新\n",
      "更新\n",
      "更新\n",
      "更新\n",
      "更新\n",
      "更新\n",
      "更新\n",
      "更新\n"
     ]
    },
    {
     "name": "stderr",
     "output_type": "stream",
     "text": [
      "Model is not converging.  Current: 4403.374549552728 is not greater than 4403.824793405582. Delta is -0.4502438528534185\n"
     ]
    },
    {
     "name": "stdout",
     "output_type": "stream",
     "text": [
      "更新\n"
     ]
    },
    {
     "name": "stderr",
     "output_type": "stream",
     "text": [
      "Model is not converging.  Current: 4688.0699198334605 is not greater than 4688.074432761727. Delta is -0.004512928266194649\n"
     ]
    },
    {
     "name": "stdout",
     "output_type": "stream",
     "text": [
      "更新\n",
      "更新\n",
      "更新\n",
      "更新\n"
     ]
    },
    {
     "name": "stderr",
     "output_type": "stream",
     "text": [
      "Model is not converging.  Current: 4420.975106984892 is not greater than 4421.011832595063. Delta is -0.03672561017174303\n"
     ]
    },
    {
     "name": "stdout",
     "output_type": "stream",
     "text": [
      "更新\n",
      "更新\n",
      "更新\n",
      "更新\n"
     ]
    },
    {
     "name": "stderr",
     "output_type": "stream",
     "text": [
      "Model is not converging.  Current: 4796.620293126652 is not greater than 4796.648097269345. Delta is -0.027804142693639733\n"
     ]
    },
    {
     "name": "stdout",
     "output_type": "stream",
     "text": [
      "更新\n",
      "更新\n"
     ]
    },
    {
     "name": "stderr",
     "output_type": "stream",
     "text": [
      "Model is not converging.  Current: 4718.880911473931 is not greater than 4718.919066479816. Delta is -0.038155005885528226\n"
     ]
    },
    {
     "name": "stdout",
     "output_type": "stream",
     "text": [
      "更新\n",
      "更新\n",
      "更新\n"
     ]
    },
    {
     "name": "stderr",
     "output_type": "stream",
     "text": [
      "Model is not converging.  Current: 4433.761999505994 is not greater than 4457.543549332108. Delta is -23.781549826114315\n"
     ]
    },
    {
     "name": "stdout",
     "output_type": "stream",
     "text": [
      "更新\n",
      "更新\n",
      "更新\n",
      "更新\n",
      "更新\n",
      "更新\n"
     ]
    },
    {
     "name": "stderr",
     "output_type": "stream",
     "text": [
      "Model is not converging.  Current: 4464.775769231445 is not greater than 4464.830725990516. Delta is -0.05495675907059194\n"
     ]
    },
    {
     "name": "stdout",
     "output_type": "stream",
     "text": [
      "更新\n",
      "更新\n"
     ]
    },
    {
     "name": "stderr",
     "output_type": "stream",
     "text": [
      "Model is not converging.  Current: 4436.408548711236 is not greater than 4436.979298172544. Delta is -0.5707494613079689\n"
     ]
    },
    {
     "name": "stdout",
     "output_type": "stream",
     "text": [
      "更新\n"
     ]
    },
    {
     "name": "stderr",
     "output_type": "stream",
     "text": [
      "Model is not converging.  Current: 4446.310208869147 is not greater than 4446.42021257686. Delta is -0.11000370771307644\n"
     ]
    },
    {
     "name": "stdout",
     "output_type": "stream",
     "text": [
      "更新\n",
      "更新\n",
      "更新\n",
      "更新\n",
      "更新\n",
      "更新\n",
      "更新\n",
      "更新\n",
      "更新\n"
     ]
    },
    {
     "name": "stderr",
     "output_type": "stream",
     "text": [
      "Model is not converging.  Current: 4451.868304976651 is not greater than 4452.201838589815. Delta is -0.33353361316403607\n"
     ]
    },
    {
     "name": "stdout",
     "output_type": "stream",
     "text": [
      "更新\n",
      "更新\n",
      "更新\n",
      "更新\n"
     ]
    },
    {
     "name": "stderr",
     "output_type": "stream",
     "text": [
      "Model is not converging.  Current: 4708.071046915963 is not greater than 4708.0754012364905. Delta is -0.004354320527454547\n"
     ]
    },
    {
     "name": "stdout",
     "output_type": "stream",
     "text": [
      "更新\n",
      "更新\n",
      "更新\n",
      "更新\n",
      "更新\n",
      "更新\n",
      "更新\n",
      "更新\n",
      "更新\n",
      "更新\n",
      "更新\n"
     ]
    },
    {
     "name": "stderr",
     "output_type": "stream",
     "text": [
      "Model is not converging.  Current: 4497.2426182411 is not greater than 4500.763419786025. Delta is -3.5208015449252343\n"
     ]
    },
    {
     "name": "stdout",
     "output_type": "stream",
     "text": [
      "更新\n",
      "更新\n",
      "更新\n",
      "更新\n",
      "更新\n",
      "更新\n",
      "更新\n",
      "更新\n",
      "更新\n",
      "更新\n"
     ]
    },
    {
     "name": "stderr",
     "output_type": "stream",
     "text": [
      "Model is not converging.  Current: 4481.8170447063185 is not greater than 4481.915961261634. Delta is -0.09891655531555443\n"
     ]
    },
    {
     "name": "stdout",
     "output_type": "stream",
     "text": [
      "更新\n",
      "更新\n"
     ]
    },
    {
     "name": "stderr",
     "output_type": "stream",
     "text": [
      "Model is not converging.  Current: 4520.970273264873 is not greater than 4520.9756423523495. Delta is -0.00536908747653797\n"
     ]
    },
    {
     "name": "stdout",
     "output_type": "stream",
     "text": [
      "更新\n",
      "更新\n"
     ]
    },
    {
     "name": "stderr",
     "output_type": "stream",
     "text": [
      "Model is not converging.  Current: 4775.0472529978215 is not greater than 4775.116981906915. Delta is -0.06972890909310081\n"
     ]
    },
    {
     "name": "stdout",
     "output_type": "stream",
     "text": [
      "更新\n"
     ]
    },
    {
     "name": "stderr",
     "output_type": "stream",
     "text": [
      "Model is not converging.  Current: 4847.409664703828 is not greater than 4847.441884102983. Delta is -0.032219399155110295\n"
     ]
    },
    {
     "name": "stdout",
     "output_type": "stream",
     "text": [
      "更新\n",
      "更新\n",
      "更新\n",
      "更新\n",
      "更新\n",
      "更新\n",
      "更新\n",
      "更新\n",
      "更新\n",
      "更新\n",
      "更新\n",
      "更新\n",
      "更新\n",
      "更新\n"
     ]
    },
    {
     "name": "stderr",
     "output_type": "stream",
     "text": [
      "Model is not converging.  Current: 4534.472304086145 is not greater than 4534.48817779797. Delta is -0.01587371182449715\n",
      "Model is not converging.  Current: 4907.14750904485 is not greater than 4907.531641337331. Delta is -0.3841322924808992\n"
     ]
    },
    {
     "name": "stdout",
     "output_type": "stream",
     "text": [
      "更新\n",
      "更新\n",
      "更新\n"
     ]
    },
    {
     "name": "stderr",
     "output_type": "stream",
     "text": [
      "Model is not converging.  Current: 4898.905880426168 is not greater than 4898.911368670159. Delta is -0.0054882439917491865\n"
     ]
    },
    {
     "name": "stdout",
     "output_type": "stream",
     "text": [
      "更新\n",
      "更新\n",
      "更新\n"
     ]
    },
    {
     "name": "stderr",
     "output_type": "stream",
     "text": [
      "Model is not converging.  Current: 4915.829624585737 is not greater than 4915.884261346615. Delta is -0.05463676087765634\n"
     ]
    },
    {
     "name": "stdout",
     "output_type": "stream",
     "text": [
      "更新\n",
      "更新\n",
      "更新\n",
      "更新\n",
      "更新\n",
      "更新\n"
     ]
    },
    {
     "name": "stderr",
     "output_type": "stream",
     "text": [
      "Model is not converging.  Current: 4924.094868303604 is not greater than 4924.095433323871. Delta is -0.0005650202665492543\n"
     ]
    },
    {
     "name": "stdout",
     "output_type": "stream",
     "text": [
      "更新\n",
      "更新\n"
     ]
    },
    {
     "name": "stderr",
     "output_type": "stream",
     "text": [
      "Model is not converging.  Current: 4853.711769209509 is not greater than 4853.722377742037. Delta is -0.010608532527839998\n",
      "Model is not converging.  Current: 4933.237093772974 is not greater than 4933.248851527818. Delta is -0.01175775484443875\n"
     ]
    },
    {
     "name": "stdout",
     "output_type": "stream",
     "text": [
      "更新\n",
      "更新\n"
     ]
    },
    {
     "name": "stderr",
     "output_type": "stream",
     "text": [
      "Model is not converging.  Current: 4616.35245936378 is not greater than 4639.764125168979. Delta is -23.411665805198936\n"
     ]
    },
    {
     "name": "stdout",
     "output_type": "stream",
     "text": [
      "更新\n",
      "更新\n",
      "更新\n",
      "更新\n",
      "更新\n",
      "更新\n"
     ]
    },
    {
     "name": "stderr",
     "output_type": "stream",
     "text": [
      "Model is not converging.  Current: 4967.347805956242 is not greater than 4967.40199103841. Delta is -0.054185082168260124\n"
     ]
    },
    {
     "name": "stdout",
     "output_type": "stream",
     "text": [
      "更新\n"
     ]
    },
    {
     "name": "stderr",
     "output_type": "stream",
     "text": [
      "Model is not converging.  Current: 4646.462205004886 is not greater than 4646.659034484583. Delta is -0.196829479697044\n"
     ]
    },
    {
     "name": "stdout",
     "output_type": "stream",
     "text": [
      "更新\n"
     ]
    },
    {
     "name": "stderr",
     "output_type": "stream",
     "text": [
      "Model is not converging.  Current: 4629.880756003824 is not greater than 4630.232623713662. Delta is -0.3518677098381886\n"
     ]
    },
    {
     "name": "stdout",
     "output_type": "stream",
     "text": [
      "更新\n",
      "更新\n",
      "更新\n"
     ]
    },
    {
     "name": "stderr",
     "output_type": "stream",
     "text": [
      "Model is not converging.  Current: 4657.323931349689 is not greater than 4657.371102487963. Delta is -0.047171138274279656\n"
     ]
    },
    {
     "name": "stdout",
     "output_type": "stream",
     "text": [
      "更新\n",
      "更新\n",
      "更新\n"
     ]
    },
    {
     "name": "stderr",
     "output_type": "stream",
     "text": [
      "Model is not converging.  Current: 4668.603830493775 is not greater than 4669.126054364922. Delta is -0.5222238711476166\n"
     ]
    },
    {
     "name": "stdout",
     "output_type": "stream",
     "text": [
      "更新\n",
      "更新\n"
     ]
    },
    {
     "name": "stderr",
     "output_type": "stream",
     "text": [
      "Model is not converging.  Current: 4657.339807055374 is not greater than 4657.394931282882. Delta is -0.05512422750780388\n"
     ]
    },
    {
     "name": "stdout",
     "output_type": "stream",
     "text": [
      "更新\n",
      "更新\n",
      "更新\n",
      "更新\n"
     ]
    },
    {
     "name": "stderr",
     "output_type": "stream",
     "text": [
      "Model is not converging.  Current: 4923.568039039964 is not greater than 4923.603501187503. Delta is -0.03546214753896493\n"
     ]
    },
    {
     "name": "stdout",
     "output_type": "stream",
     "text": [
      "更新\n",
      "更新\n",
      "更新\n",
      "更新\n",
      "更新\n",
      "更新\n"
     ]
    },
    {
     "name": "stderr",
     "output_type": "stream",
     "text": [
      "Model is not converging.  Current: 4615.666940139631 is not greater than 4615.708307150074. Delta is -0.04136701044262736\n"
     ]
    },
    {
     "name": "stdout",
     "output_type": "stream",
     "text": [
      "更新\n",
      "更新\n"
     ]
    },
    {
     "name": "stderr",
     "output_type": "stream",
     "text": [
      "Model is not converging.  Current: 5010.2049663618745 is not greater than 5010.240261454706. Delta is -0.03529509283180232\n"
     ]
    },
    {
     "name": "stdout",
     "output_type": "stream",
     "text": [
      "更新\n",
      "更新\n",
      "更新\n",
      "更新\n",
      "更新\n",
      "更新\n",
      "更新\n",
      "更新\n",
      "更新\n",
      "更新\n"
     ]
    },
    {
     "name": "stderr",
     "output_type": "stream",
     "text": [
      "Model is not converging.  Current: 5002.516164922011 is not greater than 5002.529187136376. Delta is -0.013022214365264517\n"
     ]
    },
    {
     "name": "stdout",
     "output_type": "stream",
     "text": [
      "更新\n",
      "更新\n",
      "更新\n",
      "更新\n"
     ]
    },
    {
     "name": "stderr",
     "output_type": "stream",
     "text": [
      "Model is not converging.  Current: 4981.523893632739 is not greater than 4981.5754014775775. Delta is -0.05150784483885218\n"
     ]
    },
    {
     "name": "stdout",
     "output_type": "stream",
     "text": [
      "更新\n",
      "更新\n",
      "更新\n",
      "更新\n",
      "更新\n",
      "更新\n",
      "更新\n",
      "更新\n",
      "更新\n",
      "更新\n"
     ]
    },
    {
     "name": "stderr",
     "output_type": "stream",
     "text": [
      "Model is not converging.  Current: 4967.30132600556 is not greater than 4967.396540959914. Delta is -0.09521495435365068\n"
     ]
    },
    {
     "name": "stdout",
     "output_type": "stream",
     "text": [
      "更新\n",
      "更新\n",
      "更新\n"
     ]
    },
    {
     "name": "stderr",
     "output_type": "stream",
     "text": [
      "Model is not converging.  Current: 4965.227295569406 is not greater than 4965.345937787536. Delta is -0.11864221812993492\n"
     ]
    },
    {
     "name": "stdout",
     "output_type": "stream",
     "text": [
      "更新\n",
      "更新\n"
     ]
    },
    {
     "name": "stderr",
     "output_type": "stream",
     "text": [
      "Model is not converging.  Current: 4961.052710516507 is not greater than 4961.060592516949. Delta is -0.007882000441895798\n"
     ]
    },
    {
     "name": "stdout",
     "output_type": "stream",
     "text": [
      "更新\n",
      "更新\n",
      "更新\n",
      "更新\n",
      "更新\n",
      "更新\n",
      "更新\n"
     ]
    },
    {
     "name": "stderr",
     "output_type": "stream",
     "text": [
      "Model is not converging.  Current: 4956.341657266339 is not greater than 4956.378181026091. Delta is -0.036523759751617035\n"
     ]
    },
    {
     "name": "stdout",
     "output_type": "stream",
     "text": [
      "更新\n",
      "更新\n"
     ]
    },
    {
     "name": "stderr",
     "output_type": "stream",
     "text": [
      "Model is not converging.  Current: 4930.540290562602 is not greater than 4930.558618956785. Delta is -0.018328394182390184\n"
     ]
    },
    {
     "name": "stdout",
     "output_type": "stream",
     "text": [
      "更新\n",
      "更新\n"
     ]
    },
    {
     "name": "stderr",
     "output_type": "stream",
     "text": [
      "Model is not converging.  Current: 4942.941710907147 is not greater than 4942.967123978195. Delta is -0.0254130710472964\n"
     ]
    },
    {
     "name": "stdout",
     "output_type": "stream",
     "text": [
      "更新\n",
      "更新\n"
     ]
    },
    {
     "name": "stderr",
     "output_type": "stream",
     "text": [
      "Model is not converging.  Current: 4942.1022226009645 is not greater than 4942.109597164537. Delta is -0.0073745635727391345\n"
     ]
    },
    {
     "name": "stdout",
     "output_type": "stream",
     "text": [
      "更新\n",
      "更新\n"
     ]
    },
    {
     "name": "stderr",
     "output_type": "stream",
     "text": [
      "Model is not converging.  Current: 4937.270485991823 is not greater than 4937.3068975747. Delta is -0.036411582877008186\n"
     ]
    },
    {
     "name": "stdout",
     "output_type": "stream",
     "text": [
      "更新\n",
      "更新\n",
      "更新\n",
      "更新\n",
      "更新\n"
     ]
    },
    {
     "name": "stderr",
     "output_type": "stream",
     "text": [
      "Model is not converging.  Current: 4891.352286661756 is not greater than 4891.354250540941. Delta is -0.001963879185495898\n"
     ]
    },
    {
     "name": "stdout",
     "output_type": "stream",
     "text": [
      "更新\n",
      "更新\n"
     ]
    },
    {
     "name": "stderr",
     "output_type": "stream",
     "text": [
      "Model is not converging.  Current: 4415.219143574294 is not greater than 4426.083480528928. Delta is -10.864336954633472\n",
      "Model is not converging.  Current: 4959.275316556069 is not greater than 4959.275570650401. Delta is -0.0002540943323765532\n"
     ]
    },
    {
     "name": "stdout",
     "output_type": "stream",
     "text": [
      "更新\n",
      "更新\n",
      "更新\n",
      "更新\n",
      "更新\n",
      "更新\n",
      "更新\n",
      "更新\n",
      "更新\n",
      "更新\n"
     ]
    },
    {
     "name": "stderr",
     "output_type": "stream",
     "text": [
      "Model is not converging.  Current: 4917.386180376395 is not greater than 4917.3871626146665. Delta is -0.000982238271717506\n"
     ]
    },
    {
     "name": "stdout",
     "output_type": "stream",
     "text": [
      "更新\n",
      "更新\n"
     ]
    },
    {
     "name": "stderr",
     "output_type": "stream",
     "text": [
      "Model is not converging.  Current: 4984.971818261337 is not greater than 4984.978880865588. Delta is -0.007062604250677396\n"
     ]
    },
    {
     "name": "stdout",
     "output_type": "stream",
     "text": [
      "更新\n",
      "更新\n",
      "更新\n",
      "更新\n"
     ]
    },
    {
     "name": "stderr",
     "output_type": "stream",
     "text": [
      "Model is not converging.  Current: 4977.183222718086 is not greater than 4977.418932918421. Delta is -0.23571020033523382\n"
     ]
    },
    {
     "name": "stdout",
     "output_type": "stream",
     "text": [
      "更新\n",
      "更新\n"
     ]
    },
    {
     "name": "stderr",
     "output_type": "stream",
     "text": [
      "Model is not converging.  Current: 4973.48624012289 is not greater than 4973.964922929621. Delta is -0.47868280673083063\n"
     ]
    },
    {
     "name": "stdout",
     "output_type": "stream",
     "text": [
      "更新\n",
      "更新\n"
     ]
    },
    {
     "name": "stderr",
     "output_type": "stream",
     "text": [
      "Model is not converging.  Current: 4996.363740501007 is not greater than 4996.394905753697. Delta is -0.03116525268978876\n"
     ]
    },
    {
     "name": "stdout",
     "output_type": "stream",
     "text": [
      "更新\n",
      "更新\n",
      "更新\n",
      "更新\n",
      "更新\n",
      "更新\n",
      "更新\n",
      "更新\n"
     ]
    },
    {
     "name": "stderr",
     "output_type": "stream",
     "text": [
      "Model is not converging.  Current: 4940.21783521084 is not greater than 4940.2208760223. Delta is -0.0030408114598685643\n"
     ]
    },
    {
     "name": "stdout",
     "output_type": "stream",
     "text": [
      "更新\n",
      "更新\n"
     ]
    },
    {
     "name": "stderr",
     "output_type": "stream",
     "text": [
      "Model is not converging.  Current: 4945.501152956977 is not greater than 4945.504273804593. Delta is -0.003120847615718958\n",
      "Model is not converging.  Current: 4999.740687554172 is not greater than 4999.756374709148. Delta is -0.01568715497614903\n"
     ]
    },
    {
     "name": "stdout",
     "output_type": "stream",
     "text": [
      "更新\n",
      "更新\n"
     ]
    },
    {
     "name": "stderr",
     "output_type": "stream",
     "text": [
      "Model is not converging.  Current: 4949.670044695415 is not greater than 4949.672754431255. Delta is -0.002709735840653593\n"
     ]
    },
    {
     "name": "stdout",
     "output_type": "stream",
     "text": [
      "更新\n",
      "更新\n",
      "更新\n",
      "更新\n"
     ]
    },
    {
     "name": "stderr",
     "output_type": "stream",
     "text": [
      "Model is not converging.  Current: 4953.10456532485 is not greater than 4953.107426819979. Delta is -0.0028614951288545853\n"
     ]
    },
    {
     "name": "stdout",
     "output_type": "stream",
     "text": [
      "更新\n",
      "更新\n"
     ]
    },
    {
     "name": "stderr",
     "output_type": "stream",
     "text": [
      "Model is not converging.  Current: 5020.1348571622 is not greater than 5020.2067439648745. Delta is -0.07188680267427117\n"
     ]
    },
    {
     "name": "stdout",
     "output_type": "stream",
     "text": [
      "更新\n",
      "更新\n"
     ]
    },
    {
     "name": "stderr",
     "output_type": "stream",
     "text": [
      "Model is not converging.  Current: 4425.250889611719 is not greater than 4425.256353483672. Delta is -0.005463871952997579\n"
     ]
    },
    {
     "name": "stdout",
     "output_type": "stream",
     "text": [
      "更新\n",
      "更新\n"
     ]
    },
    {
     "name": "stderr",
     "output_type": "stream",
     "text": [
      "Model is not converging.  Current: 4429.358533934531 is not greater than 4429.363701783272. Delta is -0.005167848740711634\n",
      "Model is not converging.  Current: 5022.852307191067 is not greater than 5022.896268694905. Delta is -0.04396150383854547\n"
     ]
    },
    {
     "name": "stdout",
     "output_type": "stream",
     "text": [
      "更新\n",
      "更新\n",
      "更新\n",
      "更新\n",
      "更新\n",
      "更新\n"
     ]
    },
    {
     "name": "stderr",
     "output_type": "stream",
     "text": [
      "Model is not converging.  Current: 5033.0878588744945 is not greater than 5033.089429041829. Delta is -0.0015701673346484313\n"
     ]
    },
    {
     "name": "stdout",
     "output_type": "stream",
     "text": [
      "更新\n",
      "更新\n",
      "更新\n",
      "更新\n"
     ]
    },
    {
     "name": "stderr",
     "output_type": "stream",
     "text": [
      "Model is not converging.  Current: 5038.816424062013 is not greater than 5038.840551155956. Delta is -0.024127093943207\n",
      "Model is not converging.  Current: 4496.7278235545555 is not greater than 4498.438509117628. Delta is -1.7106855630727296\n"
     ]
    },
    {
     "name": "stdout",
     "output_type": "stream",
     "text": [
      "更新\n",
      "更新\n",
      "更新\n",
      "更新\n"
     ]
    },
    {
     "name": "stderr",
     "output_type": "stream",
     "text": [
      "Model is not converging.  Current: 5038.108695249674 is not greater than 5038.180909482649. Delta is -0.0722142329750568\n"
     ]
    },
    {
     "name": "stdout",
     "output_type": "stream",
     "text": [
      "更新\n",
      "更新\n",
      "更新\n",
      "更新\n",
      "更新\n",
      "更新\n",
      "更新\n"
     ]
    },
    {
     "name": "stderr",
     "output_type": "stream",
     "text": [
      "Model is not converging.  Current: 5002.208864288813 is not greater than 5002.210407048962. Delta is -0.0015427601492774556\n"
     ]
    },
    {
     "name": "stdout",
     "output_type": "stream",
     "text": [
      "更新\n",
      "更新\n"
     ]
    },
    {
     "name": "stderr",
     "output_type": "stream",
     "text": [
      "Model is not converging.  Current: 4468.611535826181 is not greater than 4468.6146710124585. Delta is -0.0031351862771771266\n"
     ]
    },
    {
     "name": "stdout",
     "output_type": "stream",
     "text": [
      "更新\n",
      "更新\n",
      "更新\n",
      "更新\n"
     ]
    },
    {
     "name": "stderr",
     "output_type": "stream",
     "text": [
      "Model is not converging.  Current: 5012.633214532959 is not greater than 5012.635095279233. Delta is -0.0018807462738550385\n"
     ]
    },
    {
     "name": "stdout",
     "output_type": "stream",
     "text": [
      "更新\n",
      "更新\n",
      "更新\n"
     ]
    },
    {
     "name": "stderr",
     "output_type": "stream",
     "text": [
      "Model is not converging.  Current: 4516.913232331187 is not greater than 4517.135614816161. Delta is -0.22238248497433233\n"
     ]
    },
    {
     "name": "stdout",
     "output_type": "stream",
     "text": [
      "更新\n",
      "更新\n"
     ]
    },
    {
     "name": "stderr",
     "output_type": "stream",
     "text": [
      "Model is not converging.  Current: 5080.300731972748 is not greater than 5080.386162065065. Delta is -0.08543009231743781\n"
     ]
    },
    {
     "name": "stdout",
     "output_type": "stream",
     "text": [
      "更新\n",
      "更新\n",
      "更新\n"
     ]
    },
    {
     "name": "stderr",
     "output_type": "stream",
     "text": [
      "Model is not converging.  Current: 5023.939506740108 is not greater than 5023.940713552818. Delta is -0.0012068127098245895\n",
      "Model is not converging.  Current: 4530.704646626961 is not greater than 4531.0305246807875. Delta is -0.32587805382627266\n"
     ]
    },
    {
     "name": "stdout",
     "output_type": "stream",
     "text": [
      "更新\n",
      "更新\n"
     ]
    },
    {
     "name": "stderr",
     "output_type": "stream",
     "text": [
      "Model is not converging.  Current: 5089.282832221234 is not greater than 5089.339608287977. Delta is -0.05677606674362323\n"
     ]
    },
    {
     "name": "stdout",
     "output_type": "stream",
     "text": [
      "更新\n",
      "更新\n",
      "更新\n",
      "更新\n",
      "更新\n",
      "更新\n"
     ]
    },
    {
     "name": "stderr",
     "output_type": "stream",
     "text": [
      "Model is not converging.  Current: 4565.893487381248 is not greater than 4566.066853354332. Delta is -0.17336597308440105\n"
     ]
    },
    {
     "name": "stdout",
     "output_type": "stream",
     "text": [
      "更新\n",
      "更新\n",
      "更新\n",
      "更新\n"
     ]
    },
    {
     "name": "stderr",
     "output_type": "stream",
     "text": [
      "Model is not converging.  Current: 5048.582794273728 is not greater than 5048.58370705709. Delta is -0.000912783361854963\n"
     ]
    },
    {
     "name": "stdout",
     "output_type": "stream",
     "text": [
      "更新\n",
      "更新\n"
     ]
    },
    {
     "name": "stderr",
     "output_type": "stream",
     "text": [
      "Model is not converging.  Current: 4579.163145145744 is not greater than 4579.309716724925. Delta is -0.14657157918099983\n"
     ]
    },
    {
     "name": "stdout",
     "output_type": "stream",
     "text": [
      "更新\n",
      "更新\n"
     ]
    },
    {
     "name": "stderr",
     "output_type": "stream",
     "text": [
      "Model is not converging.  Current: 5060.666673412615 is not greater than 5060.6669782924855. Delta is -0.00030487987078231527\n"
     ]
    },
    {
     "name": "stdout",
     "output_type": "stream",
     "text": [
      "更新\n",
      "更新\n"
     ]
    },
    {
     "name": "stderr",
     "output_type": "stream",
     "text": [
      "Model is not converging.  Current: 5119.766757701286 is not greater than 5119.860387263217. Delta is -0.09362956193035643\n",
      "Model is not converging.  Current: 5015.291395969791 is not greater than 5015.430079439563. Delta is -0.1386834697723316\n"
     ]
    },
    {
     "name": "stdout",
     "output_type": "stream",
     "text": [
      "更新\n",
      "更新\n",
      "更新\n",
      "更新\n",
      "更新\n"
     ]
    },
    {
     "name": "stderr",
     "output_type": "stream",
     "text": [
      "Model is not converging.  Current: 4599.514999181384 is not greater than 4599.609150624888. Delta is -0.09415144350350602\n"
     ]
    },
    {
     "name": "stdout",
     "output_type": "stream",
     "text": [
      "更新\n",
      "更新\n",
      "更新\n"
     ]
    },
    {
     "name": "stderr",
     "output_type": "stream",
     "text": [
      "Model is not converging.  Current: 5131.641280025305 is not greater than 5131.696540663159. Delta is -0.055260637854189554\n"
     ]
    },
    {
     "name": "stdout",
     "output_type": "stream",
     "text": [
      "更新\n",
      "更新\n",
      "更新\n",
      "更新\n",
      "更新\n",
      "更新\n",
      "更新\n",
      "更新\n"
     ]
    },
    {
     "name": "stderr",
     "output_type": "stream",
     "text": [
      "Model is not converging.  Current: 5097.104449943768 is not greater than 5097.105712035427. Delta is -0.0012620916595551535\n"
     ]
    },
    {
     "name": "stdout",
     "output_type": "stream",
     "text": [
      "更新\n",
      "更新\n",
      "更新\n",
      "更新\n"
     ]
    },
    {
     "name": "stderr",
     "output_type": "stream",
     "text": [
      "Model is not converging.  Current: 5149.683196630289 is not greater than 5149.695370271354. Delta is -0.012173641064691765\n",
      "Model is not converging.  Current: 5146.528057098661 is not greater than 5146.539184222766. Delta is -0.011127124105769326\n"
     ]
    },
    {
     "name": "stdout",
     "output_type": "stream",
     "text": [
      "更新\n",
      "更新\n"
     ]
    },
    {
     "name": "stderr",
     "output_type": "stream",
     "text": [
      "Model is not converging.  Current: 5155.644695763281 is not greater than 5155.724684561828. Delta is -0.07998879854767438\n"
     ]
    },
    {
     "name": "stdout",
     "output_type": "stream",
     "text": [
      "更新\n",
      "更新\n"
     ]
    },
    {
     "name": "stderr",
     "output_type": "stream",
     "text": [
      "Model is not converging.  Current: 4618.912842800168 is not greater than 4619.380286620927. Delta is -0.4674438207593994\n"
     ]
    },
    {
     "name": "stdout",
     "output_type": "stream",
     "text": [
      "更新\n"
     ]
    },
    {
     "name": "stderr",
     "output_type": "stream",
     "text": [
      "Model is not converging.  Current: 5073.3083549435905 is not greater than 5073.324454085203. Delta is -0.016099141612357926\n"
     ]
    },
    {
     "name": "stdout",
     "output_type": "stream",
     "text": [
      "更新\n",
      "更新\n",
      "更新\n",
      "更新\n",
      "更新\n"
     ]
    },
    {
     "name": "stderr",
     "output_type": "stream",
     "text": [
      "Model is not converging.  Current: 4590.347358376335 is not greater than 4590.35224714106. Delta is -0.004888764724455541\n"
     ]
    },
    {
     "name": "stdout",
     "output_type": "stream",
     "text": [
      "更新\n"
     ]
    },
    {
     "name": "stderr",
     "output_type": "stream",
     "text": [
      "Model is not converging.  Current: 5159.108383370635 is not greater than 5159.127135536516. Delta is -0.018752165880869143\n",
      "Model is not converging.  Current: 5092.061932628723 is not greater than 5092.068163762681. Delta is -0.006231133957953716\n"
     ]
    },
    {
     "name": "stdout",
     "output_type": "stream",
     "text": [
      "更新\n",
      "更新\n",
      "更新\n",
      "更新\n",
      "更新\n"
     ]
    },
    {
     "name": "stderr",
     "output_type": "stream",
     "text": [
      "Model is not converging.  Current: 5147.385932805175 is not greater than 5147.389082378266. Delta is -0.003149573090922786\n"
     ]
    },
    {
     "name": "stdout",
     "output_type": "stream",
     "text": [
      "更新\n",
      "更新\n",
      "更新\n",
      "更新\n",
      "更新\n",
      "更新\n",
      "更新\n",
      "更新\n",
      "更新\n",
      "更新\n",
      "更新\n",
      "更新\n",
      "更新\n"
     ]
    },
    {
     "name": "stderr",
     "output_type": "stream",
     "text": [
      "Model is not converging.  Current: 5210.030610352322 is not greater than 5210.069806446891. Delta is -0.03919609456897888\n"
     ]
    },
    {
     "name": "stdout",
     "output_type": "stream",
     "text": [
      "更新\n"
     ]
    },
    {
     "name": "stderr",
     "output_type": "stream",
     "text": [
      "Model is not converging.  Current: 5143.424650412055 is not greater than 5143.424693845129. Delta is -4.343307409726549e-05\n"
     ]
    },
    {
     "name": "stdout",
     "output_type": "stream",
     "text": [
      "更新\n",
      "更新\n",
      "更新\n",
      "更新\n",
      "更新\n",
      "更新\n",
      "更新\n"
     ]
    },
    {
     "name": "stderr",
     "output_type": "stream",
     "text": [
      "Model is not converging.  Current: 5227.280563341077 is not greater than 5227.306742210696. Delta is -0.02617886961888871\n"
     ]
    },
    {
     "name": "stdout",
     "output_type": "stream",
     "text": [
      "更新\n"
     ]
    },
    {
     "name": "stderr",
     "output_type": "stream",
     "text": [
      "Model is not converging.  Current: 5166.045251496647 is not greater than 5166.1166568967965. Delta is -0.07140540014916041\n"
     ]
    },
    {
     "name": "stdout",
     "output_type": "stream",
     "text": [
      "更新\n",
      "更新\n"
     ]
    },
    {
     "name": "stderr",
     "output_type": "stream",
     "text": [
      "Model is not converging.  Current: 5200.29661134838 is not greater than 5200.3004513603755. Delta is -0.0038400119956349954\n"
     ]
    },
    {
     "name": "stdout",
     "output_type": "stream",
     "text": [
      "更新\n"
     ]
    },
    {
     "name": "stderr",
     "output_type": "stream",
     "text": [
      "Model is not converging.  Current: 4664.84794657779 is not greater than 4664.896957621107. Delta is -0.04901104331656825\n"
     ]
    },
    {
     "name": "stdout",
     "output_type": "stream",
     "text": [
      "更新\n",
      "更新\n",
      "更新\n",
      "更新\n",
      "更新\n"
     ]
    },
    {
     "name": "stderr",
     "output_type": "stream",
     "text": [
      "Model is not converging.  Current: 5245.832511576133 is not greater than 5245.850019671052. Delta is -0.017508094919321593\n"
     ]
    },
    {
     "name": "stdout",
     "output_type": "stream",
     "text": [
      "更新\n"
     ]
    },
    {
     "name": "stderr",
     "output_type": "stream",
     "text": [
      "Model is not converging.  Current: 5217.895278806451 is not greater than 5217.899252309965. Delta is -0.00397350351431669\n"
     ]
    },
    {
     "name": "stdout",
     "output_type": "stream",
     "text": [
      "更新\n",
      "更新\n"
     ]
    },
    {
     "name": "stderr",
     "output_type": "stream",
     "text": [
      "Model is not converging.  Current: 5259.968550275296 is not greater than 5259.982781338898. Delta is -0.014231063601982896\n"
     ]
    },
    {
     "name": "stdout",
     "output_type": "stream",
     "text": [
      "更新\n",
      "更新\n",
      "更新\n",
      "更新\n"
     ]
    },
    {
     "name": "stderr",
     "output_type": "stream",
     "text": [
      "Model is not converging.  Current: 4693.146288782467 is not greater than 4693.1639430077585. Delta is -0.017654225291153125\n"
     ]
    },
    {
     "name": "stdout",
     "output_type": "stream",
     "text": [
      "更新\n",
      "更新\n"
     ]
    },
    {
     "name": "stderr",
     "output_type": "stream",
     "text": [
      "Model is not converging.  Current: 5236.7837707200115 is not greater than 5236.788535268484. Delta is -0.004764548472849128\n"
     ]
    },
    {
     "name": "stdout",
     "output_type": "stream",
     "text": [
      "更新\n",
      "更新\n"
     ]
    },
    {
     "name": "stderr",
     "output_type": "stream",
     "text": [
      "Model is not converging.  Current: 5242.060380268032 is not greater than 5242.064950018664. Delta is -0.0045697506320721\n"
     ]
    },
    {
     "name": "stdout",
     "output_type": "stream",
     "text": [
      "更新\n",
      "更新\n",
      "更新\n"
     ]
    },
    {
     "name": "stderr",
     "output_type": "stream",
     "text": [
      "Model is not converging.  Current: 4775.872831285809 is not greater than 4776.523945766761. Delta is -0.6511144809519465\n"
     ]
    },
    {
     "name": "stdout",
     "output_type": "stream",
     "text": [
      "更新\n",
      "更新\n",
      "更新\n",
      "更新\n",
      "更新\n"
     ]
    },
    {
     "name": "stderr",
     "output_type": "stream",
     "text": [
      "Model is not converging.  Current: 5246.637213401273 is not greater than 5246.755211010996. Delta is -0.11799760972371587\n"
     ]
    },
    {
     "name": "stdout",
     "output_type": "stream",
     "text": [
      "更新\n"
     ]
    },
    {
     "name": "stderr",
     "output_type": "stream",
     "text": [
      "Model is not converging.  Current: 5262.330260458344 is not greater than 5262.333288002101. Delta is -0.003027543756616069\n"
     ]
    },
    {
     "name": "stdout",
     "output_type": "stream",
     "text": [
      "更新\n",
      "更新\n",
      "更新\n"
     ]
    },
    {
     "name": "stderr",
     "output_type": "stream",
     "text": [
      "Model is not converging.  Current: 5302.924532747381 is not greater than 5302.984525050385. Delta is -0.05999230300403724\n"
     ]
    },
    {
     "name": "stdout",
     "output_type": "stream",
     "text": [
      "更新\n",
      "更新\n"
     ]
    },
    {
     "name": "stderr",
     "output_type": "stream",
     "text": [
      "Model is not converging.  Current: 5333.598565608536 is not greater than 5333.67238157341. Delta is -0.07381596487448405\n"
     ]
    },
    {
     "name": "stdout",
     "output_type": "stream",
     "text": [
      "更新\n",
      "更新\n"
     ]
    },
    {
     "name": "stderr",
     "output_type": "stream",
     "text": [
      "Model is not converging.  Current: 5319.53124158089 is not greater than 5319.584356318481. Delta is -0.05311473759047658\n"
     ]
    },
    {
     "name": "stdout",
     "output_type": "stream",
     "text": [
      "更新\n",
      "更新\n",
      "更新\n"
     ]
    },
    {
     "name": "stderr",
     "output_type": "stream",
     "text": [
      "Model is not converging.  Current: 5249.619785946857 is not greater than 5249.621345323959. Delta is -0.001559377102239523\n"
     ]
    },
    {
     "name": "stdout",
     "output_type": "stream",
     "text": [
      "更新\n",
      "更新\n"
     ]
    },
    {
     "name": "stderr",
     "output_type": "stream",
     "text": [
      "Model is not converging.  Current: 4740.860021875758 is not greater than 4740.876890186736. Delta is -0.016868310977770307\n"
     ]
    },
    {
     "name": "stdout",
     "output_type": "stream",
     "text": [
      "更新\n"
     ]
    },
    {
     "name": "stderr",
     "output_type": "stream",
     "text": [
      "Model is not converging.  Current: 5338.824478663742 is not greater than 5338.852603268287. Delta is -0.028124604544245813\n"
     ]
    },
    {
     "name": "stdout",
     "output_type": "stream",
     "text": [
      "更新\n",
      "更新\n",
      "更新\n",
      "更新\n"
     ]
    },
    {
     "name": "stderr",
     "output_type": "stream",
     "text": [
      "Model is not converging.  Current: 5285.353100324331 is not greater than 5285.356767724545. Delta is -0.003667400213998917\n"
     ]
    },
    {
     "name": "stdout",
     "output_type": "stream",
     "text": [
      "更新\n",
      "更新\n"
     ]
    },
    {
     "name": "stderr",
     "output_type": "stream",
     "text": [
      "Model is not converging.  Current: 5348.874018224265 is not greater than 5348.8905916235235. Delta is -0.016573399258959398\n",
      "Model is not converging.  Current: 5290.968334674513 is not greater than 5291.0543311952715. Delta is -0.0859965207582718\n"
     ]
    },
    {
     "name": "stdout",
     "output_type": "stream",
     "text": [
      "更新\n",
      "更新\n",
      "更新\n"
     ]
    },
    {
     "name": "stderr",
     "output_type": "stream",
     "text": [
      "Model is not converging.  Current: 5298.780733796247 is not greater than 5298.783953965505. Delta is -0.003220169258383976\n"
     ]
    },
    {
     "name": "stdout",
     "output_type": "stream",
     "text": [
      "更新\n",
      "更新\n",
      "更新\n",
      "更新\n"
     ]
    },
    {
     "name": "stderr",
     "output_type": "stream",
     "text": [
      "Model is not converging.  Current: 5367.166744030846 is not greater than 5367.171785238174. Delta is -0.005041207328758901\n"
     ]
    },
    {
     "name": "stdout",
     "output_type": "stream",
     "text": [
      "更新\n",
      "更新\n"
     ]
    },
    {
     "name": "stderr",
     "output_type": "stream",
     "text": [
      "Model is not converging.  Current: 5370.8753474911755 is not greater than 5370.919775617338. Delta is -0.044428126162529225\n"
     ]
    },
    {
     "name": "stdout",
     "output_type": "stream",
     "text": [
      "更新\n",
      "更新\n",
      "更新\n"
     ]
    },
    {
     "name": "stderr",
     "output_type": "stream",
     "text": [
      "Model is not converging.  Current: 5360.708800263206 is not greater than 5360.733620111056. Delta is -0.024819847849357757\n"
     ]
    },
    {
     "name": "stdout",
     "output_type": "stream",
     "text": [
      "更新\n",
      "更新\n"
     ]
    },
    {
     "name": "stderr",
     "output_type": "stream",
     "text": [
      "Model is not converging.  Current: 5369.028677076363 is not greater than 5369.1251070061235. Delta is -0.09642992976023379\n"
     ]
    },
    {
     "name": "stdout",
     "output_type": "stream",
     "text": [
      "更新\n",
      "更新\n"
     ]
    },
    {
     "name": "stderr",
     "output_type": "stream",
     "text": [
      "Model is not converging.  Current: 5377.38506614008 is not greater than 5377.394997623263. Delta is -0.009931483183208911\n"
     ]
    },
    {
     "name": "stdout",
     "output_type": "stream",
     "text": [
      "更新\n",
      "更新\n",
      "更新\n",
      "更新\n",
      "更新\n",
      "更新\n",
      "更新\n",
      "更新\n",
      "更新\n",
      "更新\n",
      "更新\n",
      "更新\n",
      "更新\n"
     ]
    },
    {
     "name": "stderr",
     "output_type": "stream",
     "text": [
      "Model is not converging.  Current: 5408.408405863237 is not greater than 5408.574488313284. Delta is -0.1660824500468152\n"
     ]
    },
    {
     "name": "stdout",
     "output_type": "stream",
     "text": [
      "更新\n",
      "更新\n",
      "更新\n",
      "更新\n",
      "更新\n"
     ]
    },
    {
     "name": "stderr",
     "output_type": "stream",
     "text": [
      "Model is not converging.  Current: 5423.608924302586 is not greater than 5423.626298492725. Delta is -0.01737419013898034\n"
     ]
    },
    {
     "name": "stdout",
     "output_type": "stream",
     "text": [
      "更新\n",
      "更新\n",
      "更新\n",
      "更新\n",
      "更新\n",
      "更新\n"
     ]
    },
    {
     "name": "stderr",
     "output_type": "stream",
     "text": [
      "Model is not converging.  Current: 5408.9974527863515 is not greater than 5409.104119069959. Delta is -0.10666628360741015\n"
     ]
    },
    {
     "name": "stdout",
     "output_type": "stream",
     "text": [
      "更新\n"
     ]
    },
    {
     "name": "stderr",
     "output_type": "stream",
     "text": [
      "Model is not converging.  Current: 5436.2802418265655 is not greater than 5436.48464283713. Delta is -0.2044010105646521\n"
     ]
    },
    {
     "name": "stdout",
     "output_type": "stream",
     "text": [
      "更新\n",
      "更新\n"
     ]
    },
    {
     "name": "stderr",
     "output_type": "stream",
     "text": [
      "Model is not converging.  Current: 5440.678834133914 is not greater than 5440.723215932778. Delta is -0.04438179886346916\n"
     ]
    },
    {
     "name": "stdout",
     "output_type": "stream",
     "text": [
      "更新\n",
      "更新\n",
      "更新\n",
      "更新\n"
     ]
    },
    {
     "name": "stderr",
     "output_type": "stream",
     "text": [
      "Model is not converging.  Current: 5426.763836943487 is not greater than 5426.765108540459. Delta is -0.0012715969714918174\n",
      "Model is not converging.  Current: 5451.540453838081 is not greater than 5451.548996365553. Delta is -0.008542527471945505\n"
     ]
    },
    {
     "name": "stdout",
     "output_type": "stream",
     "text": [
      "更新\n",
      "更新\n"
     ]
    },
    {
     "name": "stderr",
     "output_type": "stream",
     "text": [
      "Model is not converging.  Current: 5454.764571622525 is not greater than 5454.775968637407. Delta is -0.011397014881367795\n"
     ]
    },
    {
     "name": "stdout",
     "output_type": "stream",
     "text": [
      "更新\n",
      "更新\n"
     ]
    },
    {
     "name": "stderr",
     "output_type": "stream",
     "text": [
      "Model is not converging.  Current: 5454.233191446186 is not greater than 5454.241935999982. Delta is -0.008744553796532273\n"
     ]
    },
    {
     "name": "stdout",
     "output_type": "stream",
     "text": [
      "更新\n"
     ]
    },
    {
     "name": "stderr",
     "output_type": "stream",
     "text": [
      "Model is not converging.  Current: 5454.749729100601 is not greater than 5454.794804255866. Delta is -0.0450751552652946\n"
     ]
    },
    {
     "name": "stdout",
     "output_type": "stream",
     "text": [
      "更新\n"
     ]
    },
    {
     "name": "stderr",
     "output_type": "stream",
     "text": [
      "Model is not converging.  Current: 5457.474273186151 is not greater than 5457.492705119435. Delta is -0.01843193328477355\n"
     ]
    },
    {
     "name": "stdout",
     "output_type": "stream",
     "text": [
      "更新\n",
      "更新\n",
      "更新\n",
      "更新\n",
      "更新\n",
      "更新\n"
     ]
    },
    {
     "name": "stderr",
     "output_type": "stream",
     "text": [
      "Model is not converging.  Current: 5470.820512182018 is not greater than 5470.830153676888. Delta is -0.009641494869356393\n"
     ]
    },
    {
     "name": "stdout",
     "output_type": "stream",
     "text": [
      "更新\n",
      "更新\n"
     ]
    },
    {
     "name": "stderr",
     "output_type": "stream",
     "text": [
      "Model is not converging.  Current: 5481.007993948829 is not greater than 5481.022693785923. Delta is -0.0146998370946676\n"
     ]
    },
    {
     "name": "stdout",
     "output_type": "stream",
     "text": [
      "更新\n",
      "更新\n",
      "更新\n",
      "更新\n"
     ]
    },
    {
     "name": "stderr",
     "output_type": "stream",
     "text": [
      "Model is not converging.  Current: 4974.1588613989 is not greater than 4974.376707708986. Delta is -0.2178463100863155\n"
     ]
    },
    {
     "name": "stdout",
     "output_type": "stream",
     "text": [
      "更新\n"
     ]
    },
    {
     "name": "stderr",
     "output_type": "stream",
     "text": [
      "Model is not converging.  Current: 4911.152534249037 is not greater than 4911.15588263303. Delta is -0.0033483839933978743\n",
      "Model is not converging.  Current: 5501.5820484008755 is not greater than 5501.592975718445. Delta is -0.010927317569439765\n"
     ]
    },
    {
     "name": "stdout",
     "output_type": "stream",
     "text": [
      "更新\n",
      "更新\n",
      "更新\n"
     ]
    },
    {
     "name": "stderr",
     "output_type": "stream",
     "text": [
      "Model is not converging.  Current: 5509.153563099759 is not greater than 5509.159869612406. Delta is -0.0063065126469155075\n"
     ]
    },
    {
     "name": "stdout",
     "output_type": "stream",
     "text": [
      "更新\n",
      "更新\n",
      "更新\n",
      "更新\n",
      "更新\n",
      "更新\n",
      "更新\n",
      "更新\n"
     ]
    },
    {
     "name": "stderr",
     "output_type": "stream",
     "text": [
      "Model is not converging.  Current: 5527.128228649787 is not greater than 5527.12915643419. Delta is -0.0009277844028474647\n",
      "Model is not converging.  Current: 5530.50269247548 is not greater than 5530.505497914017. Delta is -0.0028054385365976486\n"
     ]
    },
    {
     "name": "stdout",
     "output_type": "stream",
     "text": [
      "更新\n",
      "更新\n",
      "更新\n",
      "更新\n",
      "更新\n"
     ]
    },
    {
     "name": "stderr",
     "output_type": "stream",
     "text": [
      "Model is not converging.  Current: 5506.860072153881 is not greater than 5506.8707810019705. Delta is -0.01070884808905248\n"
     ]
    },
    {
     "name": "stdout",
     "output_type": "stream",
     "text": [
      "更新\n",
      "更新\n"
     ]
    },
    {
     "name": "stderr",
     "output_type": "stream",
     "text": [
      "Model is not converging.  Current: 5548.584697405561 is not greater than 5548.594725076692. Delta is -0.01002767113095615\n"
     ]
    },
    {
     "name": "stdout",
     "output_type": "stream",
     "text": [
      "更新\n",
      "更新\n",
      "更新\n",
      "更新\n",
      "更新\n"
     ]
    },
    {
     "name": "stderr",
     "output_type": "stream",
     "text": [
      "Model is not converging.  Current: 5561.785184837126 is not greater than 5562.057715141855. Delta is -0.2725303047291163\n",
      "Model is not converging.  Current: 5532.318067272571 is not greater than 5532.496657558511. Delta is -0.1785902859401176\n"
     ]
    },
    {
     "name": "stdout",
     "output_type": "stream",
     "text": [
      "更新\n",
      "更新\n"
     ]
    },
    {
     "name": "stderr",
     "output_type": "stream",
     "text": [
      "Model is not converging.  Current: 5535.251960276975 is not greater than 5535.2536992060295. Delta is -0.001738929054226901\n"
     ]
    },
    {
     "name": "stdout",
     "output_type": "stream",
     "text": [
      "更新\n",
      "更新\n"
     ]
    },
    {
     "name": "stderr",
     "output_type": "stream",
     "text": [
      "Model is not converging.  Current: 5571.924143735435 is not greater than 5571.940897296903. Delta is -0.016753561468249245\n"
     ]
    },
    {
     "name": "stdout",
     "output_type": "stream",
     "text": [
      "更新\n",
      "更新\n"
     ]
    },
    {
     "name": "stderr",
     "output_type": "stream",
     "text": [
      "Model is not converging.  Current: 5527.350801311758 is not greater than 5527.4013844524425. Delta is -0.05058314068446634\n"
     ]
    },
    {
     "name": "stdout",
     "output_type": "stream",
     "text": [
      "更新\n",
      "更新\n"
     ]
    },
    {
     "name": "stderr",
     "output_type": "stream",
     "text": [
      "Model is not converging.  Current: 5537.79186071714 is not greater than 5537.878829125. Delta is -0.08696840786069515\n",
      "Model is not converging.  Current: 5574.044172471493 is not greater than 5574.115750352363. Delta is -0.07157788086988148\n"
     ]
    },
    {
     "name": "stdout",
     "output_type": "stream",
     "text": [
      "更新\n",
      "更新\n",
      "更新\n",
      "更新\n",
      "更新\n",
      "更新\n"
     ]
    },
    {
     "name": "stderr",
     "output_type": "stream",
     "text": [
      "Model is not converging.  Current: 5563.237950860182 is not greater than 5563.249311307987. Delta is -0.011360447805600415\n"
     ]
    },
    {
     "name": "stdout",
     "output_type": "stream",
     "text": [
      "更新\n",
      "更新\n",
      "更新\n",
      "更新\n",
      "更新\n",
      "更新\n",
      "更新\n",
      "更新\n",
      "更新\n",
      "更新\n",
      "更新\n",
      "更新\n",
      "更新\n",
      "更新\n"
     ]
    },
    {
     "name": "stderr",
     "output_type": "stream",
     "text": [
      "Model is not converging.  Current: 5552.247918891765 is not greater than 5552.35739377844. Delta is -0.10947488667534344\n"
     ]
    },
    {
     "name": "stdout",
     "output_type": "stream",
     "text": [
      "更新\n"
     ]
    },
    {
     "name": "stderr",
     "output_type": "stream",
     "text": [
      "Model is not converging.  Current: 4941.4896439993645 is not greater than 4941.497012866462. Delta is -0.007368867097284237\n"
     ]
    },
    {
     "name": "stdout",
     "output_type": "stream",
     "text": [
      "更新\n",
      "更新\n"
     ]
    },
    {
     "name": "stderr",
     "output_type": "stream",
     "text": [
      "Model is not converging.  Current: 5553.131525249957 is not greater than 5553.229672328485. Delta is -0.09814707852819993\n"
     ]
    },
    {
     "name": "stdout",
     "output_type": "stream",
     "text": [
      "更新\n"
     ]
    },
    {
     "name": "stderr",
     "output_type": "stream",
     "text": [
      "Model is not converging.  Current: 5554.832561997207 is not greater than 5554.835142184749. Delta is -0.002580187541752821\n",
      "Model is not converging.  Current: 5555.528913662215 is not greater than 5555.83578809016. Delta is -0.30687442794533126\n"
     ]
    },
    {
     "name": "stdout",
     "output_type": "stream",
     "text": [
      "更新\n",
      "更新\n"
     ]
    },
    {
     "name": "stderr",
     "output_type": "stream",
     "text": [
      "Model is not converging.  Current: 5534.017298802864 is not greater than 5534.1434154386425. Delta is -0.1261166357780894\n"
     ]
    },
    {
     "name": "stdout",
     "output_type": "stream",
     "text": [
      "更新\n",
      "更新\n",
      "更新\n"
     ]
    },
    {
     "name": "stderr",
     "output_type": "stream",
     "text": [
      "Model is not converging.  Current: 5564.670002248176 is not greater than 5564.816122321862. Delta is -0.14612007368577906\n"
     ]
    },
    {
     "name": "stdout",
     "output_type": "stream",
     "text": [
      "更新\n",
      "更新\n"
     ]
    },
    {
     "name": "stderr",
     "output_type": "stream",
     "text": [
      "Model is not converging.  Current: 5498.8853368818145 is not greater than 5498.88770483689. Delta is -0.0023679550758970436\n"
     ]
    },
    {
     "name": "stdout",
     "output_type": "stream",
     "text": [
      "更新\n"
     ]
    },
    {
     "name": "stderr",
     "output_type": "stream",
     "text": [
      "Model is not converging.  Current: 5564.88479160005 is not greater than 5564.8945888429525. Delta is -0.009797242902095604\n"
     ]
    },
    {
     "name": "stdout",
     "output_type": "stream",
     "text": [
      "更新\n",
      "更新\n"
     ]
    },
    {
     "name": "stderr",
     "output_type": "stream",
     "text": [
      "Model is not converging.  Current: 5566.656912964511 is not greater than 5566.68359152025. Delta is -0.026678555738726573\n"
     ]
    },
    {
     "name": "stdout",
     "output_type": "stream",
     "text": [
      "更新\n"
     ]
    },
    {
     "name": "stderr",
     "output_type": "stream",
     "text": [
      "Model is not converging.  Current: 5506.759077579554 is not greater than 5506.764385102697. Delta is -0.005307523142619175\n",
      "Model is not converging.  Current: 5569.16412138263 is not greater than 5569.183868379667. Delta is -0.019746997037145775\n"
     ]
    },
    {
     "name": "stdout",
     "output_type": "stream",
     "text": [
      "更新\n",
      "更新\n"
     ]
    },
    {
     "name": "stderr",
     "output_type": "stream",
     "text": [
      "Model is not converging.  Current: 5572.038175208173 is not greater than 5572.083185526829. Delta is -0.04501031865584082\n",
      "Model is not converging.  Current: 5030.833844624351 is not greater than 5031.054807338681. Delta is -0.22096271433019865\n"
     ]
    },
    {
     "name": "stdout",
     "output_type": "stream",
     "text": [
      "更新\n",
      "更新\n"
     ]
    },
    {
     "name": "stderr",
     "output_type": "stream",
     "text": [
      "Model is not converging.  Current: 5577.187362716125 is not greater than 5577.261588278684. Delta is -0.0742255625591497\n"
     ]
    },
    {
     "name": "stdout",
     "output_type": "stream",
     "text": [
      "更新\n",
      "更新\n"
     ]
    },
    {
     "name": "stderr",
     "output_type": "stream",
     "text": [
      "Model is not converging.  Current: 5519.614955882099 is not greater than 5519.617072571158. Delta is -0.002116689059221244\n"
     ]
    },
    {
     "name": "stdout",
     "output_type": "stream",
     "text": [
      "更新\n"
     ]
    },
    {
     "name": "stderr",
     "output_type": "stream",
     "text": [
      "Model is not converging.  Current: 5586.954819995383 is not greater than 5587.071290700508. Delta is -0.1164707051248115\n",
      "Model is not converging.  Current: 5583.636826324614 is not greater than 5583.668474304251. Delta is -0.03164797963654564\n"
     ]
    },
    {
     "name": "stdout",
     "output_type": "stream",
     "text": [
      "更新\n",
      "更新\n",
      "更新\n",
      "更新\n"
     ]
    },
    {
     "name": "stderr",
     "output_type": "stream",
     "text": [
      "Model is not converging.  Current: 5528.76387507411 is not greater than 5528.7694512393655. Delta is -0.005576165255661181\n"
     ]
    },
    {
     "name": "stdout",
     "output_type": "stream",
     "text": [
      "更新\n"
     ]
    },
    {
     "name": "stderr",
     "output_type": "stream",
     "text": [
      "Model is not converging.  Current: 5529.9182961088645 is not greater than 5529.920117628373. Delta is -0.0018215195086668245\n"
     ]
    },
    {
     "name": "stdout",
     "output_type": "stream",
     "text": [
      "更新\n",
      "更新\n",
      "更新\n",
      "更新\n"
     ]
    },
    {
     "name": "stderr",
     "output_type": "stream",
     "text": [
      "Model is not converging.  Current: 5527.167069183114 is not greater than 5527.169158013757. Delta is -0.002088830642605899\n"
     ]
    },
    {
     "name": "stdout",
     "output_type": "stream",
     "text": [
      "更新\n"
     ]
    },
    {
     "name": "stderr",
     "output_type": "stream",
     "text": [
      "Model is not converging.  Current: 5528.115556007164 is not greater than 5528.120865536828. Delta is -0.005309529664373258\n"
     ]
    },
    {
     "name": "stdout",
     "output_type": "stream",
     "text": [
      "更新\n"
     ]
    },
    {
     "name": "stderr",
     "output_type": "stream",
     "text": [
      "Model is not converging.  Current: 5589.485294934073 is not greater than 5589.589408911393. Delta is -0.10411397731968464\n"
     ]
    },
    {
     "name": "stdout",
     "output_type": "stream",
     "text": [
      "更新\n",
      "更新\n",
      "更新\n",
      "更新\n"
     ]
    },
    {
     "name": "stderr",
     "output_type": "stream",
     "text": [
      "Model is not converging.  Current: 5537.183963175196 is not greater than 5537.189003707473. Delta is -0.0050405322763253935\n"
     ]
    },
    {
     "name": "stdout",
     "output_type": "stream",
     "text": [
      "更新\n",
      "更新\n",
      "更新\n",
      "更新\n"
     ]
    },
    {
     "name": "stderr",
     "output_type": "stream",
     "text": [
      "Model is not converging.  Current: 5544.402983545706 is not greater than 5544.406540872099. Delta is -0.003557326393092808\n"
     ]
    },
    {
     "name": "stdout",
     "output_type": "stream",
     "text": [
      "更新\n",
      "更新\n",
      "更新\n",
      "更新\n"
     ]
    },
    {
     "name": "stderr",
     "output_type": "stream",
     "text": [
      "Model is not converging.  Current: 5607.202904782495 is not greater than 5607.255432471935. Delta is -0.052527689439557435\n"
     ]
    },
    {
     "name": "stdout",
     "output_type": "stream",
     "text": [
      "更新\n",
      "更新\n",
      "更新\n"
     ]
    },
    {
     "name": "stderr",
     "output_type": "stream",
     "text": [
      "Model is not converging.  Current: 5591.0584080857925 is not greater than 5591.065744347945. Delta is -0.007336262152421114\n"
     ]
    },
    {
     "name": "stdout",
     "output_type": "stream",
     "text": [
      "更新\n"
     ]
    },
    {
     "name": "stderr",
     "output_type": "stream",
     "text": [
      "Model is not converging.  Current: 5552.000116755214 is not greater than 5552.001909881918. Delta is -0.0017931267047970323\n",
      "Model is not converging.  Current: 5610.037523616237 is not greater than 5610.330456140503. Delta is -0.29293252426577965\n"
     ]
    },
    {
     "name": "stdout",
     "output_type": "stream",
     "text": [
      "更新\n",
      "更新\n",
      "更新\n",
      "更新\n",
      "更新\n",
      "更新\n",
      "更新\n",
      "更新\n",
      "更新\n"
     ]
    },
    {
     "name": "stderr",
     "output_type": "stream",
     "text": [
      "Model is not converging.  Current: 5620.074486238711 is not greater than 5620.255005140817. Delta is -0.1805189021060869\n"
     ]
    },
    {
     "name": "stdout",
     "output_type": "stream",
     "text": [
      "更新\n",
      "更新\n",
      "更新\n",
      "更新\n",
      "更新\n",
      "更新\n",
      "更新\n"
     ]
    },
    {
     "name": "stderr",
     "output_type": "stream",
     "text": [
      "Model is not converging.  Current: 5546.900536363261 is not greater than 5546.902260476444. Delta is -0.0017241131827177014\n"
     ]
    },
    {
     "name": "stdout",
     "output_type": "stream",
     "text": [
      "更新\n"
     ]
    },
    {
     "name": "stderr",
     "output_type": "stream",
     "text": [
      "Model is not converging.  Current: 5629.046598599691 is not greater than 5629.206315210378. Delta is -0.15971661068761023\n"
     ]
    },
    {
     "name": "stdout",
     "output_type": "stream",
     "text": [
      "更新\n",
      "更新\n",
      "更新\n",
      "更新\n",
      "更新\n",
      "更新\n"
     ]
    },
    {
     "name": "stderr",
     "output_type": "stream",
     "text": [
      "Model is not converging.  Current: 5522.474200338555 is not greater than 5522.481865085739. Delta is -0.007664747183298459\n"
     ]
    },
    {
     "name": "stdout",
     "output_type": "stream",
     "text": [
      "更新\n",
      "更新\n",
      "更新\n",
      "更新\n",
      "更新\n",
      "更新\n",
      "更新\n",
      "更新\n"
     ]
    },
    {
     "name": "stderr",
     "output_type": "stream",
     "text": [
      "Model is not converging.  Current: 5650.100070751731 is not greater than 5650.22904656236. Delta is -0.12897581062861718\n"
     ]
    },
    {
     "name": "stdout",
     "output_type": "stream",
     "text": [
      "更新\n",
      "更新\n"
     ]
    },
    {
     "name": "stderr",
     "output_type": "stream",
     "text": [
      "Model is not converging.  Current: 5538.936007572494 is not greater than 5538.944204779375. Delta is -0.008197206880140584\n"
     ]
    },
    {
     "name": "stdout",
     "output_type": "stream",
     "text": [
      "更新\n"
     ]
    },
    {
     "name": "stderr",
     "output_type": "stream",
     "text": [
      "Model is not converging.  Current: 5658.371967837582 is not greater than 5658.395352911344. Delta is -0.02338507376225607\n",
      "Model is not converging.  Current: 5654.705384295101 is not greater than 5654.715668328385. Delta is -0.010284033283824101\n"
     ]
    },
    {
     "name": "stdout",
     "output_type": "stream",
     "text": [
      "更新\n",
      "更新\n",
      "更新\n",
      "更新\n",
      "更新\n",
      "更新\n",
      "更新\n",
      "更新\n",
      "更新\n",
      "更新\n",
      "更新\n",
      "更新\n"
     ]
    },
    {
     "name": "stderr",
     "output_type": "stream",
     "text": [
      "Model is not converging.  Current: 5572.512020322589 is not greater than 5572.530419265773. Delta is -0.018398943184365635\n",
      "Model is not converging.  Current: 5673.568333806755 is not greater than 5673.5812149382. Delta is -0.012881131445283245\n"
     ]
    },
    {
     "name": "stdout",
     "output_type": "stream",
     "text": [
      "更新\n",
      "更新\n"
     ]
    },
    {
     "name": "stderr",
     "output_type": "stream",
     "text": [
      "Model is not converging.  Current: 5657.58569575103 is not greater than 5657.652340497908. Delta is -0.06664474687840993\n"
     ]
    },
    {
     "name": "stdout",
     "output_type": "stream",
     "text": [
      "更新\n",
      "更新\n"
     ]
    },
    {
     "name": "stderr",
     "output_type": "stream",
     "text": [
      "Model is not converging.  Current: 5702.078386916624 is not greater than 5702.2147665489865. Delta is -0.13637963236215\n"
     ]
    },
    {
     "name": "stdout",
     "output_type": "stream",
     "text": [
      "更新\n",
      "更新\n",
      "更新\n"
     ]
    },
    {
     "name": "stderr",
     "output_type": "stream",
     "text": [
      "Model is not converging.  Current: 5709.54977826239 is not greater than 5709.553312523611. Delta is -0.003534261220920598\n"
     ]
    },
    {
     "name": "stdout",
     "output_type": "stream",
     "text": [
      "更新\n"
     ]
    },
    {
     "name": "stderr",
     "output_type": "stream",
     "text": [
      "Model is not converging.  Current: 5613.553769155188 is not greater than 5613.554629936785. Delta is -0.0008607815971117816\n"
     ]
    },
    {
     "name": "stdout",
     "output_type": "stream",
     "text": [
      "更新\n",
      "更新\n",
      "更新\n",
      "更新\n"
     ]
    },
    {
     "name": "stderr",
     "output_type": "stream",
     "text": [
      "Model is not converging.  Current: 5734.10478117167 is not greater than 5734.238565896733. Delta is -0.13378472506337857\n"
     ]
    },
    {
     "name": "stdout",
     "output_type": "stream",
     "text": [
      "更新\n",
      "更新\n"
     ]
    },
    {
     "name": "stderr",
     "output_type": "stream",
     "text": [
      "Model is not converging.  Current: 5629.101703630233 is not greater than 5629.1035590989695. Delta is -0.0018554687367213774\n"
     ]
    },
    {
     "name": "stdout",
     "output_type": "stream",
     "text": [
      "更新\n"
     ]
    },
    {
     "name": "stderr",
     "output_type": "stream",
     "text": [
      "Model is not converging.  Current: 5153.8011779494445 is not greater than 5154.2367200976205. Delta is -0.43554214817595494\n"
     ]
    },
    {
     "name": "stdout",
     "output_type": "stream",
     "text": [
      "更新\n",
      "更新\n"
     ]
    },
    {
     "name": "stderr",
     "output_type": "stream",
     "text": [
      "Model is not converging.  Current: 5636.473860269812 is not greater than 5636.474964996302. Delta is -0.0011047264906665077\n"
     ]
    },
    {
     "name": "stdout",
     "output_type": "stream",
     "text": [
      "更新\n",
      "更新\n",
      "更新\n"
     ]
    },
    {
     "name": "stderr",
     "output_type": "stream",
     "text": [
      "Model is not converging.  Current: 5760.6333758302235 is not greater than 5760.810050517961. Delta is -0.17667468773743167\n",
      "Model is not converging.  Current: 5764.503322263166 is not greater than 5764.506565996885. Delta is -0.003243733718591102\n"
     ]
    },
    {
     "name": "stdout",
     "output_type": "stream",
     "text": [
      "更新\n",
      "更新\n"
     ]
    },
    {
     "name": "stderr",
     "output_type": "stream",
     "text": [
      "Model is not converging.  Current: 5756.6765710406935 is not greater than 5756.989077307724. Delta is -0.31250626703058515\n"
     ]
    },
    {
     "name": "stdout",
     "output_type": "stream",
     "text": [
      "更新\n",
      "更新\n",
      "更新\n",
      "更新\n",
      "更新\n",
      "更新\n",
      "更新\n",
      "更新\n"
     ]
    },
    {
     "name": "stderr",
     "output_type": "stream",
     "text": [
      "Model is not converging.  Current: 5784.115080060204 is not greater than 5784.234682122906. Delta is -0.11960206270214258\n"
     ]
    },
    {
     "name": "stdout",
     "output_type": "stream",
     "text": [
      "更新\n",
      "更新\n",
      "更新\n",
      "更新\n",
      "更新\n"
     ]
    },
    {
     "name": "stderr",
     "output_type": "stream",
     "text": [
      "Model is not converging.  Current: 5200.511539850131 is not greater than 5201.043204448169. Delta is -0.5316645980374233\n"
     ]
    },
    {
     "name": "stdout",
     "output_type": "stream",
     "text": [
      "更新\n"
     ]
    },
    {
     "name": "stderr",
     "output_type": "stream",
     "text": [
      "Model is not converging.  Current: 5803.6100224551155 is not greater than 5803.645091739299. Delta is -0.035069284183009586\n"
     ]
    },
    {
     "name": "stdout",
     "output_type": "stream",
     "text": [
      "更新\n",
      "更新\n",
      "更新\n"
     ]
    },
    {
     "name": "stderr",
     "output_type": "stream",
     "text": [
      "Model is not converging.  Current: 5815.473167154356 is not greater than 5815.643677719284. Delta is -0.17051056492800853\n"
     ]
    },
    {
     "name": "stdout",
     "output_type": "stream",
     "text": [
      "更新\n",
      "更新\n",
      "更新\n"
     ]
    },
    {
     "name": "stderr",
     "output_type": "stream",
     "text": [
      "Model is not converging.  Current: 5799.204151426666 is not greater than 5799.234562366037. Delta is -0.030410939370995038\n"
     ]
    },
    {
     "name": "stdout",
     "output_type": "stream",
     "text": [
      "更新\n",
      "更新\n",
      "更新\n",
      "更新\n"
     ]
    },
    {
     "name": "stderr",
     "output_type": "stream",
     "text": [
      "Model is not converging.  Current: 5815.269794786792 is not greater than 5815.3621166231405. Delta is -0.09232183634867397\n",
      "Model is not converging.  Current: 5802.73155705478 is not greater than 5802.741283093428. Delta is -0.009726038648295798\n"
     ]
    },
    {
     "name": "stdout",
     "output_type": "stream",
     "text": [
      "更新\n",
      "更新\n"
     ]
    },
    {
     "name": "stderr",
     "output_type": "stream",
     "text": [
      "Model is not converging.  Current: 5834.375870886147 is not greater than 5834.37640673507. Delta is -0.0005358489233913133\n"
     ]
    },
    {
     "name": "stdout",
     "output_type": "stream",
     "text": [
      "更新\n",
      "更新\n",
      "更新\n"
     ]
    },
    {
     "name": "stderr",
     "output_type": "stream",
     "text": [
      "Model is not converging.  Current: 5831.737920682975 is not greater than 5831.81687240209. Delta is -0.07895171911513899\n"
     ]
    },
    {
     "name": "stdout",
     "output_type": "stream",
     "text": [
      "更新\n",
      "更新\n"
     ]
    },
    {
     "name": "stderr",
     "output_type": "stream",
     "text": [
      "Model is not converging.  Current: 5838.149412322519 is not greater than 5838.217604924867. Delta is -0.06819260234806279\n"
     ]
    },
    {
     "name": "stdout",
     "output_type": "stream",
     "text": [
      "更新\n",
      "更新\n"
     ]
    },
    {
     "name": "stderr",
     "output_type": "stream",
     "text": [
      "Model is not converging.  Current: 5850.124354398421 is not greater than 5850.207288507131. Delta is -0.08293410871010565\n"
     ]
    },
    {
     "name": "stdout",
     "output_type": "stream",
     "text": [
      "更新\n",
      "更新\n",
      "更新\n",
      "更新\n"
     ]
    },
    {
     "name": "stderr",
     "output_type": "stream",
     "text": [
      "Model is not converging.  Current: 5859.251311077016 is not greater than 5859.308921131921. Delta is -0.05761005490512616\n"
     ]
    },
    {
     "name": "stdout",
     "output_type": "stream",
     "text": [
      "更新\n"
     ]
    },
    {
     "name": "stderr",
     "output_type": "stream",
     "text": [
      "Model is not converging.  Current: 5891.969232351276 is not greater than 5892.072845395159. Delta is -0.10361304388243298\n"
     ]
    },
    {
     "name": "stdout",
     "output_type": "stream",
     "text": [
      "更新\n"
     ]
    },
    {
     "name": "stderr",
     "output_type": "stream",
     "text": [
      "Model is not converging.  Current: 5863.467175850935 is not greater than 5863.492359479024. Delta is -0.025183628089507692\n"
     ]
    },
    {
     "name": "stdout",
     "output_type": "stream",
     "text": [
      "更新\n"
     ]
    },
    {
     "name": "stderr",
     "output_type": "stream",
     "text": [
      "Model is not converging.  Current: 5871.142335612012 is not greater than 5871.174548589113. Delta is -0.03221297710115323\n",
      "Model is not converging.  Current: 5903.368475255191 is not greater than 5903.375512271669. Delta is -0.007037016478534497\n"
     ]
    },
    {
     "name": "stdout",
     "output_type": "stream",
     "text": [
      "更新\n",
      "更新\n"
     ]
    },
    {
     "name": "stderr",
     "output_type": "stream",
     "text": [
      "Model is not converging.  Current: 5876.137042923942 is not greater than 5876.207648863888. Delta is -0.07060593994538067\n"
     ]
    },
    {
     "name": "stdout",
     "output_type": "stream",
     "text": [
      "更新\n",
      "更新\n",
      "更新\n"
     ]
    },
    {
     "name": "stderr",
     "output_type": "stream",
     "text": [
      "Model is not converging.  Current: 5887.755076617966 is not greater than 5887.758728977108. Delta is -0.0036523591425066115\n"
     ]
    },
    {
     "name": "stdout",
     "output_type": "stream",
     "text": [
      "更新\n",
      "更新\n"
     ]
    },
    {
     "name": "stderr",
     "output_type": "stream",
     "text": [
      "Model is not converging.  Current: 5895.171805662429 is not greater than 5895.204927410065. Delta is -0.033121747635959764\n"
     ]
    },
    {
     "name": "stdout",
     "output_type": "stream",
     "text": [
      "更新\n",
      "更新\n",
      "更新\n",
      "更新\n"
     ]
    },
    {
     "name": "stderr",
     "output_type": "stream",
     "text": [
      "Model is not converging.  Current: 5945.681342606724 is not greater than 5945.686563352242. Delta is -0.005220745518272452\n"
     ]
    },
    {
     "name": "stdout",
     "output_type": "stream",
     "text": [
      "更新\n",
      "更新\n",
      "更新\n",
      "更新\n"
     ]
    },
    {
     "name": "stderr",
     "output_type": "stream",
     "text": [
      "Model is not converging.  Current: 5911.410842004408 is not greater than 5911.421725170627. Delta is -0.01088316621917329\n"
     ]
    },
    {
     "name": "stdout",
     "output_type": "stream",
     "text": [
      "更新\n",
      "更新\n"
     ]
    },
    {
     "name": "stderr",
     "output_type": "stream",
     "text": [
      "Model is not converging.  Current: 5282.282841465221 is not greater than 5282.562926194897. Delta is -0.2800847296757638\n"
     ]
    },
    {
     "name": "stdout",
     "output_type": "stream",
     "text": [
      "更新\n",
      "更新\n"
     ]
    },
    {
     "name": "stderr",
     "output_type": "stream",
     "text": [
      "Model is not converging.  Current: 5917.947429934006 is not greater than 5917.993053726586. Delta is -0.04562379258004512\n"
     ]
    },
    {
     "name": "stdout",
     "output_type": "stream",
     "text": [
      "更新\n"
     ]
    },
    {
     "name": "stderr",
     "output_type": "stream",
     "text": [
      "Model is not converging.  Current: 5954.121894198256 is not greater than 5954.220627739367. Delta is -0.09873354111095978\n"
     ]
    },
    {
     "name": "stdout",
     "output_type": "stream",
     "text": [
      "更新\n",
      "更新\n",
      "更新\n"
     ]
    },
    {
     "name": "stderr",
     "output_type": "stream",
     "text": [
      "Model is not converging.  Current: 5960.4937789597325 is not greater than 5960.4953608231035. Delta is -0.0015818633710296126\n"
     ]
    },
    {
     "name": "stdout",
     "output_type": "stream",
     "text": [
      "更新\n",
      "更新\n",
      "更新\n"
     ]
    },
    {
     "name": "stderr",
     "output_type": "stream",
     "text": [
      "Model is not converging.  Current: 5929.549899308493 is not greater than 5929.572625516947. Delta is -0.022726208453605068\n"
     ]
    },
    {
     "name": "stdout",
     "output_type": "stream",
     "text": [
      "更新\n",
      "更新\n",
      "更新\n",
      "更新\n",
      "更新\n",
      "更新\n"
     ]
    },
    {
     "name": "stderr",
     "output_type": "stream",
     "text": [
      "Model is not converging.  Current: 5942.78807423057 is not greater than 5942.846523195701. Delta is -0.05844896513099229\n",
      "Model is not converging.  Current: 5980.574272009792 is not greater than 5980.593039596651. Delta is -0.01876758685830282\n"
     ]
    },
    {
     "name": "stdout",
     "output_type": "stream",
     "text": [
      "更新\n",
      "更新\n",
      "更新\n",
      "更新\n",
      "更新\n",
      "更新\n",
      "更新\n",
      "更新\n",
      "更新\n"
     ]
    },
    {
     "name": "stderr",
     "output_type": "stream",
     "text": [
      "Model is not converging.  Current: 5967.216075369011 is not greater than 5967.241982025022. Delta is -0.02590665601019282\n"
     ]
    },
    {
     "name": "stdout",
     "output_type": "stream",
     "text": [
      "更新\n",
      "更新\n",
      "更新\n",
      "更新\n",
      "更新\n",
      "更新\n"
     ]
    },
    {
     "name": "stderr",
     "output_type": "stream",
     "text": [
      "Model is not converging.  Current: 6009.477503948222 is not greater than 6009.609124073397. Delta is -0.13162012517477706\n"
     ]
    },
    {
     "name": "stdout",
     "output_type": "stream",
     "text": [
      "更新\n",
      "更新\n",
      "更新\n",
      "更新\n",
      "更新\n"
     ]
    },
    {
     "name": "stderr",
     "output_type": "stream",
     "text": [
      "Model is not converging.  Current: 6019.988600498011 is not greater than 6020.065477120117. Delta is -0.07687662210628332\n"
     ]
    },
    {
     "name": "stdout",
     "output_type": "stream",
     "text": [
      "更新\n"
     ]
    },
    {
     "name": "stderr",
     "output_type": "stream",
     "text": [
      "Model is not converging.  Current: 5994.343258447034 is not greater than 5994.379706492237. Delta is -0.03644804520354228\n"
     ]
    },
    {
     "name": "stdout",
     "output_type": "stream",
     "text": [
      "更新\n",
      "更新\n"
     ]
    },
    {
     "name": "stderr",
     "output_type": "stream",
     "text": [
      "Model is not converging.  Current: 5990.823455579992 is not greater than 5990.836554805879. Delta is -0.0130992258873448\n"
     ]
    },
    {
     "name": "stdout",
     "output_type": "stream",
     "text": [
      "更新\n",
      "更新\n",
      "更新\n",
      "更新\n"
     ]
    },
    {
     "name": "stderr",
     "output_type": "stream",
     "text": [
      "Model is not converging.  Current: 5989.307706963965 is not greater than 5989.31883264563. Delta is -0.011125681665362208\n",
      "Model is not converging.  Current: 6032.937640041395 is not greater than 6032.960228158009. Delta is -0.022588116614315368\n"
     ]
    },
    {
     "name": "stdout",
     "output_type": "stream",
     "text": [
      "更新\n",
      "更新\n",
      "更新\n",
      "更新\n"
     ]
    },
    {
     "name": "stderr",
     "output_type": "stream",
     "text": [
      "Model is not converging.  Current: 6037.651943664923 is not greater than 6037.720186419644. Delta is -0.06824275472081354\n"
     ]
    },
    {
     "name": "stdout",
     "output_type": "stream",
     "text": [
      "更新\n"
     ]
    },
    {
     "name": "stderr",
     "output_type": "stream",
     "text": [
      "Model is not converging.  Current: 6010.660404469119 is not greater than 6010.685822158289. Delta is -0.025417689169444202\n"
     ]
    },
    {
     "name": "stdout",
     "output_type": "stream",
     "text": [
      "更新\n",
      "更新\n",
      "更新\n",
      "更新\n",
      "更新\n",
      "更新\n"
     ]
    },
    {
     "name": "stderr",
     "output_type": "stream",
     "text": [
      "Model is not converging.  Current: 6015.614948560178 is not greater than 6015.671513940046. Delta is -0.05656537986760668\n"
     ]
    },
    {
     "name": "stdout",
     "output_type": "stream",
     "text": [
      "更新\n",
      "更新\n"
     ]
    },
    {
     "name": "stderr",
     "output_type": "stream",
     "text": [
      "Model is not converging.  Current: 6049.019046878563 is not greater than 6049.075531521385. Delta is -0.056484642821487796\n"
     ]
    },
    {
     "name": "stdout",
     "output_type": "stream",
     "text": [
      "更新\n"
     ]
    },
    {
     "name": "stderr",
     "output_type": "stream",
     "text": [
      "Model is not converging.  Current: 5370.094457838373 is not greater than 5370.145326943594. Delta is -0.050869105220954225\n"
     ]
    },
    {
     "name": "stdout",
     "output_type": "stream",
     "text": [
      "更新\n",
      "更新\n",
      "更新\n",
      "更新\n",
      "更新\n"
     ]
    },
    {
     "name": "stderr",
     "output_type": "stream",
     "text": [
      "Model is not converging.  Current: 6056.225178024045 is not greater than 6056.265899824776. Delta is -0.04072180073126219\n"
     ]
    },
    {
     "name": "stdout",
     "output_type": "stream",
     "text": [
      "更新\n",
      "更新\n",
      "更新\n"
     ]
    },
    {
     "name": "stderr",
     "output_type": "stream",
     "text": [
      "Model is not converging.  Current: 6022.666894335177 is not greater than 6022.6993524462405. Delta is -0.03245811106353358\n"
     ]
    },
    {
     "name": "stdout",
     "output_type": "stream",
     "text": [
      "更新\n",
      "更新\n"
     ]
    },
    {
     "name": "stderr",
     "output_type": "stream",
     "text": [
      "Model is not converging.  Current: 6063.393406819306 is not greater than 6063.445818047842. Delta is -0.05241122853658453\n"
     ]
    },
    {
     "name": "stdout",
     "output_type": "stream",
     "text": [
      "更新\n",
      "更新\n"
     ]
    },
    {
     "name": "stderr",
     "output_type": "stream",
     "text": [
      "Model is not converging.  Current: 6064.888826063007 is not greater than 6064.954492088576. Delta is -0.065666025569044\n"
     ]
    },
    {
     "name": "stdout",
     "output_type": "stream",
     "text": [
      "更新\n",
      "更新\n"
     ]
    },
    {
     "name": "stderr",
     "output_type": "stream",
     "text": [
      "Model is not converging.  Current: 6041.598416084112 is not greater than 6041.618497576777. Delta is -0.02008149266566761\n"
     ]
    },
    {
     "name": "stdout",
     "output_type": "stream",
     "text": [
      "更新\n",
      "更新\n",
      "更新\n",
      "更新\n",
      "更新\n"
     ]
    },
    {
     "name": "stderr",
     "output_type": "stream",
     "text": [
      "Model is not converging.  Current: 6042.776229890908 is not greater than 6042.817115426895. Delta is -0.04088553598649014\n"
     ]
    },
    {
     "name": "stdout",
     "output_type": "stream",
     "text": [
      "更新\n"
     ]
    },
    {
     "name": "stderr",
     "output_type": "stream",
     "text": [
      "Model is not converging.  Current: 6051.098949178418 is not greater than 6051.1293841051565. Delta is -0.03043492673896253\n"
     ]
    },
    {
     "name": "stdout",
     "output_type": "stream",
     "text": [
      "更新\n"
     ]
    },
    {
     "name": "stderr",
     "output_type": "stream",
     "text": [
      "Model is not converging.  Current: 6086.96283330701 is not greater than 6086.999073685333. Delta is -0.03624037832287286\n"
     ]
    },
    {
     "name": "stdout",
     "output_type": "stream",
     "text": [
      "更新\n",
      "更新\n",
      "更新\n",
      "更新\n"
     ]
    },
    {
     "name": "stderr",
     "output_type": "stream",
     "text": [
      "Model is not converging.  Current: 6058.11098759553 is not greater than 6058.167343373724. Delta is -0.05635577819430182\n"
     ]
    },
    {
     "name": "stdout",
     "output_type": "stream",
     "text": [
      "更新\n",
      "更新\n",
      "更新\n"
     ]
    },
    {
     "name": "stderr",
     "output_type": "stream",
     "text": [
      "Model is not converging.  Current: 6111.9292208885245 is not greater than 6111.9873260750355. Delta is -0.05810518651105667\n"
     ]
    },
    {
     "name": "stdout",
     "output_type": "stream",
     "text": [
      "更新\n",
      "更新\n",
      "更新\n"
     ]
    },
    {
     "name": "stderr",
     "output_type": "stream",
     "text": [
      "Model is not converging.  Current: 6072.0132974224025 is not greater than 6072.033693428141. Delta is -0.02039600573880307\n"
     ]
    },
    {
     "name": "stdout",
     "output_type": "stream",
     "text": [
      "更新\n",
      "更新\n",
      "更新\n",
      "更新\n",
      "更新\n"
     ]
    },
    {
     "name": "stderr",
     "output_type": "stream",
     "text": [
      "Model is not converging.  Current: 6122.121451359175 is not greater than 6122.1251863971365. Delta is -0.00373503796163277\n",
      "Model is not converging.  Current: 6124.146860840822 is not greater than 6124.184794829848. Delta is -0.0379339890259871\n"
     ]
    },
    {
     "name": "stdout",
     "output_type": "stream",
     "text": [
      "更新\n",
      "更新\n",
      "更新\n",
      "更新\n",
      "更新\n",
      "更新\n",
      "更新\n"
     ]
    },
    {
     "name": "stderr",
     "output_type": "stream",
     "text": [
      "Model is not converging.  Current: 6133.079544874888 is not greater than 6133.105096868938. Delta is -0.025551994050147186\n"
     ]
    },
    {
     "name": "stdout",
     "output_type": "stream",
     "text": [
      "更新\n",
      "更新\n",
      "更新\n",
      "更新\n"
     ]
    },
    {
     "name": "stderr",
     "output_type": "stream",
     "text": [
      "Model is not converging.  Current: 6142.26108501959 is not greater than 6142.275239189434. Delta is -0.014154169844005082\n"
     ]
    },
    {
     "name": "stdout",
     "output_type": "stream",
     "text": [
      "更新\n",
      "更新\n",
      "更新\n",
      "更新\n",
      "更新\n"
     ]
    },
    {
     "name": "stderr",
     "output_type": "stream",
     "text": [
      "Model is not converging.  Current: 6105.922172249622 is not greater than 6105.932397822352. Delta is -0.010225572729723353\n"
     ]
    },
    {
     "name": "stdout",
     "output_type": "stream",
     "text": [
      "更新\n",
      "更新\n",
      "更新\n",
      "更新\n",
      "更新\n"
     ]
    },
    {
     "name": "stderr",
     "output_type": "stream",
     "text": [
      "Model is not converging.  Current: 6113.641715379413 is not greater than 6113.657485657624. Delta is -0.01577027821167576\n"
     ]
    },
    {
     "name": "stdout",
     "output_type": "stream",
     "text": [
      "更新\n",
      "更新\n"
     ]
    },
    {
     "name": "stderr",
     "output_type": "stream",
     "text": [
      "Model is not converging.  Current: 6156.572154403289 is not greater than 6156.639267404954. Delta is -0.06711300166534784\n"
     ]
    },
    {
     "name": "stdout",
     "output_type": "stream",
     "text": [
      "更新\n",
      "更新\n"
     ]
    },
    {
     "name": "stderr",
     "output_type": "stream",
     "text": [
      "Model is not converging.  Current: 6155.6843916544385 is not greater than 6155.715359438776. Delta is -0.030967784337917692\n",
      "Model is not converging.  Current: 6156.599248042157 is not greater than 6156.70756828526. Delta is -0.10832024310275301\n"
     ]
    },
    {
     "name": "stdout",
     "output_type": "stream",
     "text": [
      "更新\n",
      "更新\n",
      "更新\n",
      "更新\n",
      "更新\n",
      "更新\n",
      "更新\n"
     ]
    },
    {
     "name": "stderr",
     "output_type": "stream",
     "text": [
      "Model is not converging.  Current: 6164.690354245077 is not greater than 6164.746932753966. Delta is -0.056578508888378565\n",
      "Model is not converging.  Current: 6163.128622104014 is not greater than 6163.15522842109. Delta is -0.026606317076584673\n"
     ]
    },
    {
     "name": "stdout",
     "output_type": "stream",
     "text": [
      "更新\n",
      "更新\n"
     ]
    },
    {
     "name": "stderr",
     "output_type": "stream",
     "text": [
      "Model is not converging.  Current: 6163.8903440379345 is not greater than 6163.979839738584. Delta is -0.08949570064942236\n"
     ]
    },
    {
     "name": "stdout",
     "output_type": "stream",
     "text": [
      "更新\n"
     ]
    },
    {
     "name": "stderr",
     "output_type": "stream",
     "text": [
      "Model is not converging.  Current: 6165.089903151049 is not greater than 6165.098837718394. Delta is -0.008934567345022515\n"
     ]
    },
    {
     "name": "stdout",
     "output_type": "stream",
     "text": [
      "更新\n",
      "更新\n"
     ]
    },
    {
     "name": "stderr",
     "output_type": "stream",
     "text": [
      "Model is not converging.  Current: 6167.723512538685 is not greater than 6167.8127648376885. Delta is -0.08925229900341947\n"
     ]
    },
    {
     "name": "stdout",
     "output_type": "stream",
     "text": [
      "更新\n"
     ]
    },
    {
     "name": "stderr",
     "output_type": "stream",
     "text": [
      "Model is not converging.  Current: 6169.9946976530555 is not greater than 6170.061882831719. Delta is -0.06718517866374896\n"
     ]
    },
    {
     "name": "stdout",
     "output_type": "stream",
     "text": [
      "更新\n"
     ]
    },
    {
     "name": "stderr",
     "output_type": "stream",
     "text": [
      "Model is not converging.  Current: 5452.208406710223 is not greater than 5452.8015136129225. Delta is -0.5931069026992191\n"
     ]
    },
    {
     "name": "stdout",
     "output_type": "stream",
     "text": [
      "更新\n",
      "更新\n"
     ]
    },
    {
     "name": "stderr",
     "output_type": "stream",
     "text": [
      "Model is not converging.  Current: 6136.1799323768455 is not greater than 6136.252559253869. Delta is -0.07262687702313997\n"
     ]
    },
    {
     "name": "stdout",
     "output_type": "stream",
     "text": [
      "更新\n",
      "更新\n",
      "更新\n",
      "更新\n"
     ]
    },
    {
     "name": "stderr",
     "output_type": "stream",
     "text": [
      "Model is not converging.  Current: 6184.506451059601 is not greater than 6184.528374598103. Delta is -0.021923538502051088\n"
     ]
    },
    {
     "name": "stdout",
     "output_type": "stream",
     "text": [
      "更新\n"
     ]
    },
    {
     "name": "stderr",
     "output_type": "stream",
     "text": [
      "Model is not converging.  Current: 6186.967113667534 is not greater than 6187.030423462561. Delta is -0.06330979502672562\n"
     ]
    },
    {
     "name": "stdout",
     "output_type": "stream",
     "text": [
      "更新\n",
      "更新\n",
      "更新\n",
      "更新\n"
     ]
    },
    {
     "name": "stderr",
     "output_type": "stream",
     "text": [
      "Model is not converging.  Current: 6197.226785862393 is not greater than 6197.279285254662. Delta is -0.052499392269055534\n"
     ]
    },
    {
     "name": "stdout",
     "output_type": "stream",
     "text": [
      "更新\n"
     ]
    },
    {
     "name": "stderr",
     "output_type": "stream",
     "text": [
      "Model is not converging.  Current: 6199.839339036487 is not greater than 6199.897554475459. Delta is -0.05821543897218362\n"
     ]
    },
    {
     "name": "stdout",
     "output_type": "stream",
     "text": [
      "更新\n",
      "更新\n",
      "更新\n"
     ]
    },
    {
     "name": "stderr",
     "output_type": "stream",
     "text": [
      "Model is not converging.  Current: 6205.923862545338 is not greater than 6205.961592214432. Delta is -0.03772966909400566\n"
     ]
    },
    {
     "name": "stdout",
     "output_type": "stream",
     "text": [
      "更新\n"
     ]
    },
    {
     "name": "stderr",
     "output_type": "stream",
     "text": [
      "Model is not converging.  Current: 6208.9035944976895 is not greater than 6208.938857306556. Delta is -0.03526280886671884\n"
     ]
    },
    {
     "name": "stdout",
     "output_type": "stream",
     "text": [
      "更新\n",
      "更新\n",
      "更新\n"
     ]
    },
    {
     "name": "stderr",
     "output_type": "stream",
     "text": [
      "Model is not converging.  Current: 6219.391013300513 is not greater than 6219.465829640743. Delta is -0.07481634023042716\n"
     ]
    },
    {
     "name": "stdout",
     "output_type": "stream",
     "text": [
      "更新\n",
      "更新\n"
     ]
    },
    {
     "name": "stderr",
     "output_type": "stream",
     "text": [
      "Model is not converging.  Current: 6227.906156645015 is not greater than 6227.935386090979. Delta is -0.029229445964119805\n"
     ]
    },
    {
     "name": "stdout",
     "output_type": "stream",
     "text": [
      "更新\n"
     ]
    },
    {
     "name": "stderr",
     "output_type": "stream",
     "text": [
      "Model is not converging.  Current: 6231.818223529854 is not greater than 6231.891676627159. Delta is -0.07345309730499139\n"
     ]
    },
    {
     "name": "stdout",
     "output_type": "stream",
     "text": [
      "更新\n",
      "更新\n"
     ]
    },
    {
     "name": "stderr",
     "output_type": "stream",
     "text": [
      "Model is not converging.  Current: 6238.386868159153 is not greater than 6238.435597237667. Delta is -0.04872907851404307\n"
     ]
    },
    {
     "name": "stdout",
     "output_type": "stream",
     "text": [
      "更新\n",
      "更新\n",
      "更新\n"
     ]
    },
    {
     "name": "stderr",
     "output_type": "stream",
     "text": [
      "Model is not converging.  Current: 6251.069259383953 is not greater than 6251.110692236769. Delta is -0.0414328528158876\n"
     ]
    },
    {
     "name": "stdout",
     "output_type": "stream",
     "text": [
      "更新\n"
     ]
    },
    {
     "name": "stderr",
     "output_type": "stream",
     "text": [
      "Model is not converging.  Current: 6255.3181679269655 is not greater than 6255.326707272266. Delta is -0.008539345300050627\n"
     ]
    },
    {
     "name": "stdout",
     "output_type": "stream",
     "text": [
      "更新\n",
      "更新\n"
     ]
    },
    {
     "name": "stderr",
     "output_type": "stream",
     "text": [
      "Model is not converging.  Current: 6264.133789755917 is not greater than 6264.13641646839. Delta is -0.0026267124731020886\n"
     ]
    },
    {
     "name": "stdout",
     "output_type": "stream",
     "text": [
      "更新\n"
     ]
    },
    {
     "name": "stderr",
     "output_type": "stream",
     "text": [
      "Model is not converging.  Current: 6268.465984193868 is not greater than 6268.542316977363. Delta is -0.07633278349476313\n"
     ]
    },
    {
     "name": "stdout",
     "output_type": "stream",
     "text": [
      "更新\n",
      "更新\n",
      "更新\n",
      "更新\n",
      "更新\n",
      "更新\n",
      "更新\n"
     ]
    },
    {
     "name": "stderr",
     "output_type": "stream",
     "text": [
      "Model is not converging.  Current: 6293.6718169983415 is not greater than 6293.72167765778. Delta is -0.049860659438309085\n"
     ]
    },
    {
     "name": "stdout",
     "output_type": "stream",
     "text": [
      "更新\n",
      "更新\n",
      "更新\n",
      "更新\n"
     ]
    },
    {
     "name": "stderr",
     "output_type": "stream",
     "text": [
      "Model is not converging.  Current: 6315.43642471664 is not greater than 6315.502721528684. Delta is -0.06629681204321969\n"
     ]
    },
    {
     "name": "stdout",
     "output_type": "stream",
     "text": [
      "更新\n"
     ]
    },
    {
     "name": "stderr",
     "output_type": "stream",
     "text": [
      "Model is not converging.  Current: 6319.8500189621045 is not greater than 6319.911924334303. Delta is -0.061905372198452824\n"
     ]
    },
    {
     "name": "stdout",
     "output_type": "stream",
     "text": [
      "更新\n"
     ]
    },
    {
     "name": "stderr",
     "output_type": "stream",
     "text": [
      "Model is not converging.  Current: 6324.194756216221 is not greater than 6324.257740509387. Delta is -0.06298429316575493\n"
     ]
    },
    {
     "name": "stdout",
     "output_type": "stream",
     "text": [
      "更新\n"
     ]
    },
    {
     "name": "stderr",
     "output_type": "stream",
     "text": [
      "Model is not converging.  Current: 5541.169596202417 is not greater than 5543.570860936158. Delta is -2.4012647337413\n"
     ]
    },
    {
     "name": "stdout",
     "output_type": "stream",
     "text": [
      "更新\n"
     ]
    },
    {
     "name": "stderr",
     "output_type": "stream",
     "text": [
      "Model is not converging.  Current: 6332.3732909332475 is not greater than 6332.435914418833. Delta is -0.06262348558539088\n",
      "Model is not converging.  Current: 5587.260838338447 is not greater than 5587.279274930494. Delta is -0.018436592046782607\n"
     ]
    },
    {
     "name": "stdout",
     "output_type": "stream",
     "text": [
      "更新\n",
      "更新\n"
     ]
    },
    {
     "name": "stderr",
     "output_type": "stream",
     "text": [
      "Model is not converging.  Current: 6337.100293337632 is not greater than 6337.102510310477. Delta is -0.0022169728445078363\n"
     ]
    },
    {
     "name": "stdout",
     "output_type": "stream",
     "text": [
      "更新\n"
     ]
    },
    {
     "name": "stderr",
     "output_type": "stream",
     "text": [
      "Model is not converging.  Current: 6343.800521106976 is not greater than 6343.8779246064805. Delta is -0.07740349950472591\n"
     ]
    },
    {
     "name": "stdout",
     "output_type": "stream",
     "text": [
      "更新\n",
      "更新\n",
      "更新\n",
      "更新\n",
      "更新\n",
      "更新\n",
      "更新\n",
      "更新\n",
      "更新\n",
      "更新\n"
     ]
    },
    {
     "name": "stderr",
     "output_type": "stream",
     "text": [
      "Model is not converging.  Current: 6368.106817145304 is not greater than 6368.1983346882125. Delta is -0.09151754290815006\n"
     ]
    },
    {
     "name": "stdout",
     "output_type": "stream",
     "text": [
      "更新\n",
      "更新\n",
      "更新\n",
      "更新\n"
     ]
    },
    {
     "name": "stderr",
     "output_type": "stream",
     "text": [
      "Model is not converging.  Current: 6373.290958518423 is not greater than 6373.312457081826. Delta is -0.021498563402928994\n"
     ]
    },
    {
     "name": "stdout",
     "output_type": "stream",
     "text": [
      "更新\n",
      "更新\n",
      "更新\n",
      "更新\n",
      "更新\n",
      "更新\n",
      "更新\n",
      "更新\n",
      "更新\n"
     ]
    },
    {
     "name": "stderr",
     "output_type": "stream",
     "text": [
      "Model is not converging.  Current: 6407.4886193129205 is not greater than 6407.526236030453. Delta is -0.03761671753272822\n"
     ]
    },
    {
     "name": "stdout",
     "output_type": "stream",
     "text": [
      "更新\n"
     ]
    },
    {
     "name": "stderr",
     "output_type": "stream",
     "text": [
      "Model is not converging.  Current: 6412.081350141819 is not greater than 6412.204392126731. Delta is -0.12304198491256102\n"
     ]
    },
    {
     "name": "stdout",
     "output_type": "stream",
     "text": [
      "更新\n",
      "更新\n",
      "更新\n",
      "更新\n",
      "更新\n"
     ]
    },
    {
     "name": "stderr",
     "output_type": "stream",
     "text": [
      "Model is not converging.  Current: 6432.444073529422 is not greater than 6432.489311984412. Delta is -0.04523845498988521\n"
     ]
    },
    {
     "name": "stdout",
     "output_type": "stream",
     "text": [
      "更新\n",
      "更新\n"
     ]
    },
    {
     "name": "stderr",
     "output_type": "stream",
     "text": [
      "Model is not converging.  Current: 6437.167787941344 is not greater than 6437.235822095887. Delta is -0.0680341545430565\n"
     ]
    },
    {
     "name": "stdout",
     "output_type": "stream",
     "text": [
      "更新\n",
      "更新\n",
      "更新\n",
      "更新\n",
      "更新\n"
     ]
    },
    {
     "name": "stderr",
     "output_type": "stream",
     "text": [
      "Model is not converging.  Current: 6455.152676090309 is not greater than 6455.25099181691. Delta is -0.09831572660095844\n"
     ]
    },
    {
     "name": "stdout",
     "output_type": "stream",
     "text": [
      "更新\n",
      "更新\n",
      "更新\n",
      "更新\n",
      "更新\n",
      "更新\n",
      "更新\n"
     ]
    },
    {
     "name": "stderr",
     "output_type": "stream",
     "text": [
      "Model is not converging.  Current: 6464.21238967156 is not greater than 6464.234406403154. Delta is -0.022016731593794248\n",
      "Model is not converging.  Current: 6464.23619141345 is not greater than 6464.403994580968. Delta is -0.1678031675182865\n"
     ]
    },
    {
     "name": "stdout",
     "output_type": "stream",
     "text": [
      "更新\n",
      "更新\n"
     ]
    },
    {
     "name": "stderr",
     "output_type": "stream",
     "text": [
      "Model is not converging.  Current: 6454.397809870556 is not greater than 6454.53027617342. Delta is -0.13246630286448635\n"
     ]
    },
    {
     "name": "stdout",
     "output_type": "stream",
     "text": [
      "更新\n",
      "更新\n",
      "更新\n"
     ]
    },
    {
     "name": "stderr",
     "output_type": "stream",
     "text": [
      "Model is not converging.  Current: 6445.183250950403 is not greater than 6445.319467741969. Delta is -0.13621679156585742\n"
     ]
    },
    {
     "name": "stdout",
     "output_type": "stream",
     "text": [
      "更新\n"
     ]
    },
    {
     "name": "stderr",
     "output_type": "stream",
     "text": [
      "Model is not converging.  Current: 6440.734177254904 is not greater than 6440.811987418626. Delta is -0.07781016372155136\n",
      "Model is not converging.  Current: 6436.830939524714 is not greater than 6436.9916536884175. Delta is -0.16071416370323277\n"
     ]
    },
    {
     "name": "stdout",
     "output_type": "stream",
     "text": [
      "更新\n",
      "更新\n",
      "更新\n"
     ]
    },
    {
     "name": "stderr",
     "output_type": "stream",
     "text": [
      "Model is not converging.  Current: 6438.367194142427 is not greater than 6438.454381063526. Delta is -0.08718692109869153\n"
     ]
    },
    {
     "name": "stdout",
     "output_type": "stream",
     "text": [
      "更新\n"
     ]
    },
    {
     "name": "stderr",
     "output_type": "stream",
     "text": [
      "Model is not converging.  Current: 6427.7751297835 is not greater than 6427.883009859132. Delta is -0.10788007563132851\n"
     ]
    },
    {
     "name": "stdout",
     "output_type": "stream",
     "text": [
      "更新\n",
      "更新\n",
      "更新\n",
      "更新\n"
     ]
    },
    {
     "name": "stderr",
     "output_type": "stream",
     "text": [
      "Model is not converging.  Current: 6431.281565813363 is not greater than 6431.3011094374615. Delta is -0.019543624098332657\n"
     ]
    },
    {
     "name": "stdout",
     "output_type": "stream",
     "text": [
      "更新\n",
      "更新\n",
      "更新\n",
      "更新\n",
      "更新\n",
      "更新\n",
      "更新\n",
      "更新\n"
     ]
    },
    {
     "name": "stderr",
     "output_type": "stream",
     "text": [
      "Model is not converging.  Current: 6456.47201135294 is not greater than 6456.580516126286. Delta is -0.10850477334588504\n"
     ]
    },
    {
     "name": "stdout",
     "output_type": "stream",
     "text": [
      "更新\n",
      "更新\n",
      "更新\n"
     ]
    },
    {
     "name": "stderr",
     "output_type": "stream",
     "text": [
      "Model is not converging.  Current: 6457.862936918662 is not greater than 6457.882710459489. Delta is -0.019773540827372926\n"
     ]
    },
    {
     "name": "stdout",
     "output_type": "stream",
     "text": [
      "更新\n",
      "更新\n"
     ]
    },
    {
     "name": "stderr",
     "output_type": "stream",
     "text": [
      "Model is not converging.  Current: 6457.680927827039 is not greater than 6457.717394897395. Delta is -0.03646707035568397\n"
     ]
    },
    {
     "name": "stdout",
     "output_type": "stream",
     "text": [
      "更新\n",
      "更新\n",
      "更新\n",
      "更新\n",
      "更新\n",
      "更新\n",
      "更新\n",
      "更新\n",
      "更新\n"
     ]
    },
    {
     "name": "stderr",
     "output_type": "stream",
     "text": [
      "Model is not converging.  Current: 6464.145168668052 is not greater than 6464.167412037525. Delta is -0.022243369472562335\n"
     ]
    },
    {
     "name": "stdout",
     "output_type": "stream",
     "text": [
      "更新\n",
      "更新\n",
      "更新\n"
     ]
    },
    {
     "name": "stderr",
     "output_type": "stream",
     "text": [
      "Model is not converging.  Current: 6471.633250959143 is not greater than 6471.76342068089. Delta is -0.1301697217468245\n"
     ]
    },
    {
     "name": "stdout",
     "output_type": "stream",
     "text": [
      "更新\n"
     ]
    },
    {
     "name": "stderr",
     "output_type": "stream",
     "text": [
      "Model is not converging.  Current: 5566.466254431383 is not greater than 5566.469437381933. Delta is -0.0031829505496716592\n"
     ]
    },
    {
     "name": "stdout",
     "output_type": "stream",
     "text": [
      "更新\n"
     ]
    },
    {
     "name": "stderr",
     "output_type": "stream",
     "text": [
      "Model is not converging.  Current: 6476.271828637522 is not greater than 6476.342449042163. Delta is -0.07062040464097663\n"
     ]
    },
    {
     "name": "stdout",
     "output_type": "stream",
     "text": [
      "更新\n"
     ]
    },
    {
     "name": "stderr",
     "output_type": "stream",
     "text": [
      "Model is not converging.  Current: 6477.519328998713 is not greater than 6477.616286414101. Delta is -0.09695741538780567\n"
     ]
    },
    {
     "name": "stdout",
     "output_type": "stream",
     "text": [
      "更新\n",
      "更新\n"
     ]
    },
    {
     "name": "stderr",
     "output_type": "stream",
     "text": [
      "Model is not converging.  Current: 6482.553994159101 is not greater than 6482.588863399779. Delta is -0.03486924067783548\n"
     ]
    },
    {
     "name": "stdout",
     "output_type": "stream",
     "text": [
      "更新\n"
     ]
    },
    {
     "name": "stderr",
     "output_type": "stream",
     "text": [
      "Model is not converging.  Current: 6487.078903790765 is not greater than 6487.166827975788. Delta is -0.08792418502252985\n"
     ]
    },
    {
     "name": "stdout",
     "output_type": "stream",
     "text": [
      "更新\n",
      "更新\n",
      "更新\n",
      "更新\n",
      "更新\n",
      "更新\n",
      "更新\n"
     ]
    },
    {
     "name": "stderr",
     "output_type": "stream",
     "text": [
      "Model is not converging.  Current: 6499.719397076954 is not greater than 6499.845318285794. Delta is -0.12592120883982716\n"
     ]
    },
    {
     "name": "stdout",
     "output_type": "stream",
     "text": [
      "更新\n",
      "更新\n"
     ]
    },
    {
     "name": "stderr",
     "output_type": "stream",
     "text": [
      "Model is not converging.  Current: 6503.430319788094 is not greater than 6503.550374385738. Delta is -0.12005459764441184\n"
     ]
    },
    {
     "name": "stdout",
     "output_type": "stream",
     "text": [
      "更新\n"
     ]
    },
    {
     "name": "stderr",
     "output_type": "stream",
     "text": [
      "Model is not converging.  Current: 5668.906322749716 is not greater than 5669.13998871299. Delta is -0.2336659632737792\n"
     ]
    },
    {
     "name": "stdout",
     "output_type": "stream",
     "text": [
      "更新\n"
     ]
    },
    {
     "name": "stderr",
     "output_type": "stream",
     "text": [
      "Model is not converging.  Current: 6506.481680759534 is not greater than 6506.602834779838. Delta is -0.12115402030394762\n"
     ]
    },
    {
     "name": "stdout",
     "output_type": "stream",
     "text": [
      "更新\n",
      "更新\n",
      "更新\n",
      "更新\n"
     ]
    },
    {
     "name": "stderr",
     "output_type": "stream",
     "text": [
      "Model is not converging.  Current: 6513.626978722363 is not greater than 6513.699919559735. Delta is -0.0729408373717888\n"
     ]
    },
    {
     "name": "stdout",
     "output_type": "stream",
     "text": [
      "更新\n",
      "更新\n",
      "更新\n",
      "更新\n",
      "更新\n"
     ]
    },
    {
     "name": "stderr",
     "output_type": "stream",
     "text": [
      "Model is not converging.  Current: 6524.4731931817 is not greater than 6524.475094606241. Delta is -0.001901424541756569\n"
     ]
    },
    {
     "name": "stdout",
     "output_type": "stream",
     "text": [
      "更新\n",
      "更新\n"
     ]
    },
    {
     "name": "stderr",
     "output_type": "stream",
     "text": [
      "Model is not converging.  Current: 6528.145678963239 is not greater than 6528.275133322538. Delta is -0.12945435929850646\n"
     ]
    },
    {
     "name": "stdout",
     "output_type": "stream",
     "text": [
      "更新\n",
      "更新\n"
     ]
    },
    {
     "name": "stderr",
     "output_type": "stream",
     "text": [
      "Model is not converging.  Current: 6540.935649245281 is not greater than 6540.959459218425. Delta is -0.02380997314412525\n"
     ]
    },
    {
     "name": "stdout",
     "output_type": "stream",
     "text": [
      "更新\n"
     ]
    },
    {
     "name": "stderr",
     "output_type": "stream",
     "text": [
      "Model is not converging.  Current: 6545.094191441538 is not greater than 6545.126801082116. Delta is -0.03260964057790261\n"
     ]
    },
    {
     "name": "stdout",
     "output_type": "stream",
     "text": [
      "更新\n"
     ]
    },
    {
     "name": "stderr",
     "output_type": "stream",
     "text": [
      "Model is not converging.  Current: 6542.05586830482 is not greater than 6542.078451812479. Delta is -0.022583507658964663\n",
      "Model is not converging.  Current: 6545.987882558953 is not greater than 6545.997501790857. Delta is -0.009619231904252956\n"
     ]
    },
    {
     "name": "stdout",
     "output_type": "stream",
     "text": [
      "更新\n",
      "更新\n"
     ]
    },
    {
     "name": "stderr",
     "output_type": "stream",
     "text": [
      "Model is not converging.  Current: 6551.095194188829 is not greater than 6551.109863232941. Delta is -0.014669044112451957\n"
     ]
    },
    {
     "name": "stdout",
     "output_type": "stream",
     "text": [
      "更新\n"
     ]
    },
    {
     "name": "stderr",
     "output_type": "stream",
     "text": [
      "Model is not converging.  Current: 6560.640399522457 is not greater than 6560.653248210374. Delta is -0.012848687916630297\n",
      "Model is not converging.  Current: 6563.416326775175 is not greater than 6563.441521644032. Delta is -0.025194868857397523\n"
     ]
    },
    {
     "name": "stdout",
     "output_type": "stream",
     "text": [
      "更新\n",
      "更新\n"
     ]
    },
    {
     "name": "stderr",
     "output_type": "stream",
     "text": [
      "Model is not converging.  Current: 5698.9881687155885 is not greater than 5700.219703404581. Delta is -1.2315346889927241\n",
      "Model is not converging.  Current: 6572.098423433827 is not greater than 6572.126260554193. Delta is -0.027837120366712043\n"
     ]
    },
    {
     "name": "stdout",
     "output_type": "stream",
     "text": [
      "更新\n",
      "更新\n"
     ]
    },
    {
     "name": "stderr",
     "output_type": "stream",
     "text": [
      "Model is not converging.  Current: 5660.913181381744 is not greater than 5660.957876154697. Delta is -0.044694772953334905\n"
     ]
    },
    {
     "name": "stdout",
     "output_type": "stream",
     "text": [
      "更新\n"
     ]
    },
    {
     "name": "stderr",
     "output_type": "stream",
     "text": [
      "Model is not converging.  Current: 6574.29100930182 is not greater than 6574.30090128998. Delta is -0.009891988160234177\n"
     ]
    },
    {
     "name": "stdout",
     "output_type": "stream",
     "text": [
      "更新\n",
      "更新\n",
      "更新\n"
     ]
    },
    {
     "name": "stderr",
     "output_type": "stream",
     "text": [
      "Model is not converging.  Current: 6590.436817091544 is not greater than 6590.437271644075. Delta is -0.00045455253075488145\n"
     ]
    },
    {
     "name": "stdout",
     "output_type": "stream",
     "text": [
      "更新\n"
     ]
    },
    {
     "name": "stderr",
     "output_type": "stream",
     "text": [
      "Model is not converging.  Current: 6589.625950159962 is not greater than 6589.720229692877. Delta is -0.09427953291560698\n"
     ]
    },
    {
     "name": "stdout",
     "output_type": "stream",
     "text": [
      "更新\n"
     ]
    },
    {
     "name": "stderr",
     "output_type": "stream",
     "text": [
      "Model is not converging.  Current: 6594.376756273156 is not greater than 6594.392053064884. Delta is -0.015296791727450909\n"
     ]
    },
    {
     "name": "stdout",
     "output_type": "stream",
     "text": [
      "更新\n",
      "更新\n"
     ]
    },
    {
     "name": "stderr",
     "output_type": "stream",
     "text": [
      "Model is not converging.  Current: 6606.357876087262 is not greater than 6606.363200608243. Delta is -0.005324520980138914\n"
     ]
    },
    {
     "name": "stdout",
     "output_type": "stream",
     "text": [
      "更新\n",
      "更新\n",
      "更新\n"
     ]
    },
    {
     "name": "stderr",
     "output_type": "stream",
     "text": [
      "Model is not converging.  Current: 6609.770837014664 is not greater than 6609.772169577954. Delta is -0.0013325632899068296\n"
     ]
    },
    {
     "name": "stdout",
     "output_type": "stream",
     "text": [
      "更新\n"
     ]
    },
    {
     "name": "stderr",
     "output_type": "stream",
     "text": [
      "Model is not converging.  Current: 6617.61431233036 is not greater than 6617.636770493964. Delta is -0.022458163603914727\n",
      "Model is not converging.  Current: 5692.607311681228 is not greater than 5692.641516681797. Delta is -0.03420500056927267\n"
     ]
    },
    {
     "name": "stdout",
     "output_type": "stream",
     "text": [
      "更新\n",
      "更新\n"
     ]
    },
    {
     "name": "stderr",
     "output_type": "stream",
     "text": [
      "Model is not converging.  Current: 6620.796764273344 is not greater than 6620.896315967348. Delta is -0.09955169400382147\n"
     ]
    },
    {
     "name": "stdout",
     "output_type": "stream",
     "text": [
      "更新\n",
      "更新\n"
     ]
    },
    {
     "name": "stderr",
     "output_type": "stream",
     "text": [
      "Model is not converging.  Current: 6624.448288451667 is not greater than 6624.579048694436. Delta is -0.13076024276870157\n"
     ]
    },
    {
     "name": "stdout",
     "output_type": "stream",
     "text": [
      "更新\n"
     ]
    },
    {
     "name": "stderr",
     "output_type": "stream",
     "text": [
      "Model is not converging.  Current: 6628.178749086286 is not greater than 6628.220243416273. Delta is -0.04149432998656266\n"
     ]
    },
    {
     "name": "stdout",
     "output_type": "stream",
     "text": [
      "更新\n"
     ]
    },
    {
     "name": "stderr",
     "output_type": "stream",
     "text": [
      "Model is not converging.  Current: 6635.647372760731 is not greater than 6635.65140537228. Delta is -0.004032611549519061\n"
     ]
    },
    {
     "name": "stdout",
     "output_type": "stream",
     "text": [
      "更新\n",
      "更新\n"
     ]
    },
    {
     "name": "stderr",
     "output_type": "stream",
     "text": [
      "Model is not converging.  Current: 6644.001308964267 is not greater than 6644.080832234271. Delta is -0.07952327000384685\n"
     ]
    },
    {
     "name": "stdout",
     "output_type": "stream",
     "text": [
      "更新\n",
      "更新\n"
     ]
    },
    {
     "name": "stderr",
     "output_type": "stream",
     "text": [
      "Model is not converging.  Current: 6646.584923689545 is not greater than 6646.645032911379. Delta is -0.06010922183395451\n"
     ]
    },
    {
     "name": "stdout",
     "output_type": "stream",
     "text": [
      "更新\n",
      "更新\n",
      "更新\n",
      "更新\n"
     ]
    },
    {
     "name": "stderr",
     "output_type": "stream",
     "text": [
      "Model is not converging.  Current: 6648.93938956295 is not greater than 6649.0758578480445. Delta is -0.13646828509445186\n",
      "Model is not converging.  Current: 6661.467159399167 is not greater than 6661.477339657741. Delta is -0.010180258574109757\n"
     ]
    },
    {
     "name": "stdout",
     "output_type": "stream",
     "text": [
      "更新\n",
      "更新\n"
     ]
    },
    {
     "name": "stderr",
     "output_type": "stream",
     "text": [
      "Model is not converging.  Current: 6664.785572443847 is not greater than 6664.794412002705. Delta is -0.00883955885819887\n"
     ]
    },
    {
     "name": "stdout",
     "output_type": "stream",
     "text": [
      "更新\n",
      "更新\n",
      "更新\n"
     ]
    },
    {
     "name": "stderr",
     "output_type": "stream",
     "text": [
      "Model is not converging.  Current: 6658.332966655203 is not greater than 6658.386616464858. Delta is -0.05364980965532595\n"
     ]
    },
    {
     "name": "stdout",
     "output_type": "stream",
     "text": [
      "更新\n"
     ]
    },
    {
     "name": "stderr",
     "output_type": "stream",
     "text": [
      "Model is not converging.  Current: 6659.898032759328 is not greater than 6659.949147240725. Delta is -0.05111448139723507\n"
     ]
    },
    {
     "name": "stdout",
     "output_type": "stream",
     "text": [
      "更新\n",
      "更新\n"
     ]
    },
    {
     "name": "stderr",
     "output_type": "stream",
     "text": [
      "Model is not converging.  Current: 6674.856229443327 is not greater than 6674.919239540172. Delta is -0.06301009684557357\n",
      "Model is not converging.  Current: 6664.495234462637 is not greater than 6664.506520781272. Delta is -0.011286318635029602\n"
     ]
    },
    {
     "name": "stdout",
     "output_type": "stream",
     "text": [
      "更新\n",
      "更新\n"
     ]
    },
    {
     "name": "stderr",
     "output_type": "stream",
     "text": [
      "Model is not converging.  Current: 6680.109130430999 is not greater than 6680.111130958541. Delta is -0.0020005275418952806\n"
     ]
    },
    {
     "name": "stdout",
     "output_type": "stream",
     "text": [
      "更新\n",
      "更新\n"
     ]
    },
    {
     "name": "stderr",
     "output_type": "stream",
     "text": [
      "Model is not converging.  Current: 5749.792058894713 is not greater than 5749.909745385706. Delta is -0.1176864909930373\n"
     ]
    },
    {
     "name": "stdout",
     "output_type": "stream",
     "text": [
      "更新\n",
      "更新\n",
      "更新\n"
     ]
    },
    {
     "name": "stderr",
     "output_type": "stream",
     "text": [
      "Model is not converging.  Current: 6690.951076571468 is not greater than 6691.016083232335. Delta is -0.06500666086776619\n"
     ]
    },
    {
     "name": "stdout",
     "output_type": "stream",
     "text": [
      "更新\n",
      "更新\n"
     ]
    },
    {
     "name": "stderr",
     "output_type": "stream",
     "text": [
      "Model is not converging.  Current: 6697.469041885547 is not greater than 6697.520997458246. Delta is -0.051955572698716423\n"
     ]
    },
    {
     "name": "stdout",
     "output_type": "stream",
     "text": [
      "更新\n"
     ]
    },
    {
     "name": "stderr",
     "output_type": "stream",
     "text": [
      "Model is not converging.  Current: 6701.0116770088725 is not greater than 6701.071329630511. Delta is -0.05965262163863372\n"
     ]
    },
    {
     "name": "stdout",
     "output_type": "stream",
     "text": [
      "更新\n",
      "更新\n",
      "更新\n"
     ]
    },
    {
     "name": "stderr",
     "output_type": "stream",
     "text": [
      "Model is not converging.  Current: 6709.693924821952 is not greater than 6709.73870997939. Delta is -0.044785157437218004\n",
      "Model is not converging.  Current: 6712.928273967132 is not greater than 6712.9458914331035. Delta is -0.017617465971852653\n"
     ]
    },
    {
     "name": "stdout",
     "output_type": "stream",
     "text": [
      "更新\n",
      "更新\n",
      "更新\n"
     ]
    },
    {
     "name": "stderr",
     "output_type": "stream",
     "text": [
      "Model is not converging.  Current: 6719.425817447571 is not greater than 6719.432465318891. Delta is -0.0066478713206379325\n",
      "Model is not converging.  Current: 6722.551577264081 is not greater than 6722.576352396737. Delta is -0.02477513265603193\n"
     ]
    },
    {
     "name": "stdout",
     "output_type": "stream",
     "text": [
      "更新\n",
      "更新\n",
      "更新\n"
     ]
    },
    {
     "name": "stderr",
     "output_type": "stream",
     "text": [
      "Model is not converging.  Current: 6728.196729347411 is not greater than 6728.241307779918. Delta is -0.04457843250747828\n"
     ]
    },
    {
     "name": "stdout",
     "output_type": "stream",
     "text": [
      "更新\n"
     ]
    },
    {
     "name": "stderr",
     "output_type": "stream",
     "text": [
      "Model is not converging.  Current: 6725.473045065287 is not greater than 6725.480348768547. Delta is -0.007303703259822214\n"
     ]
    },
    {
     "name": "stdout",
     "output_type": "stream",
     "text": [
      "更新\n",
      "更新\n"
     ]
    },
    {
     "name": "stderr",
     "output_type": "stream",
     "text": [
      "Model is not converging.  Current: 6737.600750068139 is not greater than 6737.622614955243. Delta is -0.021864887104129593\n"
     ]
    },
    {
     "name": "stdout",
     "output_type": "stream",
     "text": [
      "更新\n"
     ]
    },
    {
     "name": "stderr",
     "output_type": "stream",
     "text": [
      "Model is not converging.  Current: 6735.643144209315 is not greater than 6735.662166395637. Delta is -0.019022186321308254\n"
     ]
    },
    {
     "name": "stdout",
     "output_type": "stream",
     "text": [
      "更新\n",
      "更新\n",
      "更新\n",
      "更新\n"
     ]
    },
    {
     "name": "stderr",
     "output_type": "stream",
     "text": [
      "Model is not converging.  Current: 6747.592617203024 is not greater than 6747.597350605113. Delta is -0.004733402089186711\n"
     ]
    },
    {
     "name": "stdout",
     "output_type": "stream",
     "text": [
      "更新\n"
     ]
    },
    {
     "name": "stderr",
     "output_type": "stream",
     "text": [
      "Model is not converging.  Current: 6750.2178468113425 is not greater than 6750.246222000855. Delta is -0.028375189512189536\n"
     ]
    },
    {
     "name": "stdout",
     "output_type": "stream",
     "text": [
      "更新\n",
      "更新\n",
      "更新\n"
     ]
    },
    {
     "name": "stderr",
     "output_type": "stream",
     "text": [
      "Model is not converging.  Current: 5806.838958130395 is not greater than 5806.858513191306. Delta is -0.01955506091053394\n"
     ]
    },
    {
     "name": "stdout",
     "output_type": "stream",
     "text": [
      "更新\n",
      "更新\n",
      "更新\n"
     ]
    },
    {
     "name": "stderr",
     "output_type": "stream",
     "text": [
      "Model is not converging.  Current: 6768.597762621002 is not greater than 6768.609473284589. Delta is -0.011710663586200099\n"
     ]
    },
    {
     "name": "stdout",
     "output_type": "stream",
     "text": [
      "更新\n",
      "更新\n"
     ]
    },
    {
     "name": "stderr",
     "output_type": "stream",
     "text": [
      "Model is not converging.  Current: 6775.8746900114575 is not greater than 6775.8826375841845. Delta is -0.007947572727061925\n"
     ]
    },
    {
     "name": "stdout",
     "output_type": "stream",
     "text": [
      "更新\n"
     ]
    },
    {
     "name": "stderr",
     "output_type": "stream",
     "text": [
      "Model is not converging.  Current: 6778.297033943289 is not greater than 6778.337474669193. Delta is -0.04044072590477299\n"
     ]
    },
    {
     "name": "stdout",
     "output_type": "stream",
     "text": [
      "更新\n",
      "更新\n",
      "更新\n"
     ]
    },
    {
     "name": "stderr",
     "output_type": "stream",
     "text": [
      "Model is not converging.  Current: 5890.07036435733 is not greater than 5890.1098593986435. Delta is -0.039495041313784895\n"
     ]
    },
    {
     "name": "stdout",
     "output_type": "stream",
     "text": [
      "更新\n",
      "更新\n"
     ]
    },
    {
     "name": "stderr",
     "output_type": "stream",
     "text": [
      "Model is not converging.  Current: 6796.795528828181 is not greater than 6796.820393581319. Delta is -0.024864753137990192\n"
     ]
    },
    {
     "name": "stdout",
     "output_type": "stream",
     "text": [
      "更新\n"
     ]
    },
    {
     "name": "stderr",
     "output_type": "stream",
     "text": [
      "Model is not converging.  Current: 6793.862550657447 is not greater than 6793.912021852386. Delta is -0.049471194938632834\n"
     ]
    },
    {
     "name": "stdout",
     "output_type": "stream",
     "text": [
      "更新\n",
      "更新\n"
     ]
    },
    {
     "name": "stderr",
     "output_type": "stream",
     "text": [
      "Model is not converging.  Current: 6801.817953446186 is not greater than 6801.861928301861. Delta is -0.04397485567460535\n"
     ]
    },
    {
     "name": "stdout",
     "output_type": "stream",
     "text": [
      "更新\n"
     ]
    },
    {
     "name": "stderr",
     "output_type": "stream",
     "text": [
      "Model is not converging.  Current: 6807.206446354238 is not greater than 6807.244491305272. Delta is -0.03804495103395311\n"
     ]
    },
    {
     "name": "stdout",
     "output_type": "stream",
     "text": [
      "更新\n",
      "更新\n"
     ]
    },
    {
     "name": "stderr",
     "output_type": "stream",
     "text": [
      "Model is not converging.  Current: 6816.474019072992 is not greater than 6816.50633992663. Delta is -0.03232085363833903\n"
     ]
    },
    {
     "name": "stdout",
     "output_type": "stream",
     "text": [
      "更新\n",
      "更新\n"
     ]
    },
    {
     "name": "stderr",
     "output_type": "stream",
     "text": [
      "Model is not converging.  Current: 6808.415926743853 is not greater than 6808.454455898811. Delta is -0.03852915495826892\n"
     ]
    },
    {
     "name": "stdout",
     "output_type": "stream",
     "text": [
      "更新\n"
     ]
    },
    {
     "name": "stderr",
     "output_type": "stream",
     "text": [
      "Model is not converging.  Current: 6809.3996833841575 is not greater than 6809.478919152. Delta is -0.07923576784287434\n"
     ]
    },
    {
     "name": "stdout",
     "output_type": "stream",
     "text": [
      "更新\n",
      "更新\n",
      "更新\n",
      "更新\n",
      "更新\n",
      "更新\n",
      "更新\n"
     ]
    },
    {
     "name": "stderr",
     "output_type": "stream",
     "text": [
      "Model is not converging.  Current: 6814.429758982676 is not greater than 6814.534424093379. Delta is -0.1046651107035359\n"
     ]
    },
    {
     "name": "stdout",
     "output_type": "stream",
     "text": [
      "更新\n",
      "更新\n"
     ]
    },
    {
     "name": "stderr",
     "output_type": "stream",
     "text": [
      "Model is not converging.  Current: 5851.8779532163335 is not greater than 5851.887314418235. Delta is -0.009361201901811\n"
     ]
    },
    {
     "name": "stdout",
     "output_type": "stream",
     "text": [
      "更新\n",
      "更新\n",
      "更新\n"
     ]
    },
    {
     "name": "stderr",
     "output_type": "stream",
     "text": [
      "Model is not converging.  Current: 5855.8826289333765 is not greater than 5855.890384874179. Delta is -0.0077559408027809695\n",
      "Model is not converging.  Current: 6822.790935383894 is not greater than 6822.802532527972. Delta is -0.01159714407822321\n"
     ]
    },
    {
     "name": "stdout",
     "output_type": "stream",
     "text": [
      "更新\n",
      "更新\n"
     ]
    },
    {
     "name": "stderr",
     "output_type": "stream",
     "text": [
      "Model is not converging.  Current: 6825.312455636775 is not greater than 6825.322816328138. Delta is -0.01036069136353035\n"
     ]
    },
    {
     "name": "stdout",
     "output_type": "stream",
     "text": [
      "更新\n"
     ]
    },
    {
     "name": "stderr",
     "output_type": "stream",
     "text": [
      "Model is not converging.  Current: 6823.020993074987 is not greater than 6823.169317182735. Delta is -0.1483241077476123\n"
     ]
    },
    {
     "name": "stdout",
     "output_type": "stream",
     "text": [
      "更新\n"
     ]
    },
    {
     "name": "stderr",
     "output_type": "stream",
     "text": [
      "Model is not converging.  Current: 6825.338766616243 is not greater than 6825.364633400866. Delta is -0.02586678462284908\n"
     ]
    },
    {
     "name": "stdout",
     "output_type": "stream",
     "text": [
      "更新\n"
     ]
    },
    {
     "name": "stderr",
     "output_type": "stream",
     "text": [
      "Model is not converging.  Current: 5917.879266836383 is not greater than 5918.41284262006. Delta is -0.5335757836764969\n"
     ]
    },
    {
     "name": "stdout",
     "output_type": "stream",
     "text": [
      "更新\n",
      "更新\n"
     ]
    },
    {
     "name": "stderr",
     "output_type": "stream",
     "text": [
      "Model is not converging.  Current: 6831.661246901315 is not greater than 6831.6717150269815. Delta is -0.010468125666193373\n"
     ]
    },
    {
     "name": "stdout",
     "output_type": "stream",
     "text": [
      "更新\n"
     ]
    },
    {
     "name": "stderr",
     "output_type": "stream",
     "text": [
      "Model is not converging.  Current: 6834.237596580717 is not greater than 6834.3124603936685. Delta is -0.07486381295166211\n"
     ]
    },
    {
     "name": "stdout",
     "output_type": "stream",
     "text": [
      "更新\n"
     ]
    },
    {
     "name": "stderr",
     "output_type": "stream",
     "text": [
      "Model is not converging.  Current: 6838.2065706692965 is not greater than 6838.3462758227815. Delta is -0.13970515348501067\n"
     ]
    },
    {
     "name": "stdout",
     "output_type": "stream",
     "text": [
      "更新\n",
      "更新\n",
      "更新\n"
     ]
    },
    {
     "name": "stderr",
     "output_type": "stream",
     "text": [
      "Model is not converging.  Current: 6846.79442446452 is not greater than 6846.808772734729. Delta is -0.014348270209666225\n"
     ]
    },
    {
     "name": "stdout",
     "output_type": "stream",
     "text": [
      "更新\n",
      "更新\n"
     ]
    },
    {
     "name": "stderr",
     "output_type": "stream",
     "text": [
      "Model is not converging.  Current: 6849.805703188299 is not greater than 6849.808352175587. Delta is -0.0026489872880119947\n"
     ]
    },
    {
     "name": "stdout",
     "output_type": "stream",
     "text": [
      "更新\n",
      "更新\n",
      "更新\n"
     ]
    },
    {
     "name": "stderr",
     "output_type": "stream",
     "text": [
      "Model is not converging.  Current: 6853.017671874279 is not greater than 6853.036014403952. Delta is -0.018342529673645913\n",
      "Model is not converging.  Current: 6857.386010098349 is not greater than 6857.387603856773. Delta is -0.0015937584239509306\n"
     ]
    },
    {
     "name": "stdout",
     "output_type": "stream",
     "text": [
      "更新\n",
      "更新\n"
     ]
    },
    {
     "name": "stderr",
     "output_type": "stream",
     "text": [
      "Model is not converging.  Current: 6853.640781017373 is not greater than 6853.642829231186. Delta is -0.0020482138124862104\n"
     ]
    },
    {
     "name": "stdout",
     "output_type": "stream",
     "text": [
      "更新\n",
      "更新\n"
     ]
    },
    {
     "name": "stderr",
     "output_type": "stream",
     "text": [
      "Model is not converging.  Current: 6858.408562343414 is not greater than 6858.408948910241. Delta is -0.00038656682681903476\n"
     ]
    },
    {
     "name": "stdout",
     "output_type": "stream",
     "text": [
      "更新\n",
      "更新\n"
     ]
    },
    {
     "name": "stderr",
     "output_type": "stream",
     "text": [
      "Model is not converging.  Current: 6861.53839278029 is not greater than 6861.53963667454. Delta is -0.0012438942494554794\n"
     ]
    },
    {
     "name": "stdout",
     "output_type": "stream",
     "text": [
      "更新\n"
     ]
    },
    {
     "name": "stderr",
     "output_type": "stream",
     "text": [
      "Model is not converging.  Current: 6866.747062136759 is not greater than 6866.797663404612. Delta is -0.05060126785247121\n"
     ]
    },
    {
     "name": "stdout",
     "output_type": "stream",
     "text": [
      "更新\n",
      "更新\n"
     ]
    },
    {
     "name": "stderr",
     "output_type": "stream",
     "text": [
      "Model is not converging.  Current: 6867.145419877646 is not greater than 6867.255910681513. Delta is -0.11049080386692367\n"
     ]
    },
    {
     "name": "stdout",
     "output_type": "stream",
     "text": [
      "更新\n",
      "更新\n",
      "更新\n",
      "更新\n",
      "更新\n",
      "更新\n"
     ]
    },
    {
     "name": "stderr",
     "output_type": "stream",
     "text": [
      "Model is not converging.  Current: 6874.390241059167 is not greater than 6874.6033585833. Delta is -0.21311752413294016\n",
      "Model is not converging.  Current: 6874.520299138076 is not greater than 6874.7373872909175. Delta is -0.21708815284182492\n"
     ]
    },
    {
     "name": "stdout",
     "output_type": "stream",
     "text": [
      "更新\n",
      "更新\n"
     ]
    },
    {
     "name": "stderr",
     "output_type": "stream",
     "text": [
      "Model is not converging.  Current: 6875.188188454721 is not greater than 6875.2015658228975. Delta is -0.01337736817640689\n"
     ]
    },
    {
     "name": "stdout",
     "output_type": "stream",
     "text": [
      "更新\n"
     ]
    },
    {
     "name": "stderr",
     "output_type": "stream",
     "text": [
      "Model is not converging.  Current: 6875.131901322657 is not greater than 6875.137908378781. Delta is -0.006007056123962684\n"
     ]
    },
    {
     "name": "stdout",
     "output_type": "stream",
     "text": [
      "更新\n",
      "更新\n"
     ]
    },
    {
     "name": "stderr",
     "output_type": "stream",
     "text": [
      "Model is not converging.  Current: 6872.020227567786 is not greater than 6872.11557969454. Delta is -0.09535212675473304\n"
     ]
    },
    {
     "name": "stdout",
     "output_type": "stream",
     "text": [
      "更新\n",
      "更新\n",
      "更新\n"
     ]
    },
    {
     "name": "stderr",
     "output_type": "stream",
     "text": [
      "Model is not converging.  Current: 5866.988218810981 is not greater than 5867.057467437052. Delta is -0.06924862607047544\n",
      "Model is not converging.  Current: 6860.815585680378 is not greater than 6860.870988967167. Delta is -0.05540328678944206\n"
     ]
    },
    {
     "name": "stdout",
     "output_type": "stream",
     "text": [
      "更新\n",
      "更新\n"
     ]
    },
    {
     "name": "stderr",
     "output_type": "stream",
     "text": [
      "Model is not converging.  Current: 6859.876800678705 is not greater than 6859.9201139766665. Delta is -0.04331329796150385\n"
     ]
    },
    {
     "name": "stdout",
     "output_type": "stream",
     "text": [
      "更新\n",
      "更新\n",
      "更新\n"
     ]
    },
    {
     "name": "stderr",
     "output_type": "stream",
     "text": [
      "Model is not converging.  Current: 6854.516699251322 is not greater than 6854.545461428938. Delta is -0.028762177616044937\n"
     ]
    },
    {
     "name": "stdout",
     "output_type": "stream",
     "text": [
      "更新\n"
     ]
    },
    {
     "name": "stderr",
     "output_type": "stream",
     "text": [
      "Model is not converging.  Current: 6843.820507758061 is not greater than 6843.8366318275575. Delta is -0.016124069496981974\n",
      "Model is not converging.  Current: 6846.428573163703 is not greater than 6846.517721968116. Delta is -0.0891488044135258\n"
     ]
    },
    {
     "name": "stdout",
     "output_type": "stream",
     "text": [
      "更新\n",
      "更新\n"
     ]
    },
    {
     "name": "stderr",
     "output_type": "stream",
     "text": [
      "Model is not converging.  Current: 6844.790421991057 is not greater than 6844.814397071068. Delta is -0.023975080011041427\n",
      "Model is not converging.  Current: 6842.734198780272 is not greater than 6842.741432513365. Delta is -0.007233733093016781\n"
     ]
    },
    {
     "name": "stdout",
     "output_type": "stream",
     "text": [
      "更新\n",
      "更新\n"
     ]
    },
    {
     "name": "stderr",
     "output_type": "stream",
     "text": [
      "Model is not converging.  Current: 6842.122728294825 is not greater than 6842.1710540672375. Delta is -0.048325772412681545\n"
     ]
    },
    {
     "name": "stdout",
     "output_type": "stream",
     "text": [
      "更新\n"
     ]
    },
    {
     "name": "stderr",
     "output_type": "stream",
     "text": [
      "Model is not converging.  Current: 6841.103891741008 is not greater than 6841.120665231614. Delta is -0.016773490606283303\n"
     ]
    },
    {
     "name": "stdout",
     "output_type": "stream",
     "text": [
      "更新\n"
     ]
    },
    {
     "name": "stderr",
     "output_type": "stream",
     "text": [
      "Model is not converging.  Current: 6839.6292102512825 is not greater than 6839.703856041754. Delta is -0.07464579047154984\n"
     ]
    },
    {
     "name": "stdout",
     "output_type": "stream",
     "text": [
      "更新\n",
      "更新\n"
     ]
    },
    {
     "name": "stderr",
     "output_type": "stream",
     "text": [
      "Model is not converging.  Current: 5784.117695588515 is not greater than 5784.159258159424. Delta is -0.04156257090926374\n"
     ]
    },
    {
     "name": "stdout",
     "output_type": "stream",
     "text": [
      "更新\n",
      "更新\n",
      "更新\n"
     ]
    },
    {
     "name": "stderr",
     "output_type": "stream",
     "text": [
      "Model is not converging.  Current: 6831.896536782965 is not greater than 6831.935165324044. Delta is -0.038628541078651324\n"
     ]
    },
    {
     "name": "stdout",
     "output_type": "stream",
     "text": [
      "更新\n",
      "更新\n",
      "更新\n",
      "更新\n",
      "更新\n",
      "更新\n"
     ]
    },
    {
     "name": "stderr",
     "output_type": "stream",
     "text": [
      "Model is not converging.  Current: 6839.034233614098 is not greater than 6839.049169559638. Delta is -0.01493594553994626\n",
      "Model is not converging.  Current: 6841.0573985559595 is not greater than 6841.072021974404. Delta is -0.014623418444898562\n"
     ]
    },
    {
     "name": "stdout",
     "output_type": "stream",
     "text": [
      "更新\n",
      "更新\n",
      "更新\n",
      "更新\n",
      "更新\n"
     ]
    },
    {
     "name": "stderr",
     "output_type": "stream",
     "text": [
      "Model is not converging.  Current: 6843.103061339559 is not greater than 6843.141411844. Delta is -0.03835050444104127\n"
     ]
    },
    {
     "name": "stdout",
     "output_type": "stream",
     "text": [
      "更新\n"
     ]
    },
    {
     "name": "stderr",
     "output_type": "stream",
     "text": [
      "Model is not converging.  Current: 6843.96899458818 is not greater than 6843.999905952278. Delta is -0.030911364097846672\n"
     ]
    },
    {
     "name": "stdout",
     "output_type": "stream",
     "text": [
      "更新\n"
     ]
    },
    {
     "name": "stderr",
     "output_type": "stream",
     "text": [
      "Model is not converging.  Current: 6844.772719443287 is not greater than 6844.833238459775. Delta is -0.06051901648788771\n",
      "Model is not converging.  Current: 6845.93287443058 is not greater than 6845.980310391033. Delta is -0.04743596045227605\n"
     ]
    },
    {
     "name": "stdout",
     "output_type": "stream",
     "text": [
      "更新\n",
      "更新\n",
      "更新\n"
     ]
    },
    {
     "name": "stderr",
     "output_type": "stream",
     "text": [
      "Model is not converging.  Current: 6848.235634304535 is not greater than 6848.236879195007. Delta is -0.001244890471753024\n"
     ]
    },
    {
     "name": "stdout",
     "output_type": "stream",
     "text": [
      "更新\n"
     ]
    },
    {
     "name": "stderr",
     "output_type": "stream",
     "text": [
      "Model is not converging.  Current: 6849.079447636535 is not greater than 6849.146730442611. Delta is -0.06728280607603665\n"
     ]
    },
    {
     "name": "stdout",
     "output_type": "stream",
     "text": [
      "更新\n"
     ]
    },
    {
     "name": "stderr",
     "output_type": "stream",
     "text": [
      "Model is not converging.  Current: 6849.312021453231 is not greater than 6849.354112954167. Delta is -0.042091500936294324\n"
     ]
    },
    {
     "name": "stdout",
     "output_type": "stream",
     "text": [
      "更新\n"
     ]
    },
    {
     "name": "stderr",
     "output_type": "stream",
     "text": [
      "Model is not converging.  Current: 6849.406923429113 is not greater than 6849.409542164858. Delta is -0.0026187357452727156\n"
     ]
    },
    {
     "name": "stdout",
     "output_type": "stream",
     "text": [
      "更新\n",
      "更新\n",
      "更新\n"
     ]
    },
    {
     "name": "stderr",
     "output_type": "stream",
     "text": [
      "Model is not converging.  Current: 6847.450273650186 is not greater than 6847.49239010656. Delta is -0.04211645637406036\n"
     ]
    },
    {
     "name": "stdout",
     "output_type": "stream",
     "text": [
      "更新\n"
     ]
    },
    {
     "name": "stderr",
     "output_type": "stream",
     "text": [
      "Model is not converging.  Current: 6846.519787968529 is not greater than 6846.564732877181. Delta is -0.04494490865181433\n"
     ]
    },
    {
     "name": "stdout",
     "output_type": "stream",
     "text": [
      "更新\n",
      "更新\n",
      "更新\n",
      "更新\n"
     ]
    },
    {
     "name": "stderr",
     "output_type": "stream",
     "text": [
      "Model is not converging.  Current: 6844.565898575026 is not greater than 6844.622857512166. Delta is -0.05695893713982514\n"
     ]
    },
    {
     "name": "stdout",
     "output_type": "stream",
     "text": [
      "更新\n"
     ]
    },
    {
     "name": "stderr",
     "output_type": "stream",
     "text": [
      "Model is not converging.  Current: 5712.973795599501 is not greater than 5713.111596880723. Delta is -0.1378012812219822\n"
     ]
    },
    {
     "name": "stdout",
     "output_type": "stream",
     "text": [
      "更新\n",
      "更新\n",
      "更新\n"
     ]
    },
    {
     "name": "stderr",
     "output_type": "stream",
     "text": [
      "Model is not converging.  Current: 6844.608705934846 is not greater than 6844.662198640278. Delta is -0.05349270543229068\n"
     ]
    },
    {
     "name": "stdout",
     "output_type": "stream",
     "text": [
      "更新\n",
      "更新\n"
     ]
    },
    {
     "name": "stderr",
     "output_type": "stream",
     "text": [
      "Model is not converging.  Current: 6843.685898607092 is not greater than 6843.7556254090505. Delta is -0.06972680195849534\n"
     ]
    },
    {
     "name": "stdout",
     "output_type": "stream",
     "text": [
      "更新\n",
      "更新\n",
      "更新\n",
      "更新\n"
     ]
    },
    {
     "name": "stderr",
     "output_type": "stream",
     "text": [
      "Model is not converging.  Current: 6840.449374125952 is not greater than 6840.519698192593. Delta is -0.07032406664075097\n",
      "Model is not converging.  Current: 5684.759962496894 is not greater than 5684.778908123528. Delta is -0.018945626633467327\n"
     ]
    },
    {
     "name": "stdout",
     "output_type": "stream",
     "text": [
      "更新\n",
      "更新\n"
     ]
    },
    {
     "name": "stderr",
     "output_type": "stream",
     "text": [
      "Model is not converging.  Current: 6839.003671743488 is not greater than 6839.021760204608. Delta is -0.018088461119987187\n"
     ]
    },
    {
     "name": "stdout",
     "output_type": "stream",
     "text": [
      "更新\n",
      "更新\n"
     ]
    },
    {
     "name": "stderr",
     "output_type": "stream",
     "text": [
      "Model is not converging.  Current: 6837.924832779965 is not greater than 6837.96612454694. Delta is -0.041291766974609345\n"
     ]
    },
    {
     "name": "stdout",
     "output_type": "stream",
     "text": [
      "更新\n",
      "更新\n"
     ]
    },
    {
     "name": "stderr",
     "output_type": "stream",
     "text": [
      "Model is not converging.  Current: 6838.682593223541 is not greater than 6838.688696254859. Delta is -0.006103031318161811\n"
     ]
    },
    {
     "name": "stdout",
     "output_type": "stream",
     "text": [
      "更新\n",
      "更新\n",
      "更新\n"
     ]
    },
    {
     "name": "stderr",
     "output_type": "stream",
     "text": [
      "Model is not converging.  Current: 5664.554575167931 is not greater than 5664.599107824691. Delta is -0.044532656759656675\n"
     ]
    },
    {
     "name": "stdout",
     "output_type": "stream",
     "text": [
      "更新\n"
     ]
    },
    {
     "name": "stderr",
     "output_type": "stream",
     "text": [
      "Model is not converging.  Current: 6839.497520799587 is not greater than 6839.508672227503. Delta is -0.011151427916047396\n"
     ]
    },
    {
     "name": "stdout",
     "output_type": "stream",
     "text": [
      "更新\n"
     ]
    },
    {
     "name": "stderr",
     "output_type": "stream",
     "text": [
      "Model is not converging.  Current: 6840.210817318944 is not greater than 6840.274173595947. Delta is -0.06335627700354962\n"
     ]
    },
    {
     "name": "stdout",
     "output_type": "stream",
     "text": [
      "更新\n",
      "更新\n"
     ]
    },
    {
     "name": "stderr",
     "output_type": "stream",
     "text": [
      "Model is not converging.  Current: 5567.5460925525385 is not greater than 5587.225500412276. Delta is -19.679407859737694\n"
     ]
    },
    {
     "name": "stdout",
     "output_type": "stream",
     "text": [
      "更新\n"
     ]
    },
    {
     "name": "stderr",
     "output_type": "stream",
     "text": [
      "Model is not converging.  Current: 6844.097208058071 is not greater than 6844.109584913246. Delta is -0.012376855174807133\n"
     ]
    },
    {
     "name": "stdout",
     "output_type": "stream",
     "text": [
      "更新\n",
      "更新\n",
      "更新\n"
     ]
    },
    {
     "name": "stderr",
     "output_type": "stream",
     "text": [
      "Model is not converging.  Current: 6851.751940329318 is not greater than 6851.795797433317. Delta is -0.0438571039985618\n"
     ]
    },
    {
     "name": "stdout",
     "output_type": "stream",
     "text": [
      "更新\n",
      "更新\n"
     ]
    },
    {
     "name": "stderr",
     "output_type": "stream",
     "text": [
      "Model is not converging.  Current: 6852.8491176856705 is not greater than 6852.872896709101. Delta is -0.02377902343050664\n",
      "Model is not converging.  Current: 6854.763632288509 is not greater than 6854.811887087166. Delta is -0.04825479865667148\n"
     ]
    },
    {
     "name": "stdout",
     "output_type": "stream",
     "text": [
      "更新\n",
      "更新\n"
     ]
    },
    {
     "name": "stderr",
     "output_type": "stream",
     "text": [
      "Model is not converging.  Current: 6856.745090411952 is not greater than 6856.789548504784. Delta is -0.044458092831519025\n"
     ]
    },
    {
     "name": "stdout",
     "output_type": "stream",
     "text": [
      "更新\n"
     ]
    },
    {
     "name": "stderr",
     "output_type": "stream",
     "text": [
      "Model is not converging.  Current: 6859.014473285588 is not greater than 6859.067216672923. Delta is -0.05274338733488548\n"
     ]
    },
    {
     "name": "stdout",
     "output_type": "stream",
     "text": [
      "更新\n",
      "更新\n"
     ]
    },
    {
     "name": "stderr",
     "output_type": "stream",
     "text": [
      "Model is not converging.  Current: 6861.916142168191 is not greater than 6861.965822813517. Delta is -0.04968064532567951\n"
     ]
    },
    {
     "name": "stdout",
     "output_type": "stream",
     "text": [
      "更新\n",
      "更新\n"
     ]
    },
    {
     "name": "stderr",
     "output_type": "stream",
     "text": [
      "Model is not converging.  Current: 6866.986429529745 is not greater than 6867.030477443515. Delta is -0.04404791377055517\n"
     ]
    },
    {
     "name": "stdout",
     "output_type": "stream",
     "text": [
      "更新\n",
      "更新\n",
      "更新\n"
     ]
    },
    {
     "name": "stderr",
     "output_type": "stream",
     "text": [
      "Model is not converging.  Current: 6870.651099303704 is not greater than 6870.6856857018465. Delta is -0.034586398142891994\n"
     ]
    },
    {
     "name": "stdout",
     "output_type": "stream",
     "text": [
      "更新\n",
      "更新\n"
     ]
    },
    {
     "name": "stderr",
     "output_type": "stream",
     "text": [
      "Model is not converging.  Current: 6873.376767020774 is not greater than 6873.382340774149. Delta is -0.005573753374847001\n",
      "Model is not converging.  Current: 6874.538616880372 is not greater than 6874.575706722373. Delta is -0.037089842001478246\n"
     ]
    },
    {
     "name": "stdout",
     "output_type": "stream",
     "text": [
      "更新\n",
      "更新\n"
     ]
    },
    {
     "name": "stderr",
     "output_type": "stream",
     "text": [
      "Model is not converging.  Current: 6875.569554254781 is not greater than 6875.5750523887145. Delta is -0.005498133933542704\n"
     ]
    },
    {
     "name": "stdout",
     "output_type": "stream",
     "text": [
      "更新\n",
      "更新\n",
      "更新\n"
     ]
    },
    {
     "name": "stderr",
     "output_type": "stream",
     "text": [
      "Model is not converging.  Current: 6881.084119182392 is not greater than 6881.130693886012. Delta is -0.046574703619626234\n"
     ]
    },
    {
     "name": "stdout",
     "output_type": "stream",
     "text": [
      "更新\n",
      "更新\n",
      "更新\n"
     ]
    },
    {
     "name": "stderr",
     "output_type": "stream",
     "text": [
      "Model is not converging.  Current: 6885.66807441707 is not greater than 6885.73253996185. Delta is -0.06446554478043254\n",
      "Model is not converging.  Current: 6887.263947358146 is not greater than 6887.278850175832. Delta is -0.01490281768656132\n"
     ]
    },
    {
     "name": "stdout",
     "output_type": "stream",
     "text": [
      "更新\n",
      "更新\n",
      "更新\n",
      "更新\n",
      "更新\n",
      "更新\n",
      "更新\n",
      "更新\n",
      "更新\n",
      "更新\n",
      "更新\n"
     ]
    },
    {
     "name": "stderr",
     "output_type": "stream",
     "text": [
      "Model is not converging.  Current: 6904.743187690443 is not greater than 6904.764972470539. Delta is -0.021784780095913447\n"
     ]
    },
    {
     "name": "stdout",
     "output_type": "stream",
     "text": [
      "更新\n"
     ]
    },
    {
     "name": "stderr",
     "output_type": "stream",
     "text": [
      "Model is not converging.  Current: 6906.550561313297 is not greater than 6906.567043131258. Delta is -0.016481817960993794\n"
     ]
    },
    {
     "name": "stdout",
     "output_type": "stream",
     "text": [
      "更新\n",
      "更新\n"
     ]
    },
    {
     "name": "stderr",
     "output_type": "stream",
     "text": [
      "Model is not converging.  Current: 6909.100515268645 is not greater than 6909.148238535334. Delta is -0.04772326668899041\n",
      "Model is not converging.  Current: 5733.736260901801 is not greater than 5733.81777736257. Delta is -0.08151646076930774\n"
     ]
    },
    {
     "name": "stdout",
     "output_type": "stream",
     "text": [
      "更新\n",
      "更新\n"
     ]
    },
    {
     "name": "stderr",
     "output_type": "stream",
     "text": [
      "Model is not converging.  Current: 6910.907566369084 is not greater than 6910.948147196293. Delta is -0.04058082720894163\n"
     ]
    },
    {
     "name": "stdout",
     "output_type": "stream",
     "text": [
      "更新\n",
      "更新\n",
      "更新\n",
      "更新\n",
      "更新\n",
      "更新\n",
      "更新\n"
     ]
    },
    {
     "name": "stderr",
     "output_type": "stream",
     "text": [
      "Model is not converging.  Current: 6923.512196617748 is not greater than 6923.525272504291. Delta is -0.013075886543447268\n"
     ]
    },
    {
     "name": "stdout",
     "output_type": "stream",
     "text": [
      "更新\n"
     ]
    },
    {
     "name": "stderr",
     "output_type": "stream",
     "text": [
      "Model is not converging.  Current: 6926.451001589115 is not greater than 6926.49372347499. Delta is -0.04272188587492565\n"
     ]
    },
    {
     "name": "stdout",
     "output_type": "stream",
     "text": [
      "更新\n",
      "更新\n"
     ]
    },
    {
     "name": "stderr",
     "output_type": "stream",
     "text": [
      "Model is not converging.  Current: 6932.337097541669 is not greater than 6932.374487514338. Delta is -0.037389972669188865\n"
     ]
    },
    {
     "name": "stdout",
     "output_type": "stream",
     "text": [
      "更新\n"
     ]
    },
    {
     "name": "stderr",
     "output_type": "stream",
     "text": [
      "Model is not converging.  Current: 6934.637797338654 is not greater than 6934.690756890343. Delta is -0.05295955168912769\n"
     ]
    },
    {
     "name": "stdout",
     "output_type": "stream",
     "text": [
      "更新\n",
      "更新\n",
      "更新\n",
      "更新\n"
     ]
    },
    {
     "name": "stderr",
     "output_type": "stream",
     "text": [
      "Model is not converging.  Current: 6937.511523920195 is not greater than 6937.556770118217. Delta is -0.04524619802214147\n"
     ]
    },
    {
     "name": "stdout",
     "output_type": "stream",
     "text": [
      "更新\n",
      "更新\n"
     ]
    },
    {
     "name": "stderr",
     "output_type": "stream",
     "text": [
      "Model is not converging.  Current: 6939.0118663929225 is not greater than 6939.0442229363925. Delta is -0.03235654347008676\n"
     ]
    },
    {
     "name": "stdout",
     "output_type": "stream",
     "text": [
      "更新\n"
     ]
    },
    {
     "name": "stderr",
     "output_type": "stream",
     "text": [
      "Model is not converging.  Current: 6940.2226135453475 is not greater than 6940.25868378212. Delta is -0.03607023677250254\n",
      "Model is not converging.  Current: 6941.4114092596765 is not greater than 6941.412002978167. Delta is -0.000593718490563333\n"
     ]
    },
    {
     "name": "stdout",
     "output_type": "stream",
     "text": [
      "更新\n",
      "更新\n"
     ]
    },
    {
     "name": "stderr",
     "output_type": "stream",
     "text": [
      "Model is not converging.  Current: 6942.656673156991 is not greater than 6942.73076381684. Delta is -0.07409065984938934\n"
     ]
    },
    {
     "name": "stdout",
     "output_type": "stream",
     "text": [
      "更新\n",
      "更新\n",
      "更新\n"
     ]
    },
    {
     "name": "stderr",
     "output_type": "stream",
     "text": [
      "Model is not converging.  Current: 6945.973075360355 is not greater than 6946.030934165314. Delta is -0.05785880495841411\n"
     ]
    },
    {
     "name": "stdout",
     "output_type": "stream",
     "text": [
      "更新\n"
     ]
    },
    {
     "name": "stderr",
     "output_type": "stream",
     "text": [
      "Model is not converging.  Current: 6946.588369321486 is not greater than 6946.634581664155. Delta is -0.04621234266869578\n"
     ]
    },
    {
     "name": "stdout",
     "output_type": "stream",
     "text": [
      "更新\n"
     ]
    },
    {
     "name": "stderr",
     "output_type": "stream",
     "text": [
      "Model is not converging.  Current: 6947.1414133731005 is not greater than 6947.168686838385. Delta is -0.02727346528445196\n"
     ]
    },
    {
     "name": "stdout",
     "output_type": "stream",
     "text": [
      "更新\n"
     ]
    },
    {
     "name": "stderr",
     "output_type": "stream",
     "text": [
      "Model is not converging.  Current: 6946.861128896824 is not greater than 6946.928772341945. Delta is -0.067643445120666\n"
     ]
    },
    {
     "name": "stdout",
     "output_type": "stream",
     "text": [
      "更新\n",
      "更新\n",
      "更新\n"
     ]
    },
    {
     "name": "stderr",
     "output_type": "stream",
     "text": [
      "Model is not converging.  Current: 6947.387665621547 is not greater than 6947.4075067082795. Delta is -0.019841086732412805\n"
     ]
    },
    {
     "name": "stdout",
     "output_type": "stream",
     "text": [
      "更新\n",
      "更新\n"
     ]
    },
    {
     "name": "stderr",
     "output_type": "stream",
     "text": [
      "Model is not converging.  Current: 6949.996454871837 is not greater than 6950.024042320419. Delta is -0.027587448581471108\n"
     ]
    },
    {
     "name": "stdout",
     "output_type": "stream",
     "text": [
      "更新\n",
      "更新\n",
      "更新\n",
      "更新\n"
     ]
    },
    {
     "name": "stderr",
     "output_type": "stream",
     "text": [
      "Model is not converging.  Current: 5766.906398280973 is not greater than 5767.111938652649. Delta is -0.20554037167585193\n"
     ]
    },
    {
     "name": "stdout",
     "output_type": "stream",
     "text": [
      "更新\n"
     ]
    },
    {
     "name": "stderr",
     "output_type": "stream",
     "text": [
      "Model is not converging.  Current: 6955.602349716141 is not greater than 6955.655584947965. Delta is -0.05323523182323697\n"
     ]
    },
    {
     "name": "stdout",
     "output_type": "stream",
     "text": [
      "更新\n"
     ]
    },
    {
     "name": "stderr",
     "output_type": "stream",
     "text": [
      "Model is not converging.  Current: 6956.95719791791 is not greater than 6956.974163620436. Delta is -0.016965702526249515\n"
     ]
    },
    {
     "name": "stdout",
     "output_type": "stream",
     "text": [
      "更新\n",
      "更新\n",
      "更新\n"
     ]
    },
    {
     "name": "stderr",
     "output_type": "stream",
     "text": [
      "Model is not converging.  Current: 6960.938782750597 is not greater than 6961.005695035453. Delta is -0.06691228485578904\n"
     ]
    },
    {
     "name": "stdout",
     "output_type": "stream",
     "text": [
      "更新\n",
      "更新\n",
      "更新\n"
     ]
    },
    {
     "name": "stderr",
     "output_type": "stream",
     "text": [
      "Model is not converging.  Current: 6964.033326898724 is not greater than 6964.067806634066. Delta is -0.03447973534184712\n"
     ]
    },
    {
     "name": "stdout",
     "output_type": "stream",
     "text": [
      "更新\n"
     ]
    },
    {
     "name": "stderr",
     "output_type": "stream",
     "text": [
      "Model is not converging.  Current: 6965.019698414253 is not greater than 6965.067531954723. Delta is -0.04783354046958266\n"
     ]
    },
    {
     "name": "stdout",
     "output_type": "stream",
     "text": [
      "更新\n"
     ]
    },
    {
     "name": "stderr",
     "output_type": "stream",
     "text": [
      "Model is not converging.  Current: 6965.730127884858 is not greater than 6965.753086123573. Delta is -0.022958238714636536\n"
     ]
    },
    {
     "name": "stdout",
     "output_type": "stream",
     "text": [
      "更新\n",
      "更新\n",
      "更新\n"
     ]
    },
    {
     "name": "stderr",
     "output_type": "stream",
     "text": [
      "Model is not converging.  Current: 6969.145953765437 is not greater than 6969.148492836748. Delta is -0.002539071310820873\n"
     ]
    },
    {
     "name": "stdout",
     "output_type": "stream",
     "text": [
      "更新\n",
      "更新\n"
     ]
    },
    {
     "name": "stderr",
     "output_type": "stream",
     "text": [
      "Model is not converging.  Current: 6969.522143364216 is not greater than 6969.555850425041. Delta is -0.033707060824781365\n"
     ]
    },
    {
     "name": "stdout",
     "output_type": "stream",
     "text": [
      "更新\n"
     ]
    },
    {
     "name": "stderr",
     "output_type": "stream",
     "text": [
      "Model is not converging.  Current: 6971.546966136649 is not greater than 6971.58157884699. Delta is -0.034612710341207276\n"
     ]
    },
    {
     "name": "stdout",
     "output_type": "stream",
     "text": [
      "更新\n"
     ]
    },
    {
     "name": "stderr",
     "output_type": "stream",
     "text": [
      "Model is not converging.  Current: 6973.469337920008 is not greater than 6973.5020045042975. Delta is -0.03266658428947267\n",
      "Model is not converging.  Current: 6975.503167718609 is not greater than 6975.54829622741. Delta is -0.04512850880109909\n"
     ]
    },
    {
     "name": "stdout",
     "output_type": "stream",
     "text": [
      "更新\n",
      "更新\n",
      "更新\n",
      "更新\n"
     ]
    },
    {
     "name": "stderr",
     "output_type": "stream",
     "text": [
      "Model is not converging.  Current: 6979.761167022938 is not greater than 6979.794853586651. Delta is -0.03368656371276302\n"
     ]
    },
    {
     "name": "stdout",
     "output_type": "stream",
     "text": [
      "更新\n",
      "更新\n",
      "更新\n",
      "更新\n",
      "更新\n",
      "更新\n"
     ]
    },
    {
     "name": "stderr",
     "output_type": "stream",
     "text": [
      "Model is not converging.  Current: 6991.470833495598 is not greater than 6991.500683524252. Delta is -0.029850028654436755\n",
      "Model is not converging.  Current: 6993.6528997649875 is not greater than 6993.713370358529. Delta is -0.06047059354114026\n"
     ]
    },
    {
     "name": "stdout",
     "output_type": "stream",
     "text": [
      "更新\n",
      "更新\n"
     ]
    },
    {
     "name": "stderr",
     "output_type": "stream",
     "text": [
      "Model is not converging.  Current: 6996.028430832224 is not greater than 6996.0551243427235. Delta is -0.02669351049917168\n"
     ]
    },
    {
     "name": "stdout",
     "output_type": "stream",
     "text": [
      "更新\n"
     ]
    },
    {
     "name": "stderr",
     "output_type": "stream",
     "text": [
      "Model is not converging.  Current: 6998.316562962028 is not greater than 6998.37011317855. Delta is -0.05355021652212599\n"
     ]
    },
    {
     "name": "stdout",
     "output_type": "stream",
     "text": [
      "更新\n",
      "更新\n",
      "更新\n"
     ]
    },
    {
     "name": "stderr",
     "output_type": "stream",
     "text": [
      "Model is not converging.  Current: 7004.3086030650165 is not greater than 7004.373223670285. Delta is -0.06462060526882851\n"
     ]
    },
    {
     "name": "stdout",
     "output_type": "stream",
     "text": [
      "更新\n",
      "更新\n",
      "更新\n"
     ]
    },
    {
     "name": "stderr",
     "output_type": "stream",
     "text": [
      "Model is not converging.  Current: 7009.470239740026 is not greater than 7009.528449467002. Delta is -0.05820972697620164\n",
      "Model is not converging.  Current: 7011.173304132998 is not greater than 7011.183009194543. Delta is -0.009705061544991622\n"
     ]
    },
    {
     "name": "stdout",
     "output_type": "stream",
     "text": [
      "更新\n",
      "更新\n"
     ]
    },
    {
     "name": "stderr",
     "output_type": "stream",
     "text": [
      "Model is not converging.  Current: 7013.640343253793 is not greater than 7013.705566607006. Delta is -0.0652233532136961\n"
     ]
    },
    {
     "name": "stdout",
     "output_type": "stream",
     "text": [
      "更新\n",
      "更新\n",
      "更新\n"
     ]
    },
    {
     "name": "stderr",
     "output_type": "stream",
     "text": [
      "Model is not converging.  Current: 7021.7387668814645 is not greater than 7021.787693824374. Delta is -0.048926942909929494\n"
     ]
    },
    {
     "name": "stdout",
     "output_type": "stream",
     "text": [
      "更新\n",
      "更新\n"
     ]
    },
    {
     "name": "stderr",
     "output_type": "stream",
     "text": [
      "Model is not converging.  Current: 7026.848800999316 is not greater than 7026.909516671651. Delta is -0.060715672334481496\n"
     ]
    },
    {
     "name": "stdout",
     "output_type": "stream",
     "text": [
      "更新\n"
     ]
    },
    {
     "name": "stderr",
     "output_type": "stream",
     "text": [
      "Model is not converging.  Current: 7030.313693040845 is not greater than 7030.371774149864. Delta is -0.05808110901944019\n"
     ]
    },
    {
     "name": "stdout",
     "output_type": "stream",
     "text": [
      "更新\n"
     ]
    },
    {
     "name": "stderr",
     "output_type": "stream",
     "text": [
      "Model is not converging.  Current: 7034.275334924845 is not greater than 7034.278314944977. Delta is -0.002980020131872152\n"
     ]
    },
    {
     "name": "stdout",
     "output_type": "stream",
     "text": [
      "更新\n",
      "更新\n"
     ]
    },
    {
     "name": "stderr",
     "output_type": "stream",
     "text": [
      "Model is not converging.  Current: 7041.88574171028 is not greater than 7041.88890815792. Delta is -0.0031664476400692365\n"
     ]
    },
    {
     "name": "stdout",
     "output_type": "stream",
     "text": [
      "更新\n"
     ]
    },
    {
     "name": "stderr",
     "output_type": "stream",
     "text": [
      "Model is not converging.  Current: 7046.042835397673 is not greater than 7046.044479573241. Delta is -0.0016441755678897607\n"
     ]
    },
    {
     "name": "stdout",
     "output_type": "stream",
     "text": [
      "更新\n",
      "更新\n",
      "更新\n",
      "更新\n"
     ]
    },
    {
     "name": "stderr",
     "output_type": "stream",
     "text": [
      "Model is not converging.  Current: 5845.713090151077 is not greater than 5845.740491857101. Delta is -0.02740170602373837\n"
     ]
    },
    {
     "name": "stdout",
     "output_type": "stream",
     "text": [
      "更新\n"
     ]
    },
    {
     "name": "stderr",
     "output_type": "stream",
     "text": [
      "Model is not converging.  Current: 7064.094249436972 is not greater than 7064.111832391797. Delta is -0.017582954825229535\n"
     ]
    },
    {
     "name": "stdout",
     "output_type": "stream",
     "text": [
      "更新\n"
     ]
    },
    {
     "name": "stderr",
     "output_type": "stream",
     "text": [
      "Model is not converging.  Current: 7067.879108491721 is not greater than 7067.888226390802. Delta is -0.009117899080592906\n"
     ]
    },
    {
     "name": "stdout",
     "output_type": "stream",
     "text": [
      "更新\n"
     ]
    },
    {
     "name": "stderr",
     "output_type": "stream",
     "text": [
      "Model is not converging.  Current: 7071.804827139521 is not greater than 7071.843006321948. Delta is -0.03817918242748419\n"
     ]
    },
    {
     "name": "stdout",
     "output_type": "stream",
     "text": [
      "更新\n",
      "更新\n"
     ]
    },
    {
     "name": "stderr",
     "output_type": "stream",
     "text": [
      "Model is not converging.  Current: 5857.930575900569 is not greater than 5857.9888482716015. Delta is -0.05827237103221705\n"
     ]
    },
    {
     "name": "stdout",
     "output_type": "stream",
     "text": [
      "更新\n",
      "更新\n",
      "更新\n"
     ]
    },
    {
     "name": "stderr",
     "output_type": "stream",
     "text": [
      "Model is not converging.  Current: 7088.321072231298 is not greater than 7088.325807676252. Delta is -0.004735444954349077\n"
     ]
    },
    {
     "name": "stdout",
     "output_type": "stream",
     "text": [
      "更新\n"
     ]
    },
    {
     "name": "stderr",
     "output_type": "stream",
     "text": [
      "Model is not converging.  Current: 7091.959455419527 is not greater than 7091.977499807458. Delta is -0.018044387930785888\n"
     ]
    },
    {
     "name": "stdout",
     "output_type": "stream",
     "text": [
      "更新\n"
     ]
    },
    {
     "name": "stderr",
     "output_type": "stream",
     "text": [
      "Model is not converging.  Current: 5868.293195512445 is not greater than 5868.3244967056935. Delta is -0.03130119324850966\n"
     ]
    },
    {
     "name": "stdout",
     "output_type": "stream",
     "text": [
      "更新\n",
      "更新\n"
     ]
    },
    {
     "name": "stderr",
     "output_type": "stream",
     "text": [
      "Model is not converging.  Current: 7102.314187323214 is not greater than 7102.325629975725. Delta is -0.011442652510595508\n"
     ]
    },
    {
     "name": "stdout",
     "output_type": "stream",
     "text": [
      "更新\n",
      "更新\n",
      "更新\n"
     ]
    },
    {
     "name": "stderr",
     "output_type": "stream",
     "text": [
      "Model is not converging.  Current: 7113.219479004045 is not greater than 7113.224654626156. Delta is -0.005175622110982658\n"
     ]
    },
    {
     "name": "stdout",
     "output_type": "stream",
     "text": [
      "更新\n"
     ]
    },
    {
     "name": "stderr",
     "output_type": "stream",
     "text": [
      "Model is not converging.  Current: 7117.167604709934 is not greater than 7117.183285317782. Delta is -0.015680607848480577\n"
     ]
    },
    {
     "name": "stdout",
     "output_type": "stream",
     "text": [
      "更新\n",
      "更新\n"
     ]
    },
    {
     "name": "stderr",
     "output_type": "stream",
     "text": [
      "Model is not converging.  Current: 7124.3838334359 is not greater than 7124.403029914231. Delta is -0.019196478331650724\n"
     ]
    },
    {
     "name": "stdout",
     "output_type": "stream",
     "text": [
      "更新\n"
     ]
    },
    {
     "name": "stderr",
     "output_type": "stream",
     "text": [
      "Model is not converging.  Current: 7128.391714894314 is not greater than 7128.4130071640775. Delta is -0.021292269763762306\n"
     ]
    },
    {
     "name": "stdout",
     "output_type": "stream",
     "text": [
      "更新\n"
     ]
    },
    {
     "name": "stderr",
     "output_type": "stream",
     "text": [
      "Model is not converging.  Current: 7132.086152854306 is not greater than 7132.102852255545. Delta is -0.016699401238838618\n",
      "Model is not converging.  Current: 7135.643558691204 is not greater than 7135.647346355451. Delta is -0.0037876642472838284\n"
     ]
    },
    {
     "name": "stdout",
     "output_type": "stream",
     "text": [
      "更新\n",
      "更新\n",
      "更新\n",
      "更新\n",
      "更新\n"
     ]
    },
    {
     "name": "stderr",
     "output_type": "stream",
     "text": [
      "Model is not converging.  Current: 7149.002813389852 is not greater than 7149.019438078446. Delta is -0.016624688593765313\n"
     ]
    },
    {
     "name": "stdout",
     "output_type": "stream",
     "text": [
      "更新\n",
      "更新\n"
     ]
    },
    {
     "name": "stderr",
     "output_type": "stream",
     "text": [
      "Model is not converging.  Current: 7156.579979489468 is not greater than 7156.588128170208. Delta is -0.008148680739395786\n"
     ]
    },
    {
     "name": "stdout",
     "output_type": "stream",
     "text": [
      "更新\n",
      "更新\n",
      "更新\n",
      "更新\n",
      "更新\n"
     ]
    },
    {
     "name": "stderr",
     "output_type": "stream",
     "text": [
      "Model is not converging.  Current: 7174.098969046504 is not greater than 7174.102814213214. Delta is -0.0038451667096524034\n"
     ]
    },
    {
     "name": "stdout",
     "output_type": "stream",
     "text": [
      "更新\n",
      "更新\n",
      "更新\n",
      "更新\n"
     ]
    },
    {
     "name": "stderr",
     "output_type": "stream",
     "text": [
      "Model is not converging.  Current: 7187.699898292989 is not greater than 7187.709552390835. Delta is -0.00965409784566873\n"
     ]
    },
    {
     "name": "stdout",
     "output_type": "stream",
     "text": [
      "更新\n"
     ]
    },
    {
     "name": "stderr",
     "output_type": "stream",
     "text": [
      "Model is not converging.  Current: 7190.970584086091 is not greater than 7190.9848190191315. Delta is -0.014234933040825126\n"
     ]
    },
    {
     "name": "stdout",
     "output_type": "stream",
     "text": [
      "更新\n"
     ]
    },
    {
     "name": "stderr",
     "output_type": "stream",
     "text": [
      "Model is not converging.  Current: 7194.09066057939 is not greater than 7194.092544521119. Delta is -0.0018839417289200355\n"
     ]
    },
    {
     "name": "stdout",
     "output_type": "stream",
     "text": [
      "更新\n"
     ]
    },
    {
     "name": "stderr",
     "output_type": "stream",
     "text": [
      "Model is not converging.  Current: 7196.727336694328 is not greater than 7196.73575342589. Delta is -0.008416731561737834\n",
      "Model is not converging.  Current: 7200.623526124926 is not greater than 7200.675472515857. Delta is -0.05194639093133446\n"
     ]
    },
    {
     "name": "stdout",
     "output_type": "stream",
     "text": [
      "更新\n",
      "更新\n",
      "更新\n",
      "更新\n",
      "更新\n"
     ]
    },
    {
     "name": "stderr",
     "output_type": "stream",
     "text": [
      "Model is not converging.  Current: 7213.471022854631 is not greater than 7213.484490591431. Delta is -0.013467736799611885\n"
     ]
    },
    {
     "name": "stdout",
     "output_type": "stream",
     "text": [
      "更新\n",
      "更新\n",
      "更新\n"
     ]
    },
    {
     "name": "stderr",
     "output_type": "stream",
     "text": [
      "Model is not converging.  Current: 7223.966273067707 is not greater than 7223.978478965565. Delta is -0.012205897857711534\n"
     ]
    },
    {
     "name": "stdout",
     "output_type": "stream",
     "text": [
      "更新\n",
      "更新\n",
      "更新\n"
     ]
    },
    {
     "name": "stderr",
     "output_type": "stream",
     "text": [
      "Model is not converging.  Current: 7232.671391787519 is not greater than 7232.674611448029. Delta is -0.0032196605106946663\n"
     ]
    },
    {
     "name": "stdout",
     "output_type": "stream",
     "text": [
      "更新\n",
      "更新\n",
      "更新\n"
     ]
    },
    {
     "name": "stderr",
     "output_type": "stream",
     "text": [
      "Model is not converging.  Current: 7241.714721854904 is not greater than 7241.7220891532215. Delta is -0.007367298317149107\n"
     ]
    },
    {
     "name": "stdout",
     "output_type": "stream",
     "text": [
      "更新\n",
      "更新\n"
     ]
    },
    {
     "name": "stderr",
     "output_type": "stream",
     "text": [
      "Model is not converging.  Current: 7249.334159738477 is not greater than 7249.336292780908. Delta is -0.002133042430614296\n"
     ]
    },
    {
     "name": "stdout",
     "output_type": "stream",
     "text": [
      "更新\n",
      "更新\n",
      "更新\n",
      "更新\n",
      "更新\n",
      "更新\n",
      "更新\n"
     ]
    },
    {
     "name": "stderr",
     "output_type": "stream",
     "text": [
      "Model is not converging.  Current: 7274.597264773236 is not greater than 7274.616635774939. Delta is -0.01937100170289341\n"
     ]
    },
    {
     "name": "stdout",
     "output_type": "stream",
     "text": [
      "更新\n"
     ]
    },
    {
     "name": "stderr",
     "output_type": "stream",
     "text": [
      "Model is not converging.  Current: 7278.695104710352 is not greater than 7278.701666944871. Delta is -0.006562234519151389\n"
     ]
    },
    {
     "name": "stdout",
     "output_type": "stream",
     "text": [
      "更新\n"
     ]
    },
    {
     "name": "stderr",
     "output_type": "stream",
     "text": [
      "Model is not converging.  Current: 7282.772173852945 is not greater than 7282.789770239208. Delta is -0.0175963862629942\n"
     ]
    },
    {
     "name": "stdout",
     "output_type": "stream",
     "text": [
      "更新\n"
     ]
    },
    {
     "name": "stderr",
     "output_type": "stream",
     "text": [
      "Model is not converging.  Current: 7289.353844734279 is not greater than 7289.527916783912. Delta is -0.17407204963274125\n"
     ]
    },
    {
     "name": "stdout",
     "output_type": "stream",
     "text": [
      "更新\n",
      "更新\n",
      "更新\n"
     ]
    },
    {
     "name": "stderr",
     "output_type": "stream",
     "text": [
      "Model is not converging.  Current: 7296.530271530802 is not greater than 7296.546710507674. Delta is -0.01643897687245044\n"
     ]
    },
    {
     "name": "stdout",
     "output_type": "stream",
     "text": [
      "更新\n",
      "更新\n",
      "更新\n"
     ]
    },
    {
     "name": "stderr",
     "output_type": "stream",
     "text": [
      "Model is not converging.  Current: 7304.729948305182 is not greater than 7304.765914082765. Delta is -0.035965777583442105\n",
      "Model is not converging.  Current: 7311.340209857004 is not greater than 7311.440122502217. Delta is -0.09991264521249832\n"
     ]
    },
    {
     "name": "stdout",
     "output_type": "stream",
     "text": [
      "更新\n",
      "更新\n",
      "更新\n"
     ]
    },
    {
     "name": "stderr",
     "output_type": "stream",
     "text": [
      "Model is not converging.  Current: 7319.201134225885 is not greater than 7319.214376782739. Delta is -0.01324255685449316\n"
     ]
    },
    {
     "name": "stdout",
     "output_type": "stream",
     "text": [
      "更新\n",
      "更新\n"
     ]
    },
    {
     "name": "stderr",
     "output_type": "stream",
     "text": [
      "Model is not converging.  Current: 7325.4302469326085 is not greater than 7325.44083830499. Delta is -0.01059137238189578\n"
     ]
    },
    {
     "name": "stdout",
     "output_type": "stream",
     "text": [
      "更新\n",
      "更新\n",
      "更新\n",
      "更新\n",
      "更新\n",
      "更新\n",
      "更新\n",
      "更新\n"
     ]
    },
    {
     "name": "stderr",
     "output_type": "stream",
     "text": [
      "Model is not converging.  Current: 7343.534182867194 is not greater than 7343.548387466484. Delta is -0.014204599289769249\n"
     ]
    },
    {
     "name": "stdout",
     "output_type": "stream",
     "text": [
      "更新\n",
      "更新\n",
      "更新\n",
      "更新\n",
      "更新\n"
     ]
    },
    {
     "name": "stderr",
     "output_type": "stream",
     "text": [
      "Model is not converging.  Current: 7355.357972183961 is not greater than 7355.379755011909. Delta is -0.02178282794830011\n"
     ]
    },
    {
     "name": "stdout",
     "output_type": "stream",
     "text": [
      "更新\n",
      "更新\n",
      "更新\n",
      "更新\n",
      "更新\n",
      "更新\n"
     ]
    },
    {
     "name": "stderr",
     "output_type": "stream",
     "text": [
      "Model is not converging.  Current: 7372.247477922049 is not greater than 7372.2545050710505. Delta is -0.0070271490012601134\n"
     ]
    },
    {
     "name": "stdout",
     "output_type": "stream",
     "text": [
      "更新\n",
      "更新\n",
      "更新\n",
      "更新\n",
      "更新\n"
     ]
    },
    {
     "name": "stderr",
     "output_type": "stream",
     "text": [
      "Model is not converging.  Current: 7389.1094059586285 is not greater than 7389.122727315428. Delta is -0.013321356799679052\n"
     ]
    },
    {
     "name": "stdout",
     "output_type": "stream",
     "text": [
      "更新\n"
     ]
    },
    {
     "name": "stderr",
     "output_type": "stream",
     "text": [
      "Model is not converging.  Current: 5990.840033621438 is not greater than 6006.8860158625575. Delta is -16.045982241119418\n"
     ]
    },
    {
     "name": "stdout",
     "output_type": "stream",
     "text": [
      "更新\n",
      "更新\n"
     ]
    },
    {
     "name": "stderr",
     "output_type": "stream",
     "text": [
      "Model is not converging.  Current: 7401.405184987801 is not greater than 7401.416443455277. Delta is -0.011258467476181977\n"
     ]
    },
    {
     "name": "stdout",
     "output_type": "stream",
     "text": [
      "更新\n"
     ]
    },
    {
     "name": "stderr",
     "output_type": "stream",
     "text": [
      "Model is not converging.  Current: 7405.399624773697 is not greater than 7405.403538873584. Delta is -0.00391409988696978\n"
     ]
    },
    {
     "name": "stdout",
     "output_type": "stream",
     "text": [
      "更新\n",
      "更新\n"
     ]
    },
    {
     "name": "stderr",
     "output_type": "stream",
     "text": [
      "Model is not converging.  Current: 7413.087397821768 is not greater than 7413.087659158685. Delta is -0.0002613369169921498\n"
     ]
    },
    {
     "name": "stdout",
     "output_type": "stream",
     "text": [
      "更新\n",
      "更新\n"
     ]
    },
    {
     "name": "stderr",
     "output_type": "stream",
     "text": [
      "Model is not converging.  Current: 7422.454483771449 is not greater than 7422.457145446438. Delta is -0.0026616749883032753\n"
     ]
    },
    {
     "name": "stdout",
     "output_type": "stream",
     "text": [
      "更新\n",
      "更新\n",
      "更新\n",
      "更新\n"
     ]
    },
    {
     "name": "stderr",
     "output_type": "stream",
     "text": [
      "Model is not converging.  Current: 7430.370978478785 is not greater than 7430.376915633848. Delta is -0.005937155062383681\n"
     ]
    },
    {
     "name": "stdout",
     "output_type": "stream",
     "text": [
      "更新\n",
      "更新\n",
      "更新\n",
      "更新\n",
      "更新\n",
      "更新\n",
      "更新\n",
      "更新\n",
      "更新\n",
      "更新\n"
     ]
    },
    {
     "name": "stderr",
     "output_type": "stream",
     "text": [
      "Model is not converging.  Current: 7455.517772176111 is not greater than 7455.518059176133. Delta is -0.0002870000216717017\n"
     ]
    },
    {
     "name": "stdout",
     "output_type": "stream",
     "text": [
      "更新\n",
      "更新\n",
      "更新\n",
      "更新\n",
      "更新\n",
      "更新\n",
      "更新\n",
      "更新\n",
      "更新\n",
      "更新\n",
      "更新\n",
      "更新\n"
     ]
    },
    {
     "name": "stderr",
     "output_type": "stream",
     "text": [
      "Model is not converging.  Current: 7482.537815621266 is not greater than 7482.550087389456. Delta is -0.0122717681897484\n"
     ]
    },
    {
     "name": "stdout",
     "output_type": "stream",
     "text": [
      "更新\n",
      "更新\n"
     ]
    },
    {
     "name": "stderr",
     "output_type": "stream",
     "text": [
      "Model is not converging.  Current: 7488.686259364087 is not greater than 7488.713248151782. Delta is -0.026988787694790517\n"
     ]
    },
    {
     "name": "stdout",
     "output_type": "stream",
     "text": [
      "更新\n"
     ]
    },
    {
     "name": "stderr",
     "output_type": "stream",
     "text": [
      "Model is not converging.  Current: 7490.794373064838 is not greater than 7490.820975232098. Delta is -0.02660216726053477\n"
     ]
    },
    {
     "name": "stdout",
     "output_type": "stream",
     "text": [
      "更新\n",
      "更新\n",
      "更新\n",
      "更新\n"
     ]
    },
    {
     "name": "stderr",
     "output_type": "stream",
     "text": [
      "Model is not converging.  Current: 7500.434182888635 is not greater than 7500.441987049305. Delta is -0.007804160669365956\n"
     ]
    },
    {
     "name": "stdout",
     "output_type": "stream",
     "text": [
      "更新\n",
      "更新\n",
      "更新\n"
     ]
    },
    {
     "name": "stderr",
     "output_type": "stream",
     "text": [
      "Model is not converging.  Current: 7513.256028080018 is not greater than 7513.273514005252. Delta is -0.01748592523381376\n"
     ]
    },
    {
     "name": "stdout",
     "output_type": "stream",
     "text": [
      "更新\n",
      "更新\n",
      "更新\n"
     ]
    },
    {
     "name": "stderr",
     "output_type": "stream",
     "text": [
      "Model is not converging.  Current: 7523.1579957909535 is not greater than 7523.159433364683. Delta is -0.0014375737291629775\n"
     ]
    },
    {
     "name": "stdout",
     "output_type": "stream",
     "text": [
      "更新\n",
      "更新\n",
      "更新\n",
      "更新\n",
      "更新\n"
     ]
    },
    {
     "name": "stderr",
     "output_type": "stream",
     "text": [
      "Model is not converging.  Current: 7541.5160586480315 is not greater than 7541.524816881424. Delta is -0.008758233392654802\n"
     ]
    },
    {
     "name": "stdout",
     "output_type": "stream",
     "text": [
      "更新\n"
     ]
    },
    {
     "name": "stderr",
     "output_type": "stream",
     "text": [
      "Model is not converging.  Current: 7546.415661350023 is not greater than 7546.435429918542. Delta is -0.019768568518884422\n",
      "Model is not converging.  Current: 6210.291411928666 is not greater than 6210.30663900309. Delta is -0.015227074423819431\n"
     ]
    },
    {
     "name": "stdout",
     "output_type": "stream",
     "text": [
      "更新\n",
      "更新\n",
      "更新\n",
      "更新\n"
     ]
    },
    {
     "name": "stderr",
     "output_type": "stream",
     "text": [
      "Model is not converging.  Current: 7560.674979465466 is not greater than 7560.70360894796. Delta is -0.028629482493670366\n"
     ]
    },
    {
     "name": "stdout",
     "output_type": "stream",
     "text": [
      "更新\n"
     ]
    },
    {
     "name": "stderr",
     "output_type": "stream",
     "text": [
      "Model is not converging.  Current: 7564.330296927334 is not greater than 7564.34376755255. Delta is -0.01347062521654152\n"
     ]
    },
    {
     "name": "stdout",
     "output_type": "stream",
     "text": [
      "更新\n",
      "更新\n"
     ]
    },
    {
     "name": "stderr",
     "output_type": "stream",
     "text": [
      "Model is not converging.  Current: 7567.761578393274 is not greater than 7567.78478822072. Delta is -0.023209827445498377\n"
     ]
    },
    {
     "name": "stdout",
     "output_type": "stream",
     "text": [
      "更新\n",
      "更新\n"
     ]
    },
    {
     "name": "stderr",
     "output_type": "stream",
     "text": [
      "Model is not converging.  Current: 7574.263004440472 is not greater than 7574.282407344836. Delta is -0.01940290436414216\n"
     ]
    },
    {
     "name": "stdout",
     "output_type": "stream",
     "text": [
      "更新\n",
      "更新\n",
      "更新\n",
      "更新\n"
     ]
    },
    {
     "name": "stderr",
     "output_type": "stream",
     "text": [
      "Model is not converging.  Current: 6235.5731864808295 is not greater than 6247.961918358641. Delta is -12.388731877811551\n"
     ]
    },
    {
     "name": "stdout",
     "output_type": "stream",
     "text": [
      "更新\n",
      "更新\n",
      "更新\n",
      "更新\n"
     ]
    },
    {
     "name": "stderr",
     "output_type": "stream",
     "text": [
      "Model is not converging.  Current: 7598.896118437228 is not greater than 7598.90504567831. Delta is -0.008927241081437387\n"
     ]
    },
    {
     "name": "stdout",
     "output_type": "stream",
     "text": [
      "更新\n",
      "更新\n",
      "更新\n"
     ]
    },
    {
     "name": "stderr",
     "output_type": "stream",
     "text": [
      "Model is not converging.  Current: 7613.280714116005 is not greater than 7613.299370719346. Delta is -0.01865660334169661\n"
     ]
    },
    {
     "name": "stdout",
     "output_type": "stream",
     "text": [
      "更新\n",
      "更新\n",
      "更新\n"
     ]
    },
    {
     "name": "stderr",
     "output_type": "stream",
     "text": [
      "Model is not converging.  Current: 7627.603164781615 is not greater than 7627.622783914134. Delta is -0.019619132518528204\n"
     ]
    },
    {
     "name": "stdout",
     "output_type": "stream",
     "text": [
      "更新\n",
      "更新\n",
      "更新\n",
      "更新\n",
      "更新\n",
      "更新\n"
     ]
    },
    {
     "name": "stderr",
     "output_type": "stream",
     "text": [
      "Model is not converging.  Current: 7650.008083405274 is not greater than 7650.05958987629. Delta is -0.05150647101618233\n"
     ]
    },
    {
     "name": "stdout",
     "output_type": "stream",
     "text": [
      "更新\n",
      "更新\n",
      "更新\n",
      "更新\n"
     ]
    },
    {
     "name": "stderr",
     "output_type": "stream",
     "text": [
      "Model is not converging.  Current: 7663.14294525085 is not greater than 7663.157291783469. Delta is -0.014346532619128993\n"
     ]
    },
    {
     "name": "stdout",
     "output_type": "stream",
     "text": [
      "更新\n",
      "更新\n",
      "更新\n",
      "更新\n",
      "更新\n",
      "更新\n",
      "更新\n",
      "更新\n"
     ]
    },
    {
     "name": "stderr",
     "output_type": "stream",
     "text": [
      "Model is not converging.  Current: 7700.394473555444 is not greater than 7700.415006777733. Delta is -0.020533222288577235\n"
     ]
    },
    {
     "name": "stdout",
     "output_type": "stream",
     "text": [
      "更新\n",
      "更新\n"
     ]
    },
    {
     "name": "stderr",
     "output_type": "stream",
     "text": [
      "Model is not converging.  Current: 7710.009289830174 is not greater than 7710.013355353023. Delta is -0.004065522849487024\n"
     ]
    },
    {
     "name": "stdout",
     "output_type": "stream",
     "text": [
      "更新\n",
      "更新\n",
      "更新\n"
     ]
    },
    {
     "name": "stderr",
     "output_type": "stream",
     "text": [
      "Model is not converging.  Current: 7725.398665134947 is not greater than 7725.424623229637. Delta is -0.025958094690395228\n"
     ]
    },
    {
     "name": "stdout",
     "output_type": "stream",
     "text": [
      "更新\n",
      "更新\n"
     ]
    },
    {
     "name": "stderr",
     "output_type": "stream",
     "text": [
      "Model is not converging.  Current: 7734.4550742882275 is not greater than 7734.468830753254. Delta is -0.01375646502674499\n",
      "Model is not converging.  Current: 6380.690763906045 is not greater than 6380.704424860743. Delta is -0.013660954698025307\n"
     ]
    },
    {
     "name": "stdout",
     "output_type": "stream",
     "text": [
      "更新\n",
      "更新\n",
      "更新\n",
      "更新\n",
      "更新\n"
     ]
    },
    {
     "name": "stderr",
     "output_type": "stream",
     "text": [
      "Model is not converging.  Current: 7761.826747660981 is not greater than 7761.913625522301. Delta is -0.0868778613203176\n"
     ]
    },
    {
     "name": "stdout",
     "output_type": "stream",
     "text": [
      "更新\n",
      "更新\n",
      "更新\n"
     ]
    },
    {
     "name": "stderr",
     "output_type": "stream",
     "text": [
      "Model is not converging.  Current: 7760.907425471539 is not greater than 7760.922954247275. Delta is -0.015528775736129319\n"
     ]
    },
    {
     "name": "stdout",
     "output_type": "stream",
     "text": [
      "更新\n"
     ]
    },
    {
     "name": "stderr",
     "output_type": "stream",
     "text": [
      "Model is not converging.  Current: 7763.041919984191 is not greater than 7763.045325119213. Delta is -0.0034051350221488974\n"
     ]
    },
    {
     "name": "stdout",
     "output_type": "stream",
     "text": [
      "更新\n",
      "更新\n",
      "更新\n",
      "更新\n",
      "更新\n"
     ]
    },
    {
     "name": "stderr",
     "output_type": "stream",
     "text": [
      "Model is not converging.  Current: 7778.476732318392 is not greater than 7778.496051474714. Delta is -0.019319156321216724\n"
     ]
    },
    {
     "name": "stdout",
     "output_type": "stream",
     "text": [
      "更新\n",
      "更新\n"
     ]
    },
    {
     "name": "stderr",
     "output_type": "stream",
     "text": [
      "Model is not converging.  Current: 7786.1173751253855 is not greater than 7786.125530369765. Delta is -0.008155244379850046\n"
     ]
    },
    {
     "name": "stdout",
     "output_type": "stream",
     "text": [
      "更新\n",
      "更新\n",
      "更新\n"
     ]
    },
    {
     "name": "stderr",
     "output_type": "stream",
     "text": [
      "Model is not converging.  Current: 7796.037674989038 is not greater than 7796.050379776079. Delta is -0.012704787041002419\n"
     ]
    },
    {
     "name": "stdout",
     "output_type": "stream",
     "text": [
      "更新\n"
     ]
    },
    {
     "name": "stderr",
     "output_type": "stream",
     "text": [
      "Model is not converging.  Current: 7797.843674374772 is not greater than 7797.853273651178. Delta is -0.009599276406333956\n"
     ]
    },
    {
     "name": "stdout",
     "output_type": "stream",
     "text": [
      "更新\n",
      "更新\n",
      "更新\n",
      "更新\n",
      "更新\n"
     ]
    },
    {
     "name": "stderr",
     "output_type": "stream",
     "text": [
      "Model is not converging.  Current: 7793.613072539767 is not greater than 7793.6377103315235. Delta is -0.024637791756504157\n"
     ]
    },
    {
     "name": "stdout",
     "output_type": "stream",
     "text": [
      "更新\n",
      "更新\n",
      "更新\n",
      "更新\n",
      "更新\n"
     ]
    },
    {
     "name": "stderr",
     "output_type": "stream",
     "text": [
      "Model is not converging.  Current: 7804.357487935828 is not greater than 7804.433582754195. Delta is -0.07609481836698251\n"
     ]
    },
    {
     "name": "stdout",
     "output_type": "stream",
     "text": [
      "更新\n",
      "更新\n"
     ]
    },
    {
     "name": "stderr",
     "output_type": "stream",
     "text": [
      "Model is not converging.  Current: 7813.537866887826 is not greater than 7813.6214136506815. Delta is -0.08354676285580354\n"
     ]
    },
    {
     "name": "stdout",
     "output_type": "stream",
     "text": [
      "更新\n",
      "更新\n"
     ]
    },
    {
     "name": "stderr",
     "output_type": "stream",
     "text": [
      "Model is not converging.  Current: 7822.65463571151 is not greater than 7822.7064797388475. Delta is -0.05184402733721072\n",
      "Model is not converging.  Current: 7823.275735536774 is not greater than 7823.3508433774505. Delta is -0.07510784067653731\n"
     ]
    },
    {
     "name": "stdout",
     "output_type": "stream",
     "text": [
      "更新\n",
      "更新\n",
      "更新\n",
      "更新\n",
      "更新\n"
     ]
    },
    {
     "name": "stderr",
     "output_type": "stream",
     "text": [
      "Model is not converging.  Current: 7853.349536308445 is not greater than 7853.360815158019. Delta is -0.011278849574409833\n"
     ]
    },
    {
     "name": "stdout",
     "output_type": "stream",
     "text": [
      "更新\n"
     ]
    },
    {
     "name": "stderr",
     "output_type": "stream",
     "text": [
      "Model is not converging.  Current: 7844.711815064891 is not greater than 7844.765336840839. Delta is -0.053521775947956485\n"
     ]
    },
    {
     "name": "stdout",
     "output_type": "stream",
     "text": [
      "更新\n",
      "更新\n"
     ]
    },
    {
     "name": "stderr",
     "output_type": "stream",
     "text": [
      "Model is not converging.  Current: 7864.523424329226 is not greater than 7864.625022254838. Delta is -0.10159792561171344\n"
     ]
    },
    {
     "name": "stdout",
     "output_type": "stream",
     "text": [
      "更新\n"
     ]
    },
    {
     "name": "stderr",
     "output_type": "stream",
     "text": [
      "Model is not converging.  Current: 7867.970013084947 is not greater than 7867.98245234205. Delta is -0.012439257103324053\n"
     ]
    },
    {
     "name": "stdout",
     "output_type": "stream",
     "text": [
      "更新\n"
     ]
    },
    {
     "name": "stderr",
     "output_type": "stream",
     "text": [
      "Model is not converging.  Current: 7856.803431909273 is not greater than 7856.835235181363. Delta is -0.031803272089746315\n"
     ]
    },
    {
     "name": "stdout",
     "output_type": "stream",
     "text": [
      "更新\n",
      "更新\n",
      "更新\n",
      "更新\n",
      "更新\n",
      "更新\n"
     ]
    },
    {
     "name": "stderr",
     "output_type": "stream",
     "text": [
      "Model is not converging.  Current: 7877.878064911628 is not greater than 7877.897878818862. Delta is -0.019813907234492945\n"
     ]
    },
    {
     "name": "stdout",
     "output_type": "stream",
     "text": [
      "更新\n"
     ]
    },
    {
     "name": "stderr",
     "output_type": "stream",
     "text": [
      "Model is not converging.  Current: 7882.408321369465 is not greater than 7882.451648150738. Delta is -0.043326781273208326\n"
     ]
    },
    {
     "name": "stdout",
     "output_type": "stream",
     "text": [
      "更新\n"
     ]
    },
    {
     "name": "stderr",
     "output_type": "stream",
     "text": [
      "Model is not converging.  Current: 6582.189012992229 is not greater than 6582.19636833905. Delta is -0.007355346820986597\n"
     ]
    },
    {
     "name": "stdout",
     "output_type": "stream",
     "text": [
      "更新\n"
     ]
    },
    {
     "name": "stderr",
     "output_type": "stream",
     "text": [
      "Model is not converging.  Current: 7890.8225840803625 is not greater than 7890.94501517788. Delta is -0.12243109751761949\n"
     ]
    },
    {
     "name": "stdout",
     "output_type": "stream",
     "text": [
      "更新\n",
      "更新\n"
     ]
    },
    {
     "name": "stderr",
     "output_type": "stream",
     "text": [
      "Model is not converging.  Current: 7899.047284410618 is not greater than 7899.065214064352. Delta is -0.01792965373442712\n"
     ]
    },
    {
     "name": "stdout",
     "output_type": "stream",
     "text": [
      "更新\n",
      "更新\n"
     ]
    },
    {
     "name": "stderr",
     "output_type": "stream",
     "text": [
      "Model is not converging.  Current: 6593.357166708588 is not greater than 6593.375663167986. Delta is -0.01849645939819311\n"
     ]
    },
    {
     "name": "stdout",
     "output_type": "stream",
     "text": [
      "更新\n",
      "更新\n",
      "更新\n"
     ]
    },
    {
     "name": "stderr",
     "output_type": "stream",
     "text": [
      "Model is not converging.  Current: 7916.693220377163 is not greater than 7916.693332905737. Delta is -0.00011252857439103536\n"
     ]
    },
    {
     "name": "stdout",
     "output_type": "stream",
     "text": [
      "更新\n",
      "更新\n",
      "更新\n",
      "更新\n",
      "更新\n",
      "更新\n",
      "更新\n",
      "更新\n",
      "更新\n"
     ]
    },
    {
     "name": "stderr",
     "output_type": "stream",
     "text": [
      "Model is not converging.  Current: 7958.455410533754 is not greater than 7958.477708769617. Delta is -0.02229823586276325\n"
     ]
    },
    {
     "name": "stdout",
     "output_type": "stream",
     "text": [
      "更新\n",
      "更新\n",
      "更新\n",
      "更新\n",
      "更新\n"
     ]
    },
    {
     "name": "stderr",
     "output_type": "stream",
     "text": [
      "Model is not converging.  Current: 7973.938176617904 is not greater than 7973.99474953636. Delta is -0.056572918456367915\n"
     ]
    },
    {
     "name": "stdout",
     "output_type": "stream",
     "text": [
      "更新\n",
      "更新\n",
      "更新\n",
      "更新\n"
     ]
    },
    {
     "name": "stderr",
     "output_type": "stream",
     "text": [
      "Model is not converging.  Current: 7994.285370053229 is not greater than 7994.429826543985. Delta is -0.14445649075605616\n",
      "Model is not converging.  Current: 7999.153781300462 is not greater than 7999.175924101332. Delta is -0.02214280087082443\n"
     ]
    },
    {
     "name": "stdout",
     "output_type": "stream",
     "text": [
      "更新\n",
      "更新\n"
     ]
    },
    {
     "name": "stderr",
     "output_type": "stream",
     "text": [
      "Model is not converging.  Current: 8004.191308733728 is not greater than 8004.208442165452. Delta is -0.017133431723777903\n"
     ]
    },
    {
     "name": "stdout",
     "output_type": "stream",
     "text": [
      "更新\n",
      "更新\n",
      "更新\n"
     ]
    },
    {
     "name": "stderr",
     "output_type": "stream",
     "text": [
      "Model is not converging.  Current: 8021.421806456658 is not greater than 8021.429826307658. Delta is -0.00801985100042657\n"
     ]
    },
    {
     "name": "stdout",
     "output_type": "stream",
     "text": [
      "更新\n",
      "更新\n",
      "更新\n",
      "更新\n",
      "更新\n",
      "更新\n"
     ]
    },
    {
     "name": "stderr",
     "output_type": "stream",
     "text": [
      "Model is not converging.  Current: 8044.789453655845 is not greater than 8044.830303750148. Delta is -0.04085009430309583\n"
     ]
    },
    {
     "name": "stdout",
     "output_type": "stream",
     "text": [
      "更新\n",
      "更新\n",
      "更新\n",
      "更新\n",
      "更新\n",
      "更新\n",
      "更新\n"
     ]
    },
    {
     "name": "stderr",
     "output_type": "stream",
     "text": [
      "Model is not converging.  Current: 6795.915041688833 is not greater than 6796.117212606685. Delta is -0.20217091785161756\n",
      "Model is not converging.  Current: 8079.6494889332935 is not greater than 8079.725209478883. Delta is -0.07572054558931995\n"
     ]
    },
    {
     "name": "stdout",
     "output_type": "stream",
     "text": [
      "更新\n",
      "更新\n",
      "更新\n",
      "更新\n",
      "更新\n"
     ]
    },
    {
     "name": "stderr",
     "output_type": "stream",
     "text": [
      "Model is not converging.  Current: 8100.451384391934 is not greater than 8100.485695580095. Delta is -0.03431118816115486\n"
     ]
    },
    {
     "name": "stdout",
     "output_type": "stream",
     "text": [
      "更新\n",
      "更新\n",
      "更新\n",
      "更新\n"
     ]
    },
    {
     "name": "stderr",
     "output_type": "stream",
     "text": [
      "Model is not converging.  Current: 8116.25835915379 is not greater than 8116.357041809409. Delta is -0.09868265561908629\n"
     ]
    },
    {
     "name": "stdout",
     "output_type": "stream",
     "text": [
      "更新\n"
     ]
    },
    {
     "name": "stderr",
     "output_type": "stream",
     "text": [
      "Model is not converging.  Current: 8120.555594519588 is not greater than 8120.641553713625. Delta is -0.0859591940370592\n"
     ]
    },
    {
     "name": "stdout",
     "output_type": "stream",
     "text": [
      "更新\n"
     ]
    },
    {
     "name": "stderr",
     "output_type": "stream",
     "text": [
      "Model is not converging.  Current: 6819.4626805980615 is not greater than 6819.539338104468. Delta is -0.07665750640626356\n"
     ]
    },
    {
     "name": "stdout",
     "output_type": "stream",
     "text": [
      "更新\n",
      "更新\n",
      "更新\n",
      "更新\n"
     ]
    },
    {
     "name": "stderr",
     "output_type": "stream",
     "text": [
      "Model is not converging.  Current: 8131.765151158029 is not greater than 8131.775406211245. Delta is -0.01025505321649689\n"
     ]
    },
    {
     "name": "stdout",
     "output_type": "stream",
     "text": [
      "更新\n"
     ]
    },
    {
     "name": "stderr",
     "output_type": "stream",
     "text": [
      "Model is not converging.  Current: 8135.611249810844 is not greater than 8135.629262576389. Delta is -0.018012765544881404\n"
     ]
    },
    {
     "name": "stdout",
     "output_type": "stream",
     "text": [
      "更新\n",
      "更新\n",
      "更新\n",
      "更新\n",
      "更新\n"
     ]
    },
    {
     "name": "stderr",
     "output_type": "stream",
     "text": [
      "Model is not converging.  Current: 8152.011712509545 is not greater than 8152.03312928402. Delta is -0.021416774475255806\n"
     ]
    },
    {
     "name": "stdout",
     "output_type": "stream",
     "text": [
      "更新\n",
      "更新\n"
     ]
    },
    {
     "name": "stderr",
     "output_type": "stream",
     "text": [
      "Model is not converging.  Current: 8162.894809868233 is not greater than 8162.895364128656. Delta is -0.0005542604230868164\n"
     ]
    },
    {
     "name": "stdout",
     "output_type": "stream",
     "text": [
      "更新\n",
      "更新\n",
      "更新\n"
     ]
    },
    {
     "name": "stderr",
     "output_type": "stream",
     "text": [
      "Model is not converging.  Current: 8171.36978234371 is not greater than 8171.377750381608. Delta is -0.00796803789853584\n",
      "Model is not converging.  Current: 8175.832707381507 is not greater than 8175.855517134397. Delta is -0.022809752889770607\n"
     ]
    },
    {
     "name": "stdout",
     "output_type": "stream",
     "text": [
      "更新\n",
      "更新\n",
      "更新\n",
      "更新\n"
     ]
    },
    {
     "name": "stderr",
     "output_type": "stream",
     "text": [
      "Model is not converging.  Current: 8190.523301152916 is not greater than 8190.548048317929. Delta is -0.02474716501274088\n"
     ]
    },
    {
     "name": "stdout",
     "output_type": "stream",
     "text": [
      "更新\n"
     ]
    },
    {
     "name": "stderr",
     "output_type": "stream",
     "text": [
      "Model is not converging.  Current: 8196.935098223235 is not greater than 8197.0622876603. Delta is -0.127189437063862\n"
     ]
    },
    {
     "name": "stdout",
     "output_type": "stream",
     "text": [
      "更新\n",
      "更新\n"
     ]
    },
    {
     "name": "stderr",
     "output_type": "stream",
     "text": [
      "Model is not converging.  Current: 8201.252819008441 is not greater than 8201.289640182635. Delta is -0.036821174193391926\n"
     ]
    },
    {
     "name": "stdout",
     "output_type": "stream",
     "text": [
      "更新\n"
     ]
    },
    {
     "name": "stderr",
     "output_type": "stream",
     "text": [
      "Model is not converging.  Current: 8206.213765047056 is not greater than 8206.247146952475. Delta is -0.03338190541944641\n"
     ]
    },
    {
     "name": "stdout",
     "output_type": "stream",
     "text": [
      "更新\n",
      "更新\n",
      "更新\n",
      "更新\n",
      "更新\n",
      "更新\n",
      "更新\n",
      "更新\n"
     ]
    },
    {
     "name": "stderr",
     "output_type": "stream",
     "text": [
      "Model is not converging.  Current: 8252.127415704254 is not greater than 8252.138362675028. Delta is -0.010946970774966758\n"
     ]
    },
    {
     "name": "stdout",
     "output_type": "stream",
     "text": [
      "更新\n",
      "更新\n"
     ]
    },
    {
     "name": "stderr",
     "output_type": "stream",
     "text": [
      "Model is not converging.  Current: 8261.038686508165 is not greater than 8261.060339475602. Delta is -0.021652967436239123\n"
     ]
    },
    {
     "name": "stdout",
     "output_type": "stream",
     "text": [
      "更新\n",
      "更新\n"
     ]
    },
    {
     "name": "stderr",
     "output_type": "stream",
     "text": [
      "Model is not converging.  Current: 6968.86473577374 is not greater than 6968.86985932215. Delta is -0.00512354840975604\n",
      "Model is not converging.  Current: 8275.260089769576 is not greater than 8275.275307399696. Delta is -0.015217630119877867\n"
     ]
    },
    {
     "name": "stdout",
     "output_type": "stream",
     "text": [
      "更新\n",
      "更新\n"
     ]
    },
    {
     "name": "stderr",
     "output_type": "stream",
     "text": [
      "Model is not converging.  Current: 8280.545968396129 is not greater than 8280.556938415377. Delta is -0.010970019247906748\n"
     ]
    },
    {
     "name": "stdout",
     "output_type": "stream",
     "text": [
      "更新\n",
      "更新\n",
      "更新\n"
     ]
    },
    {
     "name": "stderr",
     "output_type": "stream",
     "text": [
      "Model is not converging.  Current: 8294.10269063135 is not greater than 8294.262291559678. Delta is -0.15960092832938244\n"
     ]
    },
    {
     "name": "stdout",
     "output_type": "stream",
     "text": [
      "更新\n"
     ]
    },
    {
     "name": "stderr",
     "output_type": "stream",
     "text": [
      "Model is not converging.  Current: 8298.974742539272 is not greater than 8299.010180442468. Delta is -0.03543790319599793\n"
     ]
    },
    {
     "name": "stdout",
     "output_type": "stream",
     "text": [
      "更新\n",
      "更新\n",
      "更新\n"
     ]
    },
    {
     "name": "stderr",
     "output_type": "stream",
     "text": [
      "Model is not converging.  Current: 8313.586512815704 is not greater than 8313.622328110525. Delta is -0.03581529482107726\n"
     ]
    },
    {
     "name": "stdout",
     "output_type": "stream",
     "text": [
      "更新\n",
      "更新\n"
     ]
    },
    {
     "name": "stderr",
     "output_type": "stream",
     "text": [
      "Model is not converging.  Current: 8323.70483152849 is not greater than 8323.776853391295. Delta is -0.07202186280483147\n"
     ]
    },
    {
     "name": "stdout",
     "output_type": "stream",
     "text": [
      "更新\n",
      "更新\n",
      "更新\n"
     ]
    },
    {
     "name": "stderr",
     "output_type": "stream",
     "text": [
      "Model is not converging.  Current: 8336.732715058793 is not greater than 8336.902027436237. Delta is -0.16931237744393002\n"
     ]
    },
    {
     "name": "stdout",
     "output_type": "stream",
     "text": [
      "更新\n"
     ]
    },
    {
     "name": "stderr",
     "output_type": "stream",
     "text": [
      "Model is not converging.  Current: 8341.654549030074 is not greater than 8341.827676925646. Delta is -0.1731278955721791\n"
     ]
    },
    {
     "name": "stdout",
     "output_type": "stream",
     "text": [
      "更新\n",
      "更新\n"
     ]
    },
    {
     "name": "stderr",
     "output_type": "stream",
     "text": [
      "Model is not converging.  Current: 8355.284145526282 is not greater than 8355.309207070279. Delta is -0.02506154399634397\n"
     ]
    },
    {
     "name": "stdout",
     "output_type": "stream",
     "text": [
      "更新\n",
      "更新\n",
      "更新\n",
      "更新\n",
      "更新\n",
      "更新\n",
      "更新\n",
      "更新\n",
      "更新\n",
      "更新\n",
      "更新\n",
      "更新\n",
      "更新\n",
      "更新\n"
     ]
    },
    {
     "name": "stderr",
     "output_type": "stream",
     "text": [
      "Model is not converging.  Current: 8409.900547644156 is not greater than 8409.926476542067. Delta is -0.025928897910489468\n"
     ]
    },
    {
     "name": "stdout",
     "output_type": "stream",
     "text": [
      "更新\n",
      "更新\n"
     ]
    },
    {
     "name": "stderr",
     "output_type": "stream",
     "text": [
      "Model is not converging.  Current: 8414.029916019674 is not greater than 8414.04192281178. Delta is -0.012006792107058573\n"
     ]
    },
    {
     "name": "stdout",
     "output_type": "stream",
     "text": [
      "更新\n",
      "更新\n"
     ]
    },
    {
     "name": "stderr",
     "output_type": "stream",
     "text": [
      "Model is not converging.  Current: 8428.420871723569 is not greater than 8428.433844206696. Delta is -0.012972483127668966\n"
     ]
    },
    {
     "name": "stdout",
     "output_type": "stream",
     "text": [
      "更新\n",
      "更新\n"
     ]
    },
    {
     "name": "stderr",
     "output_type": "stream",
     "text": [
      "Model is not converging.  Current: 8432.614340709462 is not greater than 8432.736390218828. Delta is -0.12204950936575187\n"
     ]
    },
    {
     "name": "stdout",
     "output_type": "stream",
     "text": [
      "更新\n",
      "更新\n",
      "更新\n"
     ]
    },
    {
     "name": "stderr",
     "output_type": "stream",
     "text": [
      "Model is not converging.  Current: 8446.0823496491 is not greater than 8446.20017367561. Delta is -0.11782402651078883\n"
     ]
    },
    {
     "name": "stdout",
     "output_type": "stream",
     "text": [
      "更新\n",
      "更新\n",
      "更新\n",
      "更新\n",
      "更新\n"
     ]
    },
    {
     "name": "stderr",
     "output_type": "stream",
     "text": [
      "Model is not converging.  Current: 8476.860076381678 is not greater than 8476.874950628793. Delta is -0.014874247115585604\n"
     ]
    },
    {
     "name": "stdout",
     "output_type": "stream",
     "text": [
      "更新\n",
      "更新\n",
      "更新\n"
     ]
    },
    {
     "name": "stderr",
     "output_type": "stream",
     "text": [
      "Model is not converging.  Current: 8486.805340398996 is not greater than 8486.908384997343. Delta is -0.103044598346969\n"
     ]
    },
    {
     "name": "stdout",
     "output_type": "stream",
     "text": [
      "更新\n",
      "更新\n"
     ]
    },
    {
     "name": "stderr",
     "output_type": "stream",
     "text": [
      "Model is not converging.  Current: 8497.038127518608 is not greater than 8497.067044356312. Delta is -0.02891683770394593\n"
     ]
    },
    {
     "name": "stdout",
     "output_type": "stream",
     "text": [
      "更新\n",
      "更新\n",
      "更新\n",
      "更新\n"
     ]
    },
    {
     "name": "stderr",
     "output_type": "stream",
     "text": [
      "Model is not converging.  Current: 8521.933320053191 is not greater than 8521.970519965265. Delta is -0.03719991207435669\n"
     ]
    },
    {
     "name": "stdout",
     "output_type": "stream",
     "text": [
      "更新\n",
      "更新\n",
      "更新\n",
      "更新\n",
      "更新\n"
     ]
    },
    {
     "name": "stderr",
     "output_type": "stream",
     "text": [
      "Model is not converging.  Current: 8542.661594404508 is not greater than 8542.739884219824. Delta is -0.0782898153156566\n"
     ]
    },
    {
     "name": "stdout",
     "output_type": "stream",
     "text": [
      "更新\n",
      "更新\n",
      "更新\n",
      "更新\n",
      "更新\n"
     ]
    },
    {
     "name": "stderr",
     "output_type": "stream",
     "text": [
      "Model is not converging.  Current: 8566.227283299137 is not greater than 8566.343036432982. Delta is -0.11575313384491892\n"
     ]
    },
    {
     "name": "stdout",
     "output_type": "stream",
     "text": [
      "更新\n",
      "更新\n",
      "更新\n",
      "更新\n",
      "更新\n",
      "更新\n"
     ]
    },
    {
     "name": "stderr",
     "output_type": "stream",
     "text": [
      "Model is not converging.  Current: 8592.048777180302 is not greater than 8592.062519918272. Delta is -0.013742737970460439\n"
     ]
    },
    {
     "name": "stdout",
     "output_type": "stream",
     "text": [
      "更新\n"
     ]
    },
    {
     "name": "stderr",
     "output_type": "stream",
     "text": [
      "Model is not converging.  Current: 8597.590180498142 is not greater than 8597.739643487948. Delta is -0.14946298980612482\n"
     ]
    },
    {
     "name": "stdout",
     "output_type": "stream",
     "text": [
      "更新\n",
      "更新\n",
      "更新\n",
      "更新\n"
     ]
    },
    {
     "name": "stderr",
     "output_type": "stream",
     "text": [
      "Model is not converging.  Current: 8617.411811533559 is not greater than 8617.494852704413. Delta is -0.08304117085390317\n"
     ]
    },
    {
     "name": "stdout",
     "output_type": "stream",
     "text": [
      "更新\n",
      "更新\n",
      "更新\n",
      "更新\n"
     ]
    },
    {
     "name": "stderr",
     "output_type": "stream",
     "text": [
      "Model is not converging.  Current: 8635.906430380544 is not greater than 8635.956505535887. Delta is -0.050075155342710786\n"
     ]
    },
    {
     "name": "stdout",
     "output_type": "stream",
     "text": [
      "更新\n",
      "更新\n"
     ]
    },
    {
     "name": "stderr",
     "output_type": "stream",
     "text": [
      "Model is not converging.  Current: 8644.623979448268 is not greater than 8644.660377655524. Delta is -0.03639820725584286\n"
     ]
    },
    {
     "name": "stdout",
     "output_type": "stream",
     "text": [
      "更新\n",
      "更新\n"
     ]
    },
    {
     "name": "stderr",
     "output_type": "stream",
     "text": [
      "Model is not converging.  Current: 8655.717728222811 is not greater than 8655.77894073921. Delta is -0.061212516398882144\n",
      "Model is not converging.  Current: 8660.958615675412 is not greater than 8661.002159890926. Delta is -0.04354421551397536\n"
     ]
    },
    {
     "name": "stdout",
     "output_type": "stream",
     "text": [
      "更新\n",
      "更新\n",
      "更新\n",
      "更新\n"
     ]
    },
    {
     "name": "stderr",
     "output_type": "stream",
     "text": [
      "Model is not converging.  Current: 8682.027005175212 is not greater than 8682.052717343966. Delta is -0.025712168753670994\n"
     ]
    },
    {
     "name": "stdout",
     "output_type": "stream",
     "text": [
      "更新\n"
     ]
    },
    {
     "name": "stderr",
     "output_type": "stream",
     "text": [
      "Model is not converging.  Current: 8686.867324815752 is not greater than 8686.89150647855. Delta is -0.024181662798582693\n"
     ]
    },
    {
     "name": "stdout",
     "output_type": "stream",
     "text": [
      "更新\n",
      "更新\n"
     ]
    },
    {
     "name": "stderr",
     "output_type": "stream",
     "text": [
      "Model is not converging.  Current: 8696.367732158082 is not greater than 8696.419246185857. Delta is -0.05151402777482872\n"
     ]
    },
    {
     "name": "stdout",
     "output_type": "stream",
     "text": [
      "更新\n"
     ]
    },
    {
     "name": "stderr",
     "output_type": "stream",
     "text": [
      "Model is not converging.  Current: 7346.779210307684 is not greater than 7346.78411724917. Delta is -0.004906941486297001\n"
     ]
    },
    {
     "name": "stdout",
     "output_type": "stream",
     "text": [
      "更新\n"
     ]
    },
    {
     "name": "stderr",
     "output_type": "stream",
     "text": [
      "Model is not converging.  Current: 8704.143610004785 is not greater than 8704.169710938932. Delta is -0.026100934146597865\n"
     ]
    },
    {
     "name": "stdout",
     "output_type": "stream",
     "text": [
      "更新\n",
      "更新\n",
      "更新\n"
     ]
    },
    {
     "name": "stderr",
     "output_type": "stream",
     "text": [
      "Model is not converging.  Current: 8717.84035287775 is not greater than 8717.841604808673. Delta is -0.0012519309220806463\n"
     ]
    },
    {
     "name": "stdout",
     "output_type": "stream",
     "text": [
      "更新\n"
     ]
    },
    {
     "name": "stderr",
     "output_type": "stream",
     "text": [
      "Model is not converging.  Current: 8722.810209850692 is not greater than 8722.914411436308. Delta is -0.10420158561646531\n",
      "Model is not converging.  Current: 8730.280310711665 is not greater than 8730.286961364298. Delta is -0.006650652632743004\n"
     ]
    },
    {
     "name": "stdout",
     "output_type": "stream",
     "text": [
      "更新\n",
      "更新\n",
      "更新\n"
     ]
    },
    {
     "name": "stderr",
     "output_type": "stream",
     "text": [
      "Model is not converging.  Current: 8739.894663815725 is not greater than 8740.048481505368. Delta is -0.15381768964289222\n"
     ]
    },
    {
     "name": "stdout",
     "output_type": "stream",
     "text": [
      "更新\n"
     ]
    },
    {
     "name": "stderr",
     "output_type": "stream",
     "text": [
      "Model is not converging.  Current: 8740.495049861109 is not greater than 8740.498918879633. Delta is -0.0038690185247105546\n"
     ]
    },
    {
     "name": "stdout",
     "output_type": "stream",
     "text": [
      "更新\n",
      "更新\n"
     ]
    },
    {
     "name": "stderr",
     "output_type": "stream",
     "text": [
      "Model is not converging.  Current: 8746.765919270581 is not greater than 8746.831926319124. Delta is -0.06600704854281503\n"
     ]
    },
    {
     "name": "stdout",
     "output_type": "stream",
     "text": [
      "更新\n",
      "更新\n"
     ]
    },
    {
     "name": "stderr",
     "output_type": "stream",
     "text": [
      "Model is not converging.  Current: 8756.64632949421 is not greater than 8756.685563831195. Delta is -0.03923433698582812\n"
     ]
    },
    {
     "name": "stdout",
     "output_type": "stream",
     "text": [
      "更新\n",
      "更新\n",
      "更新\n",
      "更新\n",
      "更新\n",
      "更新\n"
     ]
    },
    {
     "name": "stderr",
     "output_type": "stream",
     "text": [
      "Model is not converging.  Current: 8781.624812430311 is not greater than 8781.627113650187. Delta is -0.0023012198762444314\n"
     ]
    },
    {
     "name": "stdout",
     "output_type": "stream",
     "text": [
      "更新\n",
      "更新\n"
     ]
    },
    {
     "name": "stderr",
     "output_type": "stream",
     "text": [
      "Model is not converging.  Current: 8790.944779196283 is not greater than 8790.974733182404. Delta is -0.029953986120744958\n"
     ]
    },
    {
     "name": "stdout",
     "output_type": "stream",
     "text": [
      "更新\n",
      "更新\n"
     ]
    },
    {
     "name": "stderr",
     "output_type": "stream",
     "text": [
      "Model is not converging.  Current: 8802.50465919282 is not greater than 8802.560446556434. Delta is -0.055787363613490015\n"
     ]
    },
    {
     "name": "stdout",
     "output_type": "stream",
     "text": [
      "更新\n",
      "更新\n",
      "更新\n"
     ]
    },
    {
     "name": "stderr",
     "output_type": "stream",
     "text": [
      "Model is not converging.  Current: 8814.074793920649 is not greater than 8814.11199196793. Delta is -0.03719804728098097\n"
     ]
    },
    {
     "name": "stdout",
     "output_type": "stream",
     "text": [
      "更新\n",
      "更新\n"
     ]
    },
    {
     "name": "stderr",
     "output_type": "stream",
     "text": [
      "Model is not converging.  Current: 8818.511519857937 is not greater than 8818.527554021744. Delta is -0.016034163807489676\n"
     ]
    },
    {
     "name": "stdout",
     "output_type": "stream",
     "text": [
      "更新\n",
      "更新\n",
      "更新\n",
      "更新\n"
     ]
    },
    {
     "name": "stderr",
     "output_type": "stream",
     "text": [
      "Model is not converging.  Current: 8837.9386189234 is not greater than 8838.114673785636. Delta is -0.17605486223692424\n"
     ]
    },
    {
     "name": "stdout",
     "output_type": "stream",
     "text": [
      "更新\n",
      "更新\n",
      "更新\n",
      "更新\n"
     ]
    },
    {
     "name": "stderr",
     "output_type": "stream",
     "text": [
      "Model is not converging.  Current: 8861.660383725399 is not greater than 8861.665692481602. Delta is -0.005308756202794029\n"
     ]
    },
    {
     "name": "stdout",
     "output_type": "stream",
     "text": [
      "更新\n",
      "更新\n",
      "更新\n"
     ]
    },
    {
     "name": "stderr",
     "output_type": "stream",
     "text": [
      "Model is not converging.  Current: 8881.619778450877 is not greater than 8881.63750559268. Delta is -0.017727141803334234\n"
     ]
    },
    {
     "name": "stdout",
     "output_type": "stream",
     "text": [
      "更新\n",
      "更新\n",
      "更新\n"
     ]
    },
    {
     "name": "stderr",
     "output_type": "stream",
     "text": [
      "Model is not converging.  Current: 7502.5431806390725 is not greater than 7502.647664406857. Delta is -0.10448376778458623\n"
     ]
    },
    {
     "name": "stdout",
     "output_type": "stream",
     "text": [
      "更新\n",
      "更新\n",
      "更新\n"
     ]
    },
    {
     "name": "stderr",
     "output_type": "stream",
     "text": [
      "Model is not converging.  Current: 8901.297983576464 is not greater than 8901.3116041405. Delta is -0.013620564035591087\n"
     ]
    },
    {
     "name": "stdout",
     "output_type": "stream",
     "text": [
      "更新\n",
      "更新\n"
     ]
    },
    {
     "name": "stderr",
     "output_type": "stream",
     "text": [
      "Model is not converging.  Current: 8908.549433053879 is not greater than 8908.725893673654. Delta is -0.176460619775753\n"
     ]
    },
    {
     "name": "stdout",
     "output_type": "stream",
     "text": [
      "更新\n",
      "更新\n",
      "更新\n"
     ]
    },
    {
     "name": "stderr",
     "output_type": "stream",
     "text": [
      "Model is not converging.  Current: 8919.189420124248 is not greater than 8919.190789458837. Delta is -0.001369334588162019\n"
     ]
    },
    {
     "name": "stdout",
     "output_type": "stream",
     "text": [
      "更新\n",
      "更新\n"
     ]
    },
    {
     "name": "stderr",
     "output_type": "stream",
     "text": [
      "Model is not converging.  Current: 8919.64022613637 is not greater than 8919.737450488303. Delta is -0.09722435193361889\n"
     ]
    },
    {
     "name": "stdout",
     "output_type": "stream",
     "text": [
      "更新\n",
      "更新\n"
     ]
    },
    {
     "name": "stderr",
     "output_type": "stream",
     "text": [
      "Model is not converging.  Current: 8925.525985310855 is not greater than 8925.568568009969. Delta is -0.04258269911406387\n"
     ]
    },
    {
     "name": "stdout",
     "output_type": "stream",
     "text": [
      "更新\n",
      "更新\n",
      "更新\n"
     ]
    },
    {
     "name": "stderr",
     "output_type": "stream",
     "text": [
      "Model is not converging.  Current: 8930.328756563582 is not greater than 8930.386429640015. Delta is -0.05767307643327513\n"
     ]
    },
    {
     "name": "stdout",
     "output_type": "stream",
     "text": [
      "更新\n",
      "更新\n",
      "更新\n",
      "更新\n",
      "更新\n"
     ]
    },
    {
     "name": "stderr",
     "output_type": "stream",
     "text": [
      "Model is not converging.  Current: 8936.12149745833 is not greater than 8936.187601669584. Delta is -0.06610421125333232\n"
     ]
    },
    {
     "name": "stdout",
     "output_type": "stream",
     "text": [
      "更新\n"
     ]
    },
    {
     "name": "stderr",
     "output_type": "stream",
     "text": [
      "Model is not converging.  Current: 8937.568942247912 is not greater than 8937.583083618445. Delta is -0.014141370533252484\n"
     ]
    },
    {
     "name": "stdout",
     "output_type": "stream",
     "text": [
      "更新\n",
      "更新\n",
      "更新\n",
      "更新\n",
      "更新\n",
      "更新\n",
      "更新\n"
     ]
    },
    {
     "name": "stderr",
     "output_type": "stream",
     "text": [
      "Model is not converging.  Current: 8950.573965358417 is not greater than 8950.647910171185. Delta is -0.07394481276787701\n"
     ]
    },
    {
     "name": "stdout",
     "output_type": "stream",
     "text": [
      "更新\n",
      "更新\n",
      "更新\n",
      "更新\n",
      "更新\n"
     ]
    },
    {
     "name": "stderr",
     "output_type": "stream",
     "text": [
      "Model is not converging.  Current: 8968.939632914597 is not greater than 8969.072565085253. Delta is -0.1329321706562041\n"
     ]
    },
    {
     "name": "stdout",
     "output_type": "stream",
     "text": [
      "更新\n"
     ]
    },
    {
     "name": "stderr",
     "output_type": "stream",
     "text": [
      "Model is not converging.  Current: 8973.696376550395 is not greater than 8973.71610805071. Delta is -0.019731500315174344\n"
     ]
    },
    {
     "name": "stdout",
     "output_type": "stream",
     "text": [
      "更新\n",
      "更新\n"
     ]
    },
    {
     "name": "stderr",
     "output_type": "stream",
     "text": [
      "Model is not converging.  Current: 8983.822357733658 is not greater than 8983.84279596194. Delta is -0.020438228282728232\n"
     ]
    },
    {
     "name": "stdout",
     "output_type": "stream",
     "text": [
      "更新\n"
     ]
    },
    {
     "name": "stderr",
     "output_type": "stream",
     "text": [
      "Model is not converging.  Current: 8987.726051350313 is not greater than 8987.740385148172. Delta is -0.014333797858853359\n"
     ]
    },
    {
     "name": "stdout",
     "output_type": "stream",
     "text": [
      "更新\n",
      "更新\n",
      "更新\n"
     ]
    },
    {
     "name": "stderr",
     "output_type": "stream",
     "text": [
      "Model is not converging.  Current: 9001.444979938678 is not greater than 9001.458694449688. Delta is -0.013714511009311536\n"
     ]
    },
    {
     "name": "stdout",
     "output_type": "stream",
     "text": [
      "更新\n",
      "更新\n",
      "更新\n"
     ]
    },
    {
     "name": "stderr",
     "output_type": "stream",
     "text": [
      "Model is not converging.  Current: 9022.872788540915 is not greater than 9022.930287003344. Delta is -0.05749846242906642\n"
     ]
    },
    {
     "name": "stdout",
     "output_type": "stream",
     "text": [
      "更新\n",
      "更新\n",
      "更新\n",
      "更新\n",
      "更新\n"
     ]
    },
    {
     "name": "stderr",
     "output_type": "stream",
     "text": [
      "Model is not converging.  Current: 9046.621306946168 is not greater than 9046.680122384585. Delta is -0.05881543841678649\n"
     ]
    },
    {
     "name": "stdout",
     "output_type": "stream",
     "text": [
      "更新\n",
      "更新\n"
     ]
    },
    {
     "name": "stderr",
     "output_type": "stream",
     "text": [
      "Model is not converging.  Current: 9053.619171076973 is not greater than 9053.642155666992. Delta is -0.022984590019405005\n"
     ]
    },
    {
     "name": "stdout",
     "output_type": "stream",
     "text": [
      "更新\n",
      "更新\n",
      "更新\n",
      "更新\n",
      "更新\n",
      "更新\n",
      "更新\n",
      "更新\n",
      "更新\n",
      "更新\n"
     ]
    },
    {
     "name": "stderr",
     "output_type": "stream",
     "text": [
      "Model is not converging.  Current: 9095.096533683018 is not greater than 9095.100987988264. Delta is -0.0044543052463268396\n"
     ]
    },
    {
     "name": "stdout",
     "output_type": "stream",
     "text": [
      "更新\n",
      "更新\n",
      "更新\n"
     ]
    },
    {
     "name": "stderr",
     "output_type": "stream",
     "text": [
      "Model is not converging.  Current: 9109.155305968114 is not greater than 9109.285106261505. Delta is -0.12980029339087196\n"
     ]
    },
    {
     "name": "stdout",
     "output_type": "stream",
     "text": [
      "更新\n",
      "更新\n",
      "更新\n",
      "更新\n",
      "更新\n"
     ]
    },
    {
     "name": "stderr",
     "output_type": "stream",
     "text": [
      "Model is not converging.  Current: 9129.627317654333 is not greater than 9129.724999609005. Delta is -0.0976819546722254\n"
     ]
    },
    {
     "name": "stdout",
     "output_type": "stream",
     "text": [
      "更新\n",
      "更新\n",
      "更新\n"
     ]
    },
    {
     "name": "stderr",
     "output_type": "stream",
     "text": [
      "Model is not converging.  Current: 9140.323815467931 is not greater than 9140.491611450827. Delta is -0.16779598289576825\n"
     ]
    },
    {
     "name": "stdout",
     "output_type": "stream",
     "text": [
      "更新\n",
      "更新\n",
      "更新\n",
      "更新\n",
      "更新\n",
      "更新\n",
      "更新\n",
      "更新\n",
      "更新\n",
      "更新\n"
     ]
    },
    {
     "name": "stderr",
     "output_type": "stream",
     "text": [
      "Model is not converging.  Current: 9182.574962670631 is not greater than 9182.76872331005. Delta is -0.19376063941854227\n"
     ]
    },
    {
     "name": "stdout",
     "output_type": "stream",
     "text": [
      "更新\n",
      "更新\n",
      "更新\n",
      "更新\n",
      "更新\n",
      "更新\n"
     ]
    },
    {
     "name": "stderr",
     "output_type": "stream",
     "text": [
      "Model is not converging.  Current: 9210.797020713233 is not greater than 9210.891503321938. Delta is -0.09448260870522063\n"
     ]
    },
    {
     "name": "stdout",
     "output_type": "stream",
     "text": [
      "更新\n"
     ]
    },
    {
     "name": "stderr",
     "output_type": "stream",
     "text": [
      "Model is not converging.  Current: 9215.927523836765 is not greater than 9216.128365532437. Delta is -0.20084169567235222\n"
     ]
    },
    {
     "name": "stdout",
     "output_type": "stream",
     "text": [
      "更新\n",
      "更新\n",
      "更新\n",
      "更新\n",
      "更新\n",
      "更新\n"
     ]
    },
    {
     "name": "stderr",
     "output_type": "stream",
     "text": [
      "Model is not converging.  Current: 9246.250262376525 is not greater than 9246.331978128728. Delta is -0.08171575220330851\n"
     ]
    },
    {
     "name": "stdout",
     "output_type": "stream",
     "text": [
      "更新\n",
      "更新\n",
      "更新\n",
      "更新\n",
      "更新\n",
      "更新\n",
      "更新\n",
      "更新\n"
     ]
    },
    {
     "name": "stderr",
     "output_type": "stream",
     "text": [
      "Model is not converging.  Current: 9286.905391391736 is not greater than 9286.913266185153. Delta is -0.007874793416704051\n"
     ]
    },
    {
     "name": "stdout",
     "output_type": "stream",
     "text": [
      "更新\n",
      "更新\n",
      "更新\n",
      "更新\n",
      "更新\n",
      "更新\n",
      "更新\n",
      "更新\n"
     ]
    },
    {
     "name": "stderr",
     "output_type": "stream",
     "text": [
      "Model is not converging.  Current: 9323.30783066871 is not greater than 9323.45023356211. Delta is -0.14240289339977608\n"
     ]
    },
    {
     "name": "stdout",
     "output_type": "stream",
     "text": [
      "更新\n",
      "更新\n"
     ]
    },
    {
     "name": "stderr",
     "output_type": "stream",
     "text": [
      "Model is not converging.  Current: 9332.778439835784 is not greater than 9332.838218028643. Delta is -0.05977819285908481\n"
     ]
    },
    {
     "name": "stdout",
     "output_type": "stream",
     "text": [
      "更新\n",
      "更新\n"
     ]
    },
    {
     "name": "stderr",
     "output_type": "stream",
     "text": [
      "Model is not converging.  Current: 9341.16903304923 is not greater than 9341.17193398185. Delta is -0.0029009326208324637\n"
     ]
    },
    {
     "name": "stdout",
     "output_type": "stream",
     "text": [
      "更新\n"
     ]
    },
    {
     "name": "stderr",
     "output_type": "stream",
     "text": [
      "Model is not converging.  Current: 9345.436009116609 is not greater than 9345.44356490878. Delta is -0.007555792171842768\n"
     ]
    },
    {
     "name": "stdout",
     "output_type": "stream",
     "text": [
      "更新\n"
     ]
    },
    {
     "name": "stderr",
     "output_type": "stream",
     "text": [
      "Model is not converging.  Current: 9351.524422857483 is not greater than 9351.528319301598. Delta is -0.00389644411552581\n"
     ]
    },
    {
     "name": "stdout",
     "output_type": "stream",
     "text": [
      "更新\n"
     ]
    },
    {
     "name": "stderr",
     "output_type": "stream",
     "text": [
      "Model is not converging.  Current: 9356.530523680618 is not greater than 9356.620435080084. Delta is -0.08991139946556359\n"
     ]
    },
    {
     "name": "stdout",
     "output_type": "stream",
     "text": [
      "更新\n"
     ]
    },
    {
     "name": "stderr",
     "output_type": "stream",
     "text": [
      "Model is not converging.  Current: 9362.76841471221 is not greater than 9362.969235187036. Delta is -0.20082047482537746\n"
     ]
    },
    {
     "name": "stdout",
     "output_type": "stream",
     "text": [
      "更新\n"
     ]
    },
    {
     "name": "stderr",
     "output_type": "stream",
     "text": [
      "Model is not converging.  Current: 9368.266857617607 is not greater than 9368.462141296084. Delta is -0.1952836784766987\n"
     ]
    },
    {
     "name": "stdout",
     "output_type": "stream",
     "text": [
      "更新\n"
     ]
    },
    {
     "name": "stderr",
     "output_type": "stream",
     "text": [
      "Model is not converging.  Current: 9372.97531873218 is not greater than 9372.97911258359. Delta is -0.003793851410591742\n"
     ]
    },
    {
     "name": "stdout",
     "output_type": "stream",
     "text": [
      "更新\n",
      "更新\n",
      "更新\n",
      "更新\n",
      "更新\n"
     ]
    },
    {
     "name": "stderr",
     "output_type": "stream",
     "text": [
      "Model is not converging.  Current: 9395.195204535643 is not greater than 9395.294924207768. Delta is -0.09971967212550226\n"
     ]
    },
    {
     "name": "stdout",
     "output_type": "stream",
     "text": [
      "更新\n"
     ]
    },
    {
     "name": "stderr",
     "output_type": "stream",
     "text": [
      "Model is not converging.  Current: 9400.37446755747 is not greater than 9400.414539609132. Delta is -0.04007205166089989\n"
     ]
    },
    {
     "name": "stdout",
     "output_type": "stream",
     "text": [
      "更新\n",
      "更新\n",
      "更新\n"
     ]
    },
    {
     "name": "stderr",
     "output_type": "stream",
     "text": [
      "Model is not converging.  Current: 9414.412898038394 is not greater than 9414.498585425206. Delta is -0.08568738681242394\n"
     ]
    },
    {
     "name": "stdout",
     "output_type": "stream",
     "text": [
      "更新\n",
      "更新\n",
      "更新\n",
      "更新\n",
      "更新\n"
     ]
    },
    {
     "name": "stderr",
     "output_type": "stream",
     "text": [
      "Model is not converging.  Current: 9437.53051424295 is not greater than 9437.663213071457. Delta is -0.132698828507273\n"
     ]
    },
    {
     "name": "stdout",
     "output_type": "stream",
     "text": [
      "更新\n"
     ]
    },
    {
     "name": "stderr",
     "output_type": "stream",
     "text": [
      "Model is not converging.  Current: 9436.96702051746 is not greater than 9436.974180963514. Delta is -0.007160446053603664\n"
     ]
    },
    {
     "name": "stdout",
     "output_type": "stream",
     "text": [
      "更新\n"
     ]
    },
    {
     "name": "stderr",
     "output_type": "stream",
     "text": [
      "Model is not converging.  Current: 9442.021279635168 is not greater than 9442.054432659046. Delta is -0.033153023878185195\n"
     ]
    },
    {
     "name": "stdout",
     "output_type": "stream",
     "text": [
      "更新\n"
     ]
    },
    {
     "name": "stderr",
     "output_type": "stream",
     "text": [
      "Model is not converging.  Current: 8001.54349533924 is not greater than 8001.588975462958. Delta is -0.04548012371833465\n"
     ]
    },
    {
     "name": "stdout",
     "output_type": "stream",
     "text": [
      "更新\n"
     ]
    },
    {
     "name": "stderr",
     "output_type": "stream",
     "text": [
      "Model is not converging.  Current: 9445.891006202568 is not greater than 9446.048198030587. Delta is -0.1571918280187674\n"
     ]
    },
    {
     "name": "stdout",
     "output_type": "stream",
     "text": [
      "更新\n",
      "更新\n",
      "更新\n"
     ]
    },
    {
     "name": "stderr",
     "output_type": "stream",
     "text": [
      "Model is not converging.  Current: 9449.567039111793 is not greater than 9449.57318848677. Delta is -0.006149374976303079\n"
     ]
    },
    {
     "name": "stdout",
     "output_type": "stream",
     "text": [
      "更新\n"
     ]
    },
    {
     "name": "stderr",
     "output_type": "stream",
     "text": [
      "Model is not converging.  Current: 9453.813095997259 is not greater than 9453.821967383632. Delta is -0.008871386373357382\n"
     ]
    },
    {
     "name": "stdout",
     "output_type": "stream",
     "text": [
      "更新\n",
      "更新\n"
     ]
    },
    {
     "name": "stderr",
     "output_type": "stream",
     "text": [
      "Model is not converging.  Current: 9455.743699399973 is not greater than 9455.940666671802. Delta is -0.19696727182963514\n"
     ]
    },
    {
     "name": "stdout",
     "output_type": "stream",
     "text": [
      "更新\n",
      "更新\n",
      "更新\n",
      "更新\n"
     ]
    },
    {
     "name": "stderr",
     "output_type": "stream",
     "text": [
      "Model is not converging.  Current: 9464.638523642852 is not greater than 9464.791554597352. Delta is -0.15303095449962711\n"
     ]
    },
    {
     "name": "stdout",
     "output_type": "stream",
     "text": [
      "更新\n",
      "更新\n",
      "更新\n"
     ]
    },
    {
     "name": "stderr",
     "output_type": "stream",
     "text": [
      "Model is not converging.  Current: 9469.689432568435 is not greater than 9469.781392269448. Delta is -0.09195970101245621\n"
     ]
    },
    {
     "name": "stdout",
     "output_type": "stream",
     "text": [
      "更新\n"
     ]
    },
    {
     "name": "stderr",
     "output_type": "stream",
     "text": [
      "Model is not converging.  Current: 9472.882049458976 is not greater than 9472.929608835766. Delta is -0.04755937678964983\n"
     ]
    },
    {
     "name": "stdout",
     "output_type": "stream",
     "text": [
      "更新\n",
      "更新\n"
     ]
    },
    {
     "name": "stderr",
     "output_type": "stream",
     "text": [
      "Model is not converging.  Current: 9478.27094755703 is not greater than 9478.32070120621. Delta is -0.049753649180274806\n"
     ]
    },
    {
     "name": "stdout",
     "output_type": "stream",
     "text": [
      "更新\n",
      "更新\n",
      "更新\n"
     ]
    },
    {
     "name": "stderr",
     "output_type": "stream",
     "text": [
      "Model is not converging.  Current: 9488.87442513286 is not greater than 9488.951295492276. Delta is -0.0768703594148974\n"
     ]
    },
    {
     "name": "stdout",
     "output_type": "stream",
     "text": [
      "更新\n",
      "更新\n"
     ]
    },
    {
     "name": "stderr",
     "output_type": "stream",
     "text": [
      "Model is not converging.  Current: 9497.248214801342 is not greater than 9497.320289478803. Delta is -0.07207467746047769\n"
     ]
    },
    {
     "name": "stdout",
     "output_type": "stream",
     "text": [
      "更新\n"
     ]
    },
    {
     "name": "stderr",
     "output_type": "stream",
     "text": [
      "Model is not converging.  Current: 9501.957144646041 is not greater than 9501.99179035981. Delta is -0.03464571376935055\n"
     ]
    },
    {
     "name": "stdout",
     "output_type": "stream",
     "text": [
      "更新\n"
     ]
    },
    {
     "name": "stderr",
     "output_type": "stream",
     "text": [
      "Model is not converging.  Current: 9505.152929323098 is not greater than 9505.227787728834. Delta is -0.07485840573644964\n"
     ]
    },
    {
     "name": "stdout",
     "output_type": "stream",
     "text": [
      "更新\n",
      "更新\n"
     ]
    },
    {
     "name": "stderr",
     "output_type": "stream",
     "text": [
      "Model is not converging.  Current: 9514.677108410662 is not greater than 9514.711100068698. Delta is -0.03399165803602955\n"
     ]
    },
    {
     "name": "stdout",
     "output_type": "stream",
     "text": [
      "更新\n"
     ]
    },
    {
     "name": "stderr",
     "output_type": "stream",
     "text": [
      "Model is not converging.  Current: 9519.203411260178 is not greater than 9519.278556182713. Delta is -0.07514492253540084\n"
     ]
    },
    {
     "name": "stdout",
     "output_type": "stream",
     "text": [
      "更新\n",
      "更新\n"
     ]
    },
    {
     "name": "stderr",
     "output_type": "stream",
     "text": [
      "Model is not converging.  Current: 9527.447348477597 is not greater than 9527.54232645368. Delta is -0.09497797608310066\n"
     ]
    },
    {
     "name": "stdout",
     "output_type": "stream",
     "text": [
      "更新\n",
      "更新\n",
      "更新\n",
      "更新\n",
      "更新\n",
      "更新\n",
      "更新\n",
      "更新\n"
     ]
    },
    {
     "name": "stderr",
     "output_type": "stream",
     "text": [
      "Model is not converging.  Current: 9563.565885168724 is not greater than 9563.576756453998. Delta is -0.010871285274333786\n"
     ]
    },
    {
     "name": "stdout",
     "output_type": "stream",
     "text": [
      "更新\n"
     ]
    },
    {
     "name": "stderr",
     "output_type": "stream",
     "text": [
      "Model is not converging.  Current: 9566.934655757022 is not greater than 9566.958115867255. Delta is -0.02346011023291794\n"
     ]
    },
    {
     "name": "stdout",
     "output_type": "stream",
     "text": [
      "更新\n",
      "更新\n",
      "更新\n",
      "更新\n"
     ]
    },
    {
     "name": "stderr",
     "output_type": "stream",
     "text": [
      "Model is not converging.  Current: 9584.761604096127 is not greater than 9584.765332139288. Delta is -0.003728043160663219\n"
     ]
    },
    {
     "name": "stdout",
     "output_type": "stream",
     "text": [
      "更新\n",
      "更新\n",
      "更新\n"
     ]
    },
    {
     "name": "stderr",
     "output_type": "stream",
     "text": [
      "Model is not converging.  Current: 9596.318087482257 is not greater than 9596.3268784849. Delta is -0.008791002643192769\n"
     ]
    },
    {
     "name": "stdout",
     "output_type": "stream",
     "text": [
      "更新\n",
      "更新\n",
      "更新\n",
      "更新\n"
     ]
    },
    {
     "name": "stderr",
     "output_type": "stream",
     "text": [
      "Model is not converging.  Current: 9612.538447764264 is not greater than 9612.678587752518. Delta is -0.14013998825430463\n"
     ]
    },
    {
     "name": "stdout",
     "output_type": "stream",
     "text": [
      "更新\n"
     ]
    },
    {
     "name": "stderr",
     "output_type": "stream",
     "text": [
      "Model is not converging.  Current: 9617.40809257336 is not greater than 9617.494892578925. Delta is -0.08680000556523737\n"
     ]
    },
    {
     "name": "stdout",
     "output_type": "stream",
     "text": [
      "更新\n",
      "更新\n"
     ]
    },
    {
     "name": "stderr",
     "output_type": "stream",
     "text": [
      "Model is not converging.  Current: 9625.850213667136 is not greater than 9626.04736184596. Delta is -0.19714817882413627\n"
     ]
    },
    {
     "name": "stdout",
     "output_type": "stream",
     "text": [
      "更新\n",
      "更新\n"
     ]
    },
    {
     "name": "stderr",
     "output_type": "stream",
     "text": [
      "Model is not converging.  Current: 9634.488950331837 is not greater than 9634.699753632183. Delta is -0.21080330034601502\n"
     ]
    },
    {
     "name": "stdout",
     "output_type": "stream",
     "text": [
      "更新\n",
      "更新\n",
      "更新\n",
      "更新\n"
     ]
    },
    {
     "name": "stderr",
     "output_type": "stream",
     "text": [
      "Model is not converging.  Current: 9652.466859742357 is not greater than 9652.46827136131. Delta is -0.0014116189522610512\n"
     ]
    },
    {
     "name": "stdout",
     "output_type": "stream",
     "text": [
      "更新\n",
      "更新\n"
     ]
    },
    {
     "name": "stderr",
     "output_type": "stream",
     "text": [
      "Model is not converging.  Current: 9658.593846642258 is not greater than 9658.67241319858. Delta is -0.07856655632167531\n"
     ]
    },
    {
     "name": "stdout",
     "output_type": "stream",
     "text": [
      "更新\n",
      "更新\n"
     ]
    },
    {
     "name": "stderr",
     "output_type": "stream",
     "text": [
      "Model is not converging.  Current: 9668.67195100459 is not greater than 9668.714562818866. Delta is -0.04261181427682459\n"
     ]
    },
    {
     "name": "stdout",
     "output_type": "stream",
     "text": [
      "更新\n"
     ]
    },
    {
     "name": "stderr",
     "output_type": "stream",
     "text": [
      "Model is not converging.  Current: 9675.004566790922 is not greater than 9675.197366283597. Delta is -0.19279949267547636\n"
     ]
    },
    {
     "name": "stdout",
     "output_type": "stream",
     "text": [
      "更新\n",
      "更新\n"
     ]
    }
   ],
   "source": [
    "n_components = 3\n",
    "window_days = 1200\n",
    "regime_prob_list = list()\n",
    "regime_list = list()\n",
    "model_dict = dict()\n",
    "for i, date in enumerate(date_index[window_days:]):\n",
    "    X = df.loc[:date,[\"VIX_Close\", \"SPY_Return\",\"Rolling_Vol\"]].values\n",
    "    # Market Close\n",
    "    if i % 90:\n",
    "        model = hmm.GaussianHMM(n_components=n_components, covariance_type=\"full\",n_iter=10000)\n",
    "        model.fit(X)\n",
    "        model_dict[date] = model\n",
    "        print('更新')\n",
    "        \n",
    "    regime = model.predict(X[-1:])[0]\n",
    "    regime_probs = model.predict_proba(X[-1:])[0]\n",
    "    consistent_regime, consistent_probs, regime_mapping = reorder_regimes_by_volatility(model, regime, regime_probs, vix_columns=0)\n",
    "    regime_list.append(consistent_regime)\n",
    "    regime_prob_list.append(consistent_probs)"
   ]
  },
  {
   "cell_type": "code",
   "execution_count": 79,
   "id": "b9859192-0162-41cf-8429-153be778ed87",
   "metadata": {},
   "outputs": [
    {
     "data": {
      "text/plain": [
       "array([1.00000000e+00, 0.00000000e+00, 6.25662979e-17])"
      ]
     },
     "execution_count": 79,
     "metadata": {},
     "output_type": "execute_result"
    }
   ],
   "source": [
    "regime_probs"
   ]
  },
  {
   "cell_type": "code",
   "execution_count": 74,
   "id": "d855fcda-6210-4901-b361-729512851df1",
   "metadata": {},
   "outputs": [
    {
     "data": {
      "text/plain": [
       "Timestamp('1997-11-26 00:00:00')"
      ]
     },
     "execution_count": 74,
     "metadata": {},
     "output_type": "execute_result"
    }
   ],
   "source": [
    "date"
   ]
  },
  {
   "cell_type": "code",
   "execution_count": 58,
   "id": "e316915c-a406-4f12-a92f-5894905d8a2e",
   "metadata": {},
   "outputs": [],
   "source": [
    "import numpy as np\n",
    "from hmmlearn import hmm\n",
    "\n",
    "def estimate_regime(X):\n",
    "    model = hmm.GaussianHMM(n_components=3, covariance_type=\"full\", random_state=42)\n",
    "    model.fit(X)\n",
    "    \n",
    "    # 当日のレジーム予測\n",
    "    current_obs = X[-1:, :]  # 最新の観測値\n",
    "    regime = model.predict(current_obs)[0]\n",
    "    \n",
    "    # 当日のレジーム確率\n",
    "    regime_probs = model.predict_proba(current_obs)[0]\n",
    "    \n",
    "    # レジームを一貫性のある順序に並び替え\n",
    "    consistent_regime, consistent_probs, mapping = reorder_regimes_by_volatility(\n",
    "        model, regime, regime_probs, vix_columns=0\n",
    "    )\n",
    "    \n",
    "    return consistent_regime, consistent_probs\n",
    "\n",
    "def rolling_regime_estimation(X, min_window=60):\n",
    "    \"\"\"\n",
    "    エクスパンディングウィンドウでレジーム推定を実行\n",
    "    \n",
    "    Returns:\n",
    "    regimes: array of regime predictions\n",
    "    regime_probs: array of regime probabilities (n_obs × 3)\n",
    "    \"\"\"\n",
    "    n_obs = len(X)\n",
    "    regimes = np.full(n_obs, np.nan)\n",
    "    regime_probs = np.full((n_obs, 3), np.nan)\n",
    "    \n",
    "    for t in tqdm(range(min_window, n_obs)):\n",
    "        X_train = X[:t+1]  # エクスパンディングウィンドウ\n",
    "        regime, probs = estimate_regime(X_train)\n",
    "        regimes[t] = regime\n",
    "        regime_probs[t] = probs\n",
    "    \n",
    "    return regimes, regime_probs\n",
    "\n",
    "def reorder_regimes_by_volatility(model, current_regime, current_probs, vix_columns=0):\n",
    "    \"\"\"\n",
    "    ボラティリティ（VIX or 第1特徴量）の大きさでレジームを再順序化\n",
    "    0=低ボラ, 1=中ボラ, 2=高ボラ に統一\n",
    "    \"\"\"\n",
    "    # 各状態の平均VIX（第1特徴量）を取得\n",
    "    vix_means = [model.means_[i][vix_columns] for i in range(3)]\n",
    "    \n",
    "    # VIXの昇順でソート → 新しい順序を決定\n",
    "    sorted_indices = np.argsort(vix_means)\n",
    "    \n",
    "    # 古いレジーム番号を新しい番号にマッピング\n",
    "    regime_mapping = {sorted_indices[i]: i for i in range(3)}\n",
    "    \n",
    "    # 現在のレジームを新しい番号に変換\n",
    "    consistent_regime = regime_mapping[current_regime]\n",
    "    \n",
    "    # 確率も新しい順序に並び替え\n",
    "    consistent_probs = np.zeros_like(current_probs)\n",
    "    for old_idx, new_idx in regime_mapping.items():\n",
    "        consistent_probs[new_idx] = current_probs[old_idx]\n",
    "    \n",
    "    return consistent_regime, consistent_probs, regime_mapping"
   ]
  },
  {
   "cell_type": "code",
   "execution_count": 109,
   "id": "02256ec0-781f-442b-bbc3-f621035b8f2a",
   "metadata": {},
   "outputs": [
    {
     "name": "stderr",
     "output_type": "stream",
     "text": [
      "/tmp/ipykernel_27838/3499901626.py:34: TqdmDeprecationWarning: This function will be removed in tqdm==5.0.0\n",
      "Please use `tqdm.notebook.tqdm` instead of `tqdm.tqdm_notebook`\n",
      "  for t in tqdm(range(min_window, n_obs)):\n"
     ]
    },
    {
     "data": {
      "application/vnd.jupyter.widget-view+json": {
       "model_id": "9eac752881304e49931ad8fc7214c34e",
       "version_major": 2,
       "version_minor": 0
      },
      "text/plain": [
       "  0%|          | 0/20 [00:00<?, ?it/s]"
      ]
     },
     "metadata": {},
     "output_type": "display_data"
    },
    {
     "data": {
      "text/plain": [
       "(array([nan, nan, nan, nan, nan, nan, nan, nan, nan, nan, nan, nan, nan,\n",
       "        nan, nan, nan, nan, nan, nan, nan, nan, nan, nan, nan, nan, nan,\n",
       "        nan, nan, nan, nan, nan, nan, nan, nan, nan, nan, nan, nan, nan,\n",
       "        nan, nan, nan, nan, nan, nan, nan, nan, nan, nan, nan, nan, nan,\n",
       "        nan, nan, nan, nan, nan, nan, nan, nan,  1.,  1.,  1.,  1.,  1.,\n",
       "         1.,  1.,  1.,  1.,  1.,  1.,  1.,  1.,  1.,  1.,  1.,  1.,  1.,\n",
       "         1.,  1.]),\n",
       " array([[           nan,            nan,            nan],\n",
       "        [           nan,            nan,            nan],\n",
       "        [           nan,            nan,            nan],\n",
       "        [           nan,            nan,            nan],\n",
       "        [           nan,            nan,            nan],\n",
       "        [           nan,            nan,            nan],\n",
       "        [           nan,            nan,            nan],\n",
       "        [           nan,            nan,            nan],\n",
       "        [           nan,            nan,            nan],\n",
       "        [           nan,            nan,            nan],\n",
       "        [           nan,            nan,            nan],\n",
       "        [           nan,            nan,            nan],\n",
       "        [           nan,            nan,            nan],\n",
       "        [           nan,            nan,            nan],\n",
       "        [           nan,            nan,            nan],\n",
       "        [           nan,            nan,            nan],\n",
       "        [           nan,            nan,            nan],\n",
       "        [           nan,            nan,            nan],\n",
       "        [           nan,            nan,            nan],\n",
       "        [           nan,            nan,            nan],\n",
       "        [           nan,            nan,            nan],\n",
       "        [           nan,            nan,            nan],\n",
       "        [           nan,            nan,            nan],\n",
       "        [           nan,            nan,            nan],\n",
       "        [           nan,            nan,            nan],\n",
       "        [           nan,            nan,            nan],\n",
       "        [           nan,            nan,            nan],\n",
       "        [           nan,            nan,            nan],\n",
       "        [           nan,            nan,            nan],\n",
       "        [           nan,            nan,            nan],\n",
       "        [           nan,            nan,            nan],\n",
       "        [           nan,            nan,            nan],\n",
       "        [           nan,            nan,            nan],\n",
       "        [           nan,            nan,            nan],\n",
       "        [           nan,            nan,            nan],\n",
       "        [           nan,            nan,            nan],\n",
       "        [           nan,            nan,            nan],\n",
       "        [           nan,            nan,            nan],\n",
       "        [           nan,            nan,            nan],\n",
       "        [           nan,            nan,            nan],\n",
       "        [           nan,            nan,            nan],\n",
       "        [           nan,            nan,            nan],\n",
       "        [           nan,            nan,            nan],\n",
       "        [           nan,            nan,            nan],\n",
       "        [           nan,            nan,            nan],\n",
       "        [           nan,            nan,            nan],\n",
       "        [           nan,            nan,            nan],\n",
       "        [           nan,            nan,            nan],\n",
       "        [           nan,            nan,            nan],\n",
       "        [           nan,            nan,            nan],\n",
       "        [           nan,            nan,            nan],\n",
       "        [           nan,            nan,            nan],\n",
       "        [           nan,            nan,            nan],\n",
       "        [           nan,            nan,            nan],\n",
       "        [           nan,            nan,            nan],\n",
       "        [           nan,            nan,            nan],\n",
       "        [           nan,            nan,            nan],\n",
       "        [           nan,            nan,            nan],\n",
       "        [           nan,            nan,            nan],\n",
       "        [           nan,            nan,            nan],\n",
       "        [4.42449165e-14, 1.00000000e+00, 1.97592309e-19],\n",
       "        [5.06217061e-08, 9.99920772e-01, 7.91774993e-05],\n",
       "        [2.01482596e-06, 9.99974100e-01, 2.38851067e-05],\n",
       "        [2.52350179e-07, 9.99899381e-01, 1.00366468e-04],\n",
       "        [5.95628897e-10, 9.99999999e-01, 2.47747743e-11],\n",
       "        [2.37954648e-11, 1.00000000e+00, 3.46069628e-12],\n",
       "        [4.28672342e-12, 1.00000000e+00, 7.28820967e-14],\n",
       "        [8.33324308e-12, 1.00000000e+00, 6.61685602e-27],\n",
       "        [1.22593677e-11, 1.00000000e+00, 6.78400339e-26],\n",
       "        [2.85036217e-13, 9.99998837e-01, 1.16349272e-06],\n",
       "        [4.49930346e-12, 9.99999689e-01, 3.10513039e-07],\n",
       "        [1.19628152e-11, 1.00000000e+00, 2.47894741e-15],\n",
       "        [1.03938110e-09, 9.99999775e-01, 2.24055117e-07],\n",
       "        [9.36120611e-10, 9.99999999e-01, 3.91147443e-14],\n",
       "        [9.64646246e-07, 9.99948774e-01, 5.02609449e-05],\n",
       "        [4.89453893e-04, 9.99510546e-01, 4.58876171e-15],\n",
       "        [1.75088960e-11, 9.99993511e-01, 6.48853004e-06],\n",
       "        [9.17753971e-11, 1.00000000e+00, 1.05790230e-23],\n",
       "        [3.98105321e-12, 9.99970324e-01, 2.96758722e-05],\n",
       "        [1.30266495e-10, 9.99193519e-01, 8.06480653e-04]]))"
      ]
     },
     "execution_count": 109,
     "metadata": {},
     "output_type": "execute_result"
    }
   ],
   "source": [
    "rolling_regime_estimation(X[:80])"
   ]
  },
  {
   "cell_type": "code",
   "execution_count": 110,
   "id": "9b8e1119-42fb-4509-9e30-1098a5e1d2f7",
   "metadata": {},
   "outputs": [],
   "source": [
    "import numpy as np\n",
    "from hmmlearn import hmm\n",
    "from tqdm import tqdm\n",
    "\n",
    "def estimate_regime(X, prev_model=None):\n",
    "    model = hmm.GaussianHMM(n_components=3, covariance_type=\"full\", random_state=42)\n",
    "    \n",
    "    # 前のモデルの平均を初期値として設定\n",
    "    if prev_model is not None:\n",
    "        model = hmm.GaussianHMM(n_components=3, covariance_type=\"full\", \n",
    "                               random_state=42, init_params='stc')  # 平均(m)以外を初期化\n",
    "        # 前回の平均をコピー（一貫性のある順序で）\n",
    "        model.means_ = prev_model.means_.copy()\n",
    "    \n",
    "    model.fit(X)\n",
    "    \n",
    "    # 当日のレジーム予測\n",
    "    current_obs = X[-1:, :]  # 最新の観測値\n",
    "    regime = model.predict(current_obs)[0]\n",
    "    \n",
    "    # 当日のレジーム確率\n",
    "    regime_probs = model.predict_proba(current_obs)[0]\n",
    "    \n",
    "    # レジームを一貫性のある順序に並び替え\n",
    "    consistent_regime, consistent_probs, mapping = reorder_regimes_by_volatility(\n",
    "        model, regime, regime_probs, vix_columns=0\n",
    "    )\n",
    "    \n",
    "    # 一貫性のある順序でモデルを再構築\n",
    "    reordered_model = reorder_model_parameters(model, mapping)\n",
    "    \n",
    "    return consistent_regime, consistent_probs, reordered_model\n",
    "\n",
    "def rolling_regime_estimation(X, min_window=60):\n",
    "    \"\"\"\n",
    "    エクスパンディングウィンドウでレジーム推定を実行\n",
    "    \n",
    "    Returns:\n",
    "    regimes: array of regime predictions\n",
    "    regime_probs: array of regime probabilities (n_obs × 3)\n",
    "    \"\"\"\n",
    "    n_obs = len(X)\n",
    "    regimes = np.full(n_obs, np.nan)\n",
    "    regime_probs = np.full((n_obs, 3), np.nan)\n",
    "    prev_model = None\n",
    "    \n",
    "    for t in tqdm(range(min_window, n_obs)):\n",
    "        X_train = X[:t+1]  # エクスパンディングウィンドウ\n",
    "        regime, probs, model = estimate_regime(X_train, prev_model)\n",
    "        regimes[t] = regime\n",
    "        regime_probs[t] = probs\n",
    "        prev_model = model  # 次回の初期値として保存\n",
    "    \n",
    "    return regimes, regime_probs\n",
    "\n",
    "def reorder_regimes_by_volatility(model, current_regime, current_probs, vix_columns=0):\n",
    "    \"\"\"\n",
    "    ボラティリティ（VIX or 第1特徴量）の大きさでレジームを再順序化\n",
    "    0=低ボラ, 1=中ボラ, 2=高ボラ に統一\n",
    "    \"\"\"\n",
    "    # 各状態の平均VIX（第1特徴量）を取得\n",
    "    vix_means = [model.means_[i][vix_columns] for i in range(3)]\n",
    "    \n",
    "    # VIXの昇順でソート → 新しい順序を決定\n",
    "    sorted_indices = np.argsort(vix_means)\n",
    "    \n",
    "    # 古いレジーム番号を新しい番号にマッピング\n",
    "    regime_mapping = {sorted_indices[i]: i for i in range(3)}\n",
    "    \n",
    "    # 現在のレジームを新しい番号に変換\n",
    "    consistent_regime = regime_mapping[current_regime]\n",
    "    \n",
    "    # 確率も新しい順序に並び替え\n",
    "    consistent_probs = np.zeros_like(current_probs)\n",
    "    for old_idx, new_idx in regime_mapping.items():\n",
    "        consistent_probs[new_idx] = current_probs[old_idx]\n",
    "    \n",
    "    return consistent_regime, consistent_probs, regime_mapping\n",
    "\n",
    "def reorder_model_parameters(model, regime_mapping):\n",
    "    \"\"\"\n",
    "    一貫性のある順序でモデルのパラメータを再構築\n",
    "    \"\"\"\n",
    "    # 新しいモデルを作成\n",
    "    reordered_model = hmm.GaussianHMM(n_components=3, covariance_type=\"full\", random_state=42)\n",
    "    \n",
    "    # パラメータを一貫性のある順序で再配置\n",
    "    n_components = len(regime_mapping)\n",
    "    \n",
    "    # 平均を再配置\n",
    "    new_means = np.zeros_like(model.means_)\n",
    "    for old_idx, new_idx in regime_mapping.items():\n",
    "        new_means[new_idx] = model.means_[old_idx]\n",
    "    \n",
    "    # 共分散を再配置\n",
    "    new_covars = np.zeros_like(model.covars_)\n",
    "    for old_idx, new_idx in regime_mapping.items():\n",
    "        new_covars[new_idx] = model.covars_[old_idx]\n",
    "    \n",
    "    # 開始確率を再配置\n",
    "    new_startprob = np.zeros_like(model.startprob_)\n",
    "    for old_idx, new_idx in regime_mapping.items():\n",
    "        new_startprob[new_idx] = model.startprob_[old_idx]\n",
    "    \n",
    "    # 遷移行列を再配置\n",
    "    new_transmat = np.zeros_like(model.transmat_)\n",
    "    for old_i, new_i in regime_mapping.items():\n",
    "        for old_j, new_j in regime_mapping.items():\n",
    "            new_transmat[new_i, new_j] = model.transmat_[old_i, old_j]\n",
    "    \n",
    "    # 新しいパラメータを設定\n",
    "    reordered_model.means_ = new_means\n",
    "    reordered_model.covars_ = new_covars\n",
    "    reordered_model.startprob_ = new_startprob\n",
    "    reordered_model.transmat_ = new_transmat\n",
    "    \n",
    "    return reordered_model"
   ]
  },
  {
   "cell_type": "code",
   "execution_count": 129,
   "id": "c53f3a06-9200-48f1-a37d-8d804bf5288a",
   "metadata": {
    "scrolled": true
   },
   "outputs": [
    {
     "name": "stderr",
     "output_type": "stream",
     "text": [
      "  0%|▎                                                                                | 26/8071 [00:00<01:26, 93.06it/s]Model is not converging.  Current: 397.52127418789473 is not greater than 397.5221900053059. Delta is -0.0009158174111689732\n",
      "Model is not converging.  Current: 402.881435855881 is not greater than 402.8853615211641. Delta is -0.003925665283077251\n",
      "Model is not converging.  Current: 406.8698077305465 is not greater than 406.8703157130466. Delta is -0.0005079825000962046\n",
      "Model is not converging.  Current: 411.8649076956849 is not greater than 411.8671504858646. Delta is -0.002242790179707299\n",
      "  1%|▍                                                                               | 48/8071 [00:00<01:17, 103.03it/s]Model is not converging.  Current: 519.3365393241535 is not greater than 519.339976909912. Delta is -0.003437585758547357\n",
      "Model is not converging.  Current: 521.2567280136628 is not greater than 521.2603594463147. Delta is -0.003631432651900468\n",
      "  1%|▋                                                                               | 71/8071 [00:00<01:15, 105.56it/s]Model is not converging.  Current: 630.4245287595376 is not greater than 630.4408945339767. Delta is -0.016365774439123015\n",
      "Model is not converging.  Current: 636.5730337269002 is not greater than 636.6023512256355. Delta is -0.029317498735281333\n",
      "Model is not converging.  Current: 638.9752189628324 is not greater than 638.9867213472631. Delta is -0.011502384430741586\n",
      "Model is not converging.  Current: 643.6601847971956 is not greater than 643.6796399170527. Delta is -0.019455119857070713\n",
      "Model is not converging.  Current: 646.0926384148571 is not greater than 646.1070952447892. Delta is -0.014456829932100845\n",
      "  2%|█▎                                                                             | 128/8071 [00:01<01:14, 106.48it/s]Model is not converging.  Current: 868.2332437277843 is not greater than 868.2375189867035. Delta is -0.004275258919278713\n",
      "Model is not converging.  Current: 873.513765428827 is not greater than 873.5225429946929. Delta is -0.008777565865898396\n",
      "Model is not converging.  Current: 878.7841120857835 is not greater than 878.7973883307274. Delta is -0.013276244943881466\n",
      "Model is not converging.  Current: 884.0675552370677 is not greater than 884.0832061286734. Delta is -0.015650891605673678\n",
      "Model is not converging.  Current: 888.4406645354486 is not greater than 888.4546074982136. Delta is -0.013942962764986078\n",
      "Model is not converging.  Current: 891.5273928499606 is not greater than 891.5409370785562. Delta is -0.013544228595606\n",
      "Model is not converging.  Current: 895.6423891999415 is not greater than 895.6621540917213. Delta is -0.019764891779800564\n",
      "Model is not converging.  Current: 907.1299216031401 is not greater than 907.1315871240096. Delta is -0.0016655208694373869\n",
      "  3%|██                                                                             | 206/8071 [00:02<01:15, 104.69it/s]Model is not converging.  Current: 1251.930063191636 is not greater than 1251.9318563133484. Delta is -0.0017931217123532406\n",
      "Model is not converging.  Current: 1270.8808786662203 is not greater than 1270.9000024141208. Delta is -0.01912374790049398\n",
      "  3%|██                                                                             | 217/8071 [00:02<01:15, 103.94it/s]Model is not converging.  Current: 1256.4417911020446 is not greater than 1256.445141220161. Delta is -0.0033501181164865557\n",
      "Model is not converging.  Current: 1258.1669827009332 is not greater than 1258.1690253705842. Delta is -0.002042669651018514\n",
      "Model is not converging.  Current: 1260.7018945126472 is not greater than 1260.7087790177143. Delta is -0.006884505067091595\n",
      "Model is not converging.  Current: 1263.493741011378 is not greater than 1263.5044641579007. Delta is -0.010723146522650495\n",
      "Model is not converging.  Current: 1265.7380372837474 is not greater than 1265.7469722059695. Delta is -0.008934922222124442\n",
      "  3%|██▎                                                                             | 228/8071 [00:02<01:20, 97.21it/s]Model is not converging.  Current: 1287.3570529146366 is not greater than 1287.362170038782. Delta is -0.005117124145499474\n",
      "Model is not converging.  Current: 1290.1089626895052 is not greater than 1290.1200361924605. Delta is -0.011073502955241565\n",
      "Model is not converging.  Current: 1292.917685729508 is not greater than 1292.929231054751. Delta is -0.01154532524287788\n",
      "Model is not converging.  Current: 1296.8275320048842 is not greater than 1296.8384060068577. Delta is -0.010874001973434133\n",
      "Model is not converging.  Current: 1301.8702309029854 is not greater than 1301.8871722171052. Delta is -0.016941314119776507\n",
      "Model is not converging.  Current: 1306.7316646413174 is not greater than 1306.7500193768399. Delta is -0.018354735522507326\n",
      "Model is not converging.  Current: 1312.1867115088476 is not greater than 1312.2020418249201. Delta is -0.015330316072549977\n",
      "  3%|██▎                                                                             | 238/8071 [00:02<01:28, 88.69it/s]Model is not converging.  Current: 1316.8940291561996 is not greater than 1316.908111655339. Delta is -0.014082499139476568\n",
      "Model is not converging.  Current: 1321.5117073837089 is not greater than 1321.5264167296468. Delta is -0.014709345937944818\n",
      "Model is not converging.  Current: 1325.871219202426 is not greater than 1325.8860152308673. Delta is -0.014796028441423914\n",
      "Model is not converging.  Current: 1329.7283480064168 is not greater than 1329.7379753757546. Delta is -0.00962736933774977\n",
      "  4%|██▊                                                                             | 288/8071 [00:02<01:22, 93.90it/s]Model is not converging.  Current: 1552.4200149129488 is not greater than 1552.5265850573937. Delta is -0.10657014444495871\n",
      "Model is not converging.  Current: 1556.3428020699223 is not greater than 1556.5119490155735. Delta is -0.16914694565116406\n",
      "Model is not converging.  Current: 1560.2525592594397 is not greater than 1560.441530133865. Delta is -0.18897087442519478\n",
      "Model is not converging.  Current: 1564.676473676532 is not greater than 1564.8695372970483. Delta is -0.19306362051634096\n",
      "Model is not converging.  Current: 1568.8139650905982 is not greater than 1568.9998548481851. Delta is -0.1858897575868923\n",
      "  4%|██▉                                                                             | 298/8071 [00:03<01:26, 89.67it/s]Model is not converging.  Current: 1600.7331320718222 is not greater than 1600.7602726606435. Delta is -0.027140588821339406\n",
      "Model is not converging.  Current: 1607.1591431662298 is not greater than 1607.2671174085751. Delta is -0.10797424234533537\n",
      "Model is not converging.  Current: 1613.6364577010406 is not greater than 1613.7898421308098. Delta is -0.15338442976917577\n",
      "Model is not converging.  Current: 1620.0887595743334 is not greater than 1620.261776623412. Delta is -0.17301704907868043\n",
      "Model is not converging.  Current: 1626.5983221069785 is not greater than 1626.7816101644896. Delta is -0.18328805751116306\n",
      "Model is not converging.  Current: 1632.9053480012096 is not greater than 1633.0948232167304. Delta is -0.18947521552081525\n",
      "Model is not converging.  Current: 1639.1426624906146 is not greater than 1639.3289946200416. Delta is -0.18633212942700084\n",
      "Model is not converging.  Current: 1645.7779477150727 is not greater than 1645.9605120313263. Delta is -0.18256431625354708\n",
      "Model is not converging.  Current: 1652.1412676376087 is not greater than 1652.3160546822012. Delta is -0.1747870445924491\n",
      "  4%|███                                                                             | 308/8071 [00:03<01:34, 82.18it/s]Model is not converging.  Current: 1657.9577456712282 is not greater than 1658.1204634147266. Delta is -0.16271774349843326\n",
      "Model is not converging.  Current: 1664.6699612088132 is not greater than 1664.8224661984084. Delta is -0.15250498959517245\n",
      "Model is not converging.  Current: 1671.0256068755543 is not greater than 1671.1669991712379. Delta is -0.14139229568354494\n",
      "Model is not converging.  Current: 1677.8084732911939 is not greater than 1677.9402010034723. Delta is -0.1317277122784617\n",
      "Model is not converging.  Current: 1684.5460338067455 is not greater than 1684.668246428685. Delta is -0.12221262193952498\n",
      "Model is not converging.  Current: 1690.569734535269 is not greater than 1690.6826828381204. Delta is -0.11294830285146418\n",
      "Model is not converging.  Current: 1696.9071609136488 is not greater than 1697.0147080109962. Delta is -0.10754709734737844\n",
      "Model is not converging.  Current: 1703.6783898290682 is not greater than 1703.7414529106945. Delta is -0.06306308162629648\n",
      "Model is not converging.  Current: 1710.051311644808 is not greater than 1710.1709086613432. Delta is -0.11959701653518096\n",
      "  4%|███▏                                                                            | 317/8071 [00:03<01:38, 78.55it/s]Model is not converging.  Current: 1716.1342504369625 is not greater than 1716.2632217594867. Delta is -0.12897132252419397\n",
      "Model is not converging.  Current: 1721.7348878537568 is not greater than 1721.893839731794. Delta is -0.15895187803721456\n",
      "Model is not converging.  Current: 1726.9515232221177 is not greater than 1727.0992218929957. Delta is -0.14769867087807143\n",
      "Model is not converging.  Current: 1732.201977184954 is not greater than 1732.3380965030906. Delta is -0.1361193181364797\n",
      "Model is not converging.  Current: 1736.8805187303312 is not greater than 1736.9620381721345. Delta is -0.08151944180326609\n",
      "Model is not converging.  Current: 1741.867325701073 is not greater than 1741.874707948114. Delta is -0.007382247041050505\n",
      "Model is not converging.  Current: 1746.2358630355723 is not greater than 1746.3442802660024. Delta is -0.10841723043017737\n",
      "Model is not converging.  Current: 1751.7587247005754 is not greater than 1751.8708554661116. Delta is -0.11213076553622159\n",
      "  4%|███▏                                                                            | 325/8071 [00:03<01:43, 74.62it/s]Model is not converging.  Current: 1757.1978636368797 is not greater than 1757.31084595237. Delta is -0.11298231549039883\n",
      "Model is not converging.  Current: 1763.1861386469668 is not greater than 1763.300790595668. Delta is -0.1146519487012938\n",
      "Model is not converging.  Current: 1764.2480561857383 is not greater than 1764.462319243111. Delta is -0.21426305737281837\n",
      "Model is not converging.  Current: 1769.0160285304507 is not greater than 1769.230353652137. Delta is -0.21432512168621543\n",
      "Model is not converging.  Current: 1773.9017756887265 is not greater than 1774.0957196179074. Delta is -0.19394392918093217\n",
      "Model is not converging.  Current: 1778.8501250217778 is not greater than 1779.0557916720402. Delta is -0.20566665026240116\n",
      "Model is not converging.  Current: 1782.5107793237717 is not greater than 1782.7528193153348. Delta is -0.24203999156316058\n",
      "Model is not converging.  Current: 1787.3831407718449 is not greater than 1787.6287896498536. Delta is -0.24564887800875113\n",
      "  4%|███▎                                                                            | 333/8071 [00:03<01:48, 71.06it/s]Model is not converging.  Current: 1792.8288173437209 is not greater than 1793.0733128867485. Delta is -0.2444955430275968\n",
      "Model is not converging.  Current: 1794.6336680358504 is not greater than 1794.8496611811386. Delta is -0.2159931452881665\n",
      "Model is not converging.  Current: 1799.9904986651463 is not greater than 1800.2031790210897. Delta is -0.21268035594334833\n",
      "Model is not converging.  Current: 1805.4902210710572 is not greater than 1805.6979393454208. Delta is -0.20771827436351487\n",
      "Model is not converging.  Current: 1810.9074898291292 is not greater than 1811.1106984415599. Delta is -0.20320861243067156\n",
      "Model is not converging.  Current: 1815.8825960714944 is not greater than 1816.0822679003006. Delta is -0.19967182880623113\n",
      "Model is not converging.  Current: 1821.394574334111 is not greater than 1821.5888614428895. Delta is -0.19428710877855337\n",
      "Model is not converging.  Current: 1826.4062957543558 is not greater than 1826.5942749434837. Delta is -0.18797918912787281\n",
      "  4%|███▍                                                                            | 341/8071 [00:03<01:53, 67.83it/s]Model is not converging.  Current: 1831.831962167548 is not greater than 1832.01311994826. Delta is -0.18115778071205568\n",
      "Model is not converging.  Current: 1837.4046074120686 is not greater than 1837.5800785679062. Delta is -0.17547115583761297\n",
      "Model is not converging.  Current: 1842.5067703836598 is not greater than 1842.6814534349967. Delta is -0.17468305133684225\n",
      "Model is not converging.  Current: 1845.298521883575 is not greater than 1845.4884375201893. Delta is -0.18991563661438704\n",
      "Model is not converging.  Current: 1850.13745632372 is not greater than 1850.3377251286877. Delta is -0.20026880496766353\n",
      "Model is not converging.  Current: 1854.7847160220517 is not greater than 1854.994717545436. Delta is -0.2100015233843351\n",
      "Model is not converging.  Current: 1859.9326233210938 is not greater than 1860.1493777824003. Delta is -0.2167544613064365\n",
      "  4%|███▍                                                                            | 348/8071 [00:03<01:57, 65.97it/s]Model is not converging.  Current: 1864.2404463116802 is not greater than 1864.4659366054127. Delta is -0.2254902937324914\n",
      "Model is not converging.  Current: 1867.523718579506 is not greater than 1867.7565044885175. Delta is -0.23278590901145435\n",
      "Model is not converging.  Current: 1872.4359074120682 is not greater than 1872.6719158683293. Delta is -0.23600845626106093\n",
      "Model is not converging.  Current: 1877.5895429586894 is not greater than 1877.8284148806745. Delta is -0.23887192198503726\n",
      "Model is not converging.  Current: 1882.7877311484428 is not greater than 1883.0237231209364. Delta is -0.2359919724935935\n",
      "Model is not converging.  Current: 1888.075686595404 is not greater than 1888.3114375515308. Delta is -0.23575095612682162\n",
      "Model is not converging.  Current: 1893.4755105952684 is not greater than 1893.7089953760155. Delta is -0.23348478074717605\n",
      "  4%|███▌                                                                            | 355/8071 [00:03<01:59, 64.44it/s]Model is not converging.  Current: 1898.224535413408 is not greater than 1898.4612504249337. Delta is -0.23671501152580277\n",
      "Model is not converging.  Current: 1902.805110102234 is not greater than 1903.0479775253755. Delta is -0.2428674231414334\n",
      "Model is not converging.  Current: 1907.5967047130991 is not greater than 1907.8445305131918. Delta is -0.24782580009264166\n",
      "Model is not converging.  Current: 1911.2709475133943 is not greater than 1911.5242847324328. Delta is -0.2533372190384853\n",
      "Model is not converging.  Current: 1915.8852408110952 is not greater than 1916.1382553456567. Delta is -0.25301453456154377\n",
      "Model is not converging.  Current: 1920.5316342732337 is not greater than 1920.7774377632084. Delta is -0.24580348997460533\n",
      "Model is not converging.  Current: 1924.9077210412615 is not greater than 1925.1374983116225. Delta is -0.2297772703609553\n",
      "  4%|███▌                                                                            | 362/8071 [00:04<02:05, 61.62it/s]Model is not converging.  Current: 1926.2608458467969 is not greater than 1926.4193562899914. Delta is -0.15851044319447283\n",
      "Model is not converging.  Current: 1931.1308950538003 is not greater than 1931.2516814199018. Delta is -0.12078636610158355\n",
      "Model is not converging.  Current: 1935.2108955737917 is not greater than 1935.2780188206552. Delta is -0.06712324686350257\n",
      "Model is not converging.  Current: 1939.9836556679954 is not greater than 1939.9866880631225. Delta is -0.0030323951270929683\n",
      " 12%|█████████▌                                                                      | 967/8071 [00:12<01:58, 60.09it/s]Model is not converging.  Current: 4287.110499427247 is not greater than 4287.11550405669. Delta is -0.005004629442737496\n",
      " 12%|█████████▋                                                                      | 974/8071 [00:12<01:56, 60.97it/s]Model is not converging.  Current: 4302.839906959039 is not greater than 4302.841193272301. Delta is -0.0012863132624261198\n",
      "Model is not converging.  Current: 4306.211364830537 is not greater than 4306.213157189925. Delta is -0.0017923593886735034\n",
      " 12%|█████████▋                                                                      | 981/8071 [00:13<02:03, 57.43it/s]Model is not converging.  Current: 4301.023555101683 is not greater than 4301.030894136834. Delta is -0.007339035150835116\n",
      "Model is not converging.  Current: 4301.440109451985 is not greater than 4301.442456005781. Delta is -0.0023465537960873917\n",
      "Model is not converging.  Current: 4298.557251563154 is not greater than 4298.594853438389. Delta is -0.03760187523494096\n",
      "Model is not converging.  Current: 4298.6166431257825 is not greater than 4298.652801709271. Delta is -0.036158583488941076\n",
      " 12%|█████████▊                                                                      | 987/8071 [00:13<02:06, 55.96it/s]Model is not converging.  Current: 4298.698566590679 is not greater than 4298.731875540349. Delta is -0.03330894967075437\n",
      "Model is not converging.  Current: 4295.896617835195 is not greater than 4295.928657064734. Delta is -0.0320392295388956\n",
      "Model is not converging.  Current: 4295.986294227479 is not greater than 4296.010740628313. Delta is -0.024446400833767257\n",
      "Model is not converging.  Current: 4295.914164337269 is not greater than 4295.929233925333. Delta is -0.015069588064761774\n",
      "Model is not converging.  Current: 4296.462206853923 is not greater than 4296.470068339573. Delta is -0.007861485650209943\n",
      "Model is not converging.  Current: 4297.621799785842 is not greater than 4297.624774989104. Delta is -0.0029752032614851487\n",
      " 14%|██████████▊                                                                    | 1105/8071 [00:15<01:35, 72.73it/s]\n"
     ]
    },
    {
     "ename": "KeyboardInterrupt",
     "evalue": "",
     "output_type": "error",
     "traceback": [
      "\u001b[0;31m---------------------------------------------------------------------------\u001b[0m",
      "\u001b[0;31mKeyboardInterrupt\u001b[0m                         Traceback (most recent call last)",
      "Cell \u001b[0;32mIn[129], line 1\u001b[0m\n\u001b[0;32m----> 1\u001b[0m regimes, regime_probs \u001b[38;5;241m=\u001b[39m \u001b[43mrolling_regime_estimation\u001b[49m\u001b[43m(\u001b[49m\u001b[43mX\u001b[49m\u001b[43m)\u001b[49m\n",
      "Cell \u001b[0;32mIn[110], line 49\u001b[0m, in \u001b[0;36mrolling_regime_estimation\u001b[0;34m(X, min_window)\u001b[0m\n\u001b[1;32m     47\u001b[0m \u001b[38;5;28;01mfor\u001b[39;00m t \u001b[38;5;129;01min\u001b[39;00m tqdm(\u001b[38;5;28mrange\u001b[39m(min_window, n_obs)):\n\u001b[1;32m     48\u001b[0m     X_train \u001b[38;5;241m=\u001b[39m X[:t\u001b[38;5;241m+\u001b[39m\u001b[38;5;241m1\u001b[39m]  \u001b[38;5;66;03m# エクスパンディングウィンドウ\u001b[39;00m\n\u001b[0;32m---> 49\u001b[0m     regime, probs, model \u001b[38;5;241m=\u001b[39m \u001b[43mestimate_regime\u001b[49m\u001b[43m(\u001b[49m\u001b[43mX_train\u001b[49m\u001b[43m,\u001b[49m\u001b[43m \u001b[49m\u001b[43mprev_model\u001b[49m\u001b[43m)\u001b[49m\n\u001b[1;32m     50\u001b[0m     regimes[t] \u001b[38;5;241m=\u001b[39m regime\n\u001b[1;32m     51\u001b[0m     regime_probs[t] \u001b[38;5;241m=\u001b[39m probs\n",
      "Cell \u001b[0;32mIn[110], line 15\u001b[0m, in \u001b[0;36mestimate_regime\u001b[0;34m(X, prev_model)\u001b[0m\n\u001b[1;32m     12\u001b[0m     \u001b[38;5;66;03m# 前回の平均をコピー（一貫性のある順序で）\u001b[39;00m\n\u001b[1;32m     13\u001b[0m     model\u001b[38;5;241m.\u001b[39mmeans_ \u001b[38;5;241m=\u001b[39m prev_model\u001b[38;5;241m.\u001b[39mmeans_\u001b[38;5;241m.\u001b[39mcopy()\n\u001b[0;32m---> 15\u001b[0m \u001b[43mmodel\u001b[49m\u001b[38;5;241;43m.\u001b[39;49m\u001b[43mfit\u001b[49m\u001b[43m(\u001b[49m\u001b[43mX\u001b[49m\u001b[43m)\u001b[49m\n\u001b[1;32m     17\u001b[0m \u001b[38;5;66;03m# 当日のレジーム予測\u001b[39;00m\n\u001b[1;32m     18\u001b[0m current_obs \u001b[38;5;241m=\u001b[39m X[\u001b[38;5;241m-\u001b[39m\u001b[38;5;241m1\u001b[39m:, :]  \u001b[38;5;66;03m# 最新の観測値\u001b[39;00m\n",
      "File \u001b[0;32m~/.venv/fin/lib/python3.9/site-packages/hmmlearn/base.py:485\u001b[0m, in \u001b[0;36m_AbstractHMM.fit\u001b[0;34m(self, X, lengths)\u001b[0m\n\u001b[1;32m    482\u001b[0m \u001b[38;5;28mself\u001b[39m\u001b[38;5;241m.\u001b[39mmonitor_\u001b[38;5;241m.\u001b[39m_reset()\n\u001b[1;32m    484\u001b[0m \u001b[38;5;28;01mfor\u001b[39;00m \u001b[38;5;28miter\u001b[39m \u001b[38;5;129;01min\u001b[39;00m \u001b[38;5;28mrange\u001b[39m(\u001b[38;5;28mself\u001b[39m\u001b[38;5;241m.\u001b[39mn_iter):\n\u001b[0;32m--> 485\u001b[0m     stats, curr_logprob \u001b[38;5;241m=\u001b[39m \u001b[38;5;28;43mself\u001b[39;49m\u001b[38;5;241;43m.\u001b[39;49m\u001b[43m_do_estep\u001b[49m\u001b[43m(\u001b[49m\u001b[43mX\u001b[49m\u001b[43m,\u001b[49m\u001b[43m \u001b[49m\u001b[43mlengths\u001b[49m\u001b[43m)\u001b[49m\n\u001b[1;32m    487\u001b[0m     \u001b[38;5;66;03m# Compute lower bound before updating model parameters\u001b[39;00m\n\u001b[1;32m    488\u001b[0m     lower_bound \u001b[38;5;241m=\u001b[39m \u001b[38;5;28mself\u001b[39m\u001b[38;5;241m.\u001b[39m_compute_lower_bound(curr_logprob)\n",
      "File \u001b[0;32m~/.venv/fin/lib/python3.9/site-packages/hmmlearn/base.py:764\u001b[0m, in \u001b[0;36m_AbstractHMM._do_estep\u001b[0;34m(self, X, lengths)\u001b[0m\n\u001b[1;32m    762\u001b[0m curr_logprob \u001b[38;5;241m=\u001b[39m \u001b[38;5;241m0\u001b[39m\n\u001b[1;32m    763\u001b[0m \u001b[38;5;28;01mfor\u001b[39;00m sub_X \u001b[38;5;129;01min\u001b[39;00m _utils\u001b[38;5;241m.\u001b[39msplit_X_lengths(X, lengths):\n\u001b[0;32m--> 764\u001b[0m     lattice, logprob, posteriors, fwdlattice, bwdlattice \u001b[38;5;241m=\u001b[39m \u001b[43mimpl\u001b[49m\u001b[43m(\u001b[49m\u001b[43msub_X\u001b[49m\u001b[43m)\u001b[49m\n\u001b[1;32m    765\u001b[0m     \u001b[38;5;66;03m# Derived HMM classes will implement the following method to\u001b[39;00m\n\u001b[1;32m    766\u001b[0m     \u001b[38;5;66;03m# update their probability distributions, so keep\u001b[39;00m\n\u001b[1;32m    767\u001b[0m     \u001b[38;5;66;03m# a single call to this method for simplicity.\u001b[39;00m\n\u001b[1;32m    768\u001b[0m     \u001b[38;5;28mself\u001b[39m\u001b[38;5;241m.\u001b[39m_accumulate_sufficient_statistics(\n\u001b[1;32m    769\u001b[0m         stats, sub_X, lattice, posteriors, fwdlattice,\n\u001b[1;32m    770\u001b[0m         bwdlattice)\n",
      "File \u001b[0;32m~/.venv/fin/lib/python3.9/site-packages/hmmlearn/base.py:883\u001b[0m, in \u001b[0;36mBaseHMM._fit_log\u001b[0;34m(self, X)\u001b[0m\n\u001b[1;32m    882\u001b[0m \u001b[38;5;28;01mdef\u001b[39;00m \u001b[38;5;21m_fit_log\u001b[39m(\u001b[38;5;28mself\u001b[39m, X):\n\u001b[0;32m--> 883\u001b[0m     log_frameprob \u001b[38;5;241m=\u001b[39m \u001b[38;5;28;43mself\u001b[39;49m\u001b[38;5;241;43m.\u001b[39;49m\u001b[43m_compute_log_likelihood\u001b[49m\u001b[43m(\u001b[49m\u001b[43mX\u001b[49m\u001b[43m)\u001b[49m\n\u001b[1;32m    884\u001b[0m     log_prob, fwdlattice \u001b[38;5;241m=\u001b[39m _hmmc\u001b[38;5;241m.\u001b[39mforward_log(\n\u001b[1;32m    885\u001b[0m         \u001b[38;5;28mself\u001b[39m\u001b[38;5;241m.\u001b[39mstartprob_, \u001b[38;5;28mself\u001b[39m\u001b[38;5;241m.\u001b[39mtransmat_, log_frameprob)\n\u001b[1;32m    886\u001b[0m     bwdlattice \u001b[38;5;241m=\u001b[39m _hmmc\u001b[38;5;241m.\u001b[39mbackward_log(\n\u001b[1;32m    887\u001b[0m         \u001b[38;5;28mself\u001b[39m\u001b[38;5;241m.\u001b[39mstartprob_, \u001b[38;5;28mself\u001b[39m\u001b[38;5;241m.\u001b[39mtransmat_, log_frameprob)\n",
      "File \u001b[0;32m~/.venv/fin/lib/python3.9/site-packages/hmmlearn/_emissions.py:130\u001b[0m, in \u001b[0;36mBaseGaussianHMM._compute_log_likelihood\u001b[0;34m(self, X)\u001b[0m\n\u001b[1;32m    129\u001b[0m \u001b[38;5;28;01mdef\u001b[39;00m \u001b[38;5;21m_compute_log_likelihood\u001b[39m(\u001b[38;5;28mself\u001b[39m, X):\n\u001b[0;32m--> 130\u001b[0m     \u001b[38;5;28;01mreturn\u001b[39;00m \u001b[43mlog_multivariate_normal_density\u001b[49m\u001b[43m(\u001b[49m\n\u001b[1;32m    131\u001b[0m \u001b[43m        \u001b[49m\u001b[43mX\u001b[49m\u001b[43m,\u001b[49m\u001b[43m \u001b[49m\u001b[38;5;28;43mself\u001b[39;49m\u001b[38;5;241;43m.\u001b[39;49m\u001b[43mmeans_\u001b[49m\u001b[43m,\u001b[49m\u001b[43m \u001b[49m\u001b[38;5;28;43mself\u001b[39;49m\u001b[38;5;241;43m.\u001b[39;49m\u001b[43m_covars_\u001b[49m\u001b[43m,\u001b[49m\u001b[43m \u001b[49m\u001b[38;5;28;43mself\u001b[39;49m\u001b[38;5;241;43m.\u001b[39;49m\u001b[43mcovariance_type\u001b[49m\u001b[43m)\u001b[49m\n",
      "File \u001b[0;32m~/.venv/fin/lib/python3.9/site-packages/hmmlearn/stats.py:42\u001b[0m, in \u001b[0;36mlog_multivariate_normal_density\u001b[0;34m(X, means, covars, covariance_type)\u001b[0m\n\u001b[1;32m      6\u001b[0m \u001b[38;5;124;03m\"\"\"\u001b[39;00m\n\u001b[1;32m      7\u001b[0m \u001b[38;5;124;03mCompute the log probability under a multivariate Gaussian distribution.\u001b[39;00m\n\u001b[1;32m      8\u001b[0m \n\u001b[0;32m   (...)\u001b[0m\n\u001b[1;32m     35\u001b[0m \u001b[38;5;124;03m    X under each of the n_components multivariate Gaussian distributions.\u001b[39;00m\n\u001b[1;32m     36\u001b[0m \u001b[38;5;124;03m\"\"\"\u001b[39;00m\n\u001b[1;32m     37\u001b[0m log_multivariate_normal_density_dict \u001b[38;5;241m=\u001b[39m {\n\u001b[1;32m     38\u001b[0m     \u001b[38;5;124m'\u001b[39m\u001b[38;5;124mspherical\u001b[39m\u001b[38;5;124m'\u001b[39m: _log_multivariate_normal_density_spherical,\n\u001b[1;32m     39\u001b[0m     \u001b[38;5;124m'\u001b[39m\u001b[38;5;124mtied\u001b[39m\u001b[38;5;124m'\u001b[39m: _log_multivariate_normal_density_tied,\n\u001b[1;32m     40\u001b[0m     \u001b[38;5;124m'\u001b[39m\u001b[38;5;124mdiag\u001b[39m\u001b[38;5;124m'\u001b[39m: _log_multivariate_normal_density_diag,\n\u001b[1;32m     41\u001b[0m     \u001b[38;5;124m'\u001b[39m\u001b[38;5;124mfull\u001b[39m\u001b[38;5;124m'\u001b[39m: _log_multivariate_normal_density_full}\n\u001b[0;32m---> 42\u001b[0m \u001b[38;5;28;01mreturn\u001b[39;00m \u001b[43mlog_multivariate_normal_density_dict\u001b[49m\u001b[43m[\u001b[49m\u001b[43mcovariance_type\u001b[49m\u001b[43m]\u001b[49m\u001b[43m(\u001b[49m\n\u001b[1;32m     43\u001b[0m \u001b[43m    \u001b[49m\u001b[43mX\u001b[49m\u001b[43m,\u001b[49m\u001b[43m \u001b[49m\u001b[43mmeans\u001b[49m\u001b[43m,\u001b[49m\u001b[43m \u001b[49m\u001b[43mcovars\u001b[49m\n\u001b[1;32m     44\u001b[0m \u001b[43m\u001b[49m\u001b[43m)\u001b[49m\n",
      "File \u001b[0;32m~/.venv/fin/lib/python3.9/site-packages/hmmlearn/stats.py:93\u001b[0m, in \u001b[0;36m_log_multivariate_normal_density_full\u001b[0;34m(X, means, covars, min_covar)\u001b[0m\n\u001b[1;32m     89\u001b[0m             \u001b[38;5;28;01mraise\u001b[39;00m \u001b[38;5;167;01mValueError\u001b[39;00m(\u001b[38;5;124m\"\u001b[39m\u001b[38;5;124m'\u001b[39m\u001b[38;5;124mcovars\u001b[39m\u001b[38;5;124m'\u001b[39m\u001b[38;5;124m must be symmetric, \u001b[39m\u001b[38;5;124m\"\u001b[39m\n\u001b[1;32m     90\u001b[0m                              \u001b[38;5;124m\"\u001b[39m\u001b[38;5;124mpositive-definite\u001b[39m\u001b[38;5;124m\"\u001b[39m)\n\u001b[1;32m     92\u001b[0m     cv_log_det \u001b[38;5;241m=\u001b[39m \u001b[38;5;241m2\u001b[39m \u001b[38;5;241m*\u001b[39m np\u001b[38;5;241m.\u001b[39msum(np\u001b[38;5;241m.\u001b[39mlog(np\u001b[38;5;241m.\u001b[39mdiagonal(cv_chol)))\n\u001b[0;32m---> 93\u001b[0m     cv_sol \u001b[38;5;241m=\u001b[39m \u001b[43mlinalg\u001b[49m\u001b[38;5;241;43m.\u001b[39;49m\u001b[43msolve_triangular\u001b[49m\u001b[43m(\u001b[49m\u001b[43mcv_chol\u001b[49m\u001b[43m,\u001b[49m\u001b[43m \u001b[49m\u001b[43m(\u001b[49m\u001b[43mX\u001b[49m\u001b[43m \u001b[49m\u001b[38;5;241;43m-\u001b[39;49m\u001b[43m \u001b[49m\u001b[43mmu\u001b[49m\u001b[43m)\u001b[49m\u001b[38;5;241;43m.\u001b[39;49m\u001b[43mT\u001b[49m\u001b[43m,\u001b[49m\u001b[43m \u001b[49m\u001b[43mlower\u001b[49m\u001b[38;5;241;43m=\u001b[39;49m\u001b[38;5;28;43;01mTrue\u001b[39;49;00m\u001b[43m)\u001b[49m\u001b[38;5;241m.\u001b[39mT\n\u001b[1;32m     94\u001b[0m     log_prob\u001b[38;5;241m.\u001b[39mappend(\u001b[38;5;241m-\u001b[39m\u001b[38;5;241m.5\u001b[39m \u001b[38;5;241m*\u001b[39m (nf \u001b[38;5;241m*\u001b[39m np\u001b[38;5;241m.\u001b[39mlog(\u001b[38;5;241m2\u001b[39m \u001b[38;5;241m*\u001b[39m np\u001b[38;5;241m.\u001b[39mpi)\n\u001b[1;32m     95\u001b[0m                            \u001b[38;5;241m+\u001b[39m (cv_sol \u001b[38;5;241m*\u001b[39m\u001b[38;5;241m*\u001b[39m \u001b[38;5;241m2\u001b[39m)\u001b[38;5;241m.\u001b[39msum(axis\u001b[38;5;241m=\u001b[39m\u001b[38;5;241m1\u001b[39m)\n\u001b[1;32m     96\u001b[0m                            \u001b[38;5;241m+\u001b[39m cv_log_det))\n\u001b[1;32m     98\u001b[0m \u001b[38;5;28;01mreturn\u001b[39;00m np\u001b[38;5;241m.\u001b[39mtranspose(log_prob)\n",
      "File \u001b[0;32m~/.venv/fin/lib/python3.9/site-packages/scipy/linalg/_basic.py:344\u001b[0m, in \u001b[0;36msolve_triangular\u001b[0;34m(a, b, trans, lower, unit_diagonal, overwrite_b, check_finite)\u001b[0m\n\u001b[1;32m    342\u001b[0m trtrs, \u001b[38;5;241m=\u001b[39m get_lapack_funcs((\u001b[38;5;124m'\u001b[39m\u001b[38;5;124mtrtrs\u001b[39m\u001b[38;5;124m'\u001b[39m,), (a1, b1))\n\u001b[1;32m    343\u001b[0m \u001b[38;5;28;01mif\u001b[39;00m a1\u001b[38;5;241m.\u001b[39mflags\u001b[38;5;241m.\u001b[39mf_contiguous \u001b[38;5;129;01mor\u001b[39;00m trans \u001b[38;5;241m==\u001b[39m \u001b[38;5;241m2\u001b[39m:\n\u001b[0;32m--> 344\u001b[0m     x, info \u001b[38;5;241m=\u001b[39m \u001b[43mtrtrs\u001b[49m\u001b[43m(\u001b[49m\u001b[43ma1\u001b[49m\u001b[43m,\u001b[49m\u001b[43m \u001b[49m\u001b[43mb1\u001b[49m\u001b[43m,\u001b[49m\u001b[43m \u001b[49m\u001b[43moverwrite_b\u001b[49m\u001b[38;5;241;43m=\u001b[39;49m\u001b[43moverwrite_b\u001b[49m\u001b[43m,\u001b[49m\u001b[43m \u001b[49m\u001b[43mlower\u001b[49m\u001b[38;5;241;43m=\u001b[39;49m\u001b[43mlower\u001b[49m\u001b[43m,\u001b[49m\n\u001b[1;32m    345\u001b[0m \u001b[43m                    \u001b[49m\u001b[43mtrans\u001b[49m\u001b[38;5;241;43m=\u001b[39;49m\u001b[43mtrans\u001b[49m\u001b[43m,\u001b[49m\u001b[43m \u001b[49m\u001b[43munitdiag\u001b[49m\u001b[38;5;241;43m=\u001b[39;49m\u001b[43munit_diagonal\u001b[49m\u001b[43m)\u001b[49m\n\u001b[1;32m    346\u001b[0m \u001b[38;5;28;01melse\u001b[39;00m:\n\u001b[1;32m    347\u001b[0m     \u001b[38;5;66;03m# transposed system is solved since trtrs expects Fortran ordering\u001b[39;00m\n\u001b[1;32m    348\u001b[0m     x, info \u001b[38;5;241m=\u001b[39m trtrs(a1\u001b[38;5;241m.\u001b[39mT, b1, overwrite_b\u001b[38;5;241m=\u001b[39moverwrite_b, lower\u001b[38;5;241m=\u001b[39m\u001b[38;5;129;01mnot\u001b[39;00m lower,\n\u001b[1;32m    349\u001b[0m                     trans\u001b[38;5;241m=\u001b[39m\u001b[38;5;129;01mnot\u001b[39;00m trans, unitdiag\u001b[38;5;241m=\u001b[39munit_diagonal)\n",
      "\u001b[0;31mKeyboardInterrupt\u001b[0m: "
     ]
    }
   ],
   "source": [
    "regimes, regime_probs = rolling_regime_estimation(X)"
   ]
  },
  {
   "cell_type": "code",
   "execution_count": 116,
   "id": "8bb75456-99b5-4f36-9613-e008e6625db0",
   "metadata": {},
   "outputs": [
    {
     "data": {
      "text/plain": [
       "<AxesSubplot: >"
      ]
     },
     "execution_count": 116,
     "metadata": {},
     "output_type": "execute_result"
    },
    {
     "data": {
      "image/png": "[encoded data removed]",
      "text/plain": [
       "<Figure size 640x480 with 1 Axes>"
      ]
     },
     "metadata": {},
     "output_type": "display_data"
    }
   ],
   "source": [
    "pd.DataFrame(regime_probs, index=date_index[:800]).plot(kind='area', stacked=True)"
   ]
  },
  {
   "cell_type": "code",
   "execution_count": 130,
   "id": "b45c4577-df04-421c-b696-f3ff806561d3",
   "metadata": {},
   "outputs": [],
   "source": [
    "def calculate_historical_regime_probabilities(X, min_window=60):\n",
    "    \"\"\"\n",
    "    一発でヒストリカルなレジーム確率を計算\n",
    "    \n",
    "    Parameters:\n",
    "    X: numpy array (時系列 × 特徴量)\n",
    "    min_window: 最小ウィンドウサイズ\n",
    "    \n",
    "    Returns:\n",
    "    regimes: array of regime predictions\n",
    "    regime_probs: array of regime probabilities (n_obs × 3)\n",
    "    smoothed_probs: array of smoothed probabilities using all data\n",
    "    \"\"\"\n",
    "    n_obs = len(X)\n",
    "    regimes = np.full(n_obs, np.nan)\n",
    "    regime_probs = np.full((n_obs, 3), np.nan)\n",
    "    smoothed_probs = np.full((n_obs, 3), np.nan)\n",
    "    prev_model = None\n",
    "    \n",
    "    print(\"Step 1: Forward pass - calculating real-time regime probabilities...\")\n",
    "    # Step 1: フォワードパス（リアルタイム推定）\n",
    "    for t in tqdm(range(min_window, n_obs)):\n",
    "        X_train = X[:t+1]  # エクスパンディングウィンドウ\n",
    "        regime, probs, model = estimate_regime(X_train, prev_model)\n",
    "        regimes[t] = regime\n",
    "        regime_probs[t] = probs\n",
    "        prev_model = model\n",
    "    \n",
    "    print(\"Step 2: Backward pass - calculating smoothed probabilities...\")\n",
    "    # Step 2: バックワードパス（全データを使った平滑化確率）\n",
    "    if prev_model is not None:\n",
    "        # 全データで最終モデルを学習\n",
    "        final_model = hmm.GaussianHMM(n_components=3, covariance_type=\"full\", \n",
    "                                     random_state=42, init_params='stc')\n",
    "        final_model.means_ = prev_model.means_.copy()\n",
    "        final_model.fit(X)\n",
    "        \n",
    "        # 一貫性のある順序に並び替え\n",
    "        vix_means = [final_model.means_[i][0] for i in range(3)]\n",
    "        sorted_indices = np.argsort(vix_means)\n",
    "        regime_mapping = {sorted_indices[i]: i for i in range(3)}\n",
    "        final_model = reorder_model_parameters(final_model, regime_mapping)\n",
    "        \n",
    "        # 全期間の平滑化確率を計算\n",
    "        all_probs = final_model.predict_proba(X)\n",
    "        smoothed_probs[:] = all_probs\n",
    "    \n",
    "    print(\"Complete! Historical regime probabilities calculated.\")\n",
    "    \n",
    "    return regimes, regime_probs, smoothed_probs"
   ]
  },
  {
   "cell_type": "code",
   "execution_count": 132,
   "id": "c1a2b422-9788-42e7-adfe-81b195685d9b",
   "metadata": {
    "scrolled": true
   },
   "outputs": [
    {
     "name": "stdout",
     "output_type": "stream",
     "text": [
      "Step 1: Forward pass - calculating real-time regime probabilities...\n"
     ]
    },
    {
     "name": "stderr",
     "output_type": "stream",
     "text": [
      "  0%|▎                                                                                | 26/8071 [00:00<01:34, 85.56it/s]Model is not converging.  Current: 397.52127418789473 is not greater than 397.5221900053059. Delta is -0.0009158174111689732\n",
      "Model is not converging.  Current: 402.881435855881 is not greater than 402.8853615211641. Delta is -0.003925665283077251\n",
      "Model is not converging.  Current: 406.8698077305465 is not greater than 406.8703157130466. Delta is -0.0005079825000962046\n",
      "Model is not converging.  Current: 411.8649076956849 is not greater than 411.8671504858646. Delta is -0.002242790179707299\n",
      "  1%|▍                                                                                | 48/8071 [00:00<01:20, 99.74it/s]Model is not converging.  Current: 519.3365393241535 is not greater than 519.339976909912. Delta is -0.003437585758547357\n",
      "Model is not converging.  Current: 521.2567280136628 is not greater than 521.2603594463147. Delta is -0.003631432651900468\n",
      "  1%|▋                                                                               | 71/8071 [00:00<01:15, 106.01it/s]Model is not converging.  Current: 630.4245287595376 is not greater than 630.4408945339767. Delta is -0.016365774439123015\n",
      "Model is not converging.  Current: 636.5730337269002 is not greater than 636.6023512256355. Delta is -0.029317498735281333\n",
      "Model is not converging.  Current: 638.9752189628324 is not greater than 638.9867213472631. Delta is -0.011502384430741586\n",
      "Model is not converging.  Current: 643.6601847971956 is not greater than 643.6796399170527. Delta is -0.019455119857070713\n",
      "Model is not converging.  Current: 646.0926384148571 is not greater than 646.1070952447892. Delta is -0.014456829932100845\n",
      "  2%|█▏                                                                             | 127/8071 [00:01<01:16, 103.70it/s]Model is not converging.  Current: 868.2332437277843 is not greater than 868.2375189867035. Delta is -0.004275258919278713\n",
      "Model is not converging.  Current: 873.513765428827 is not greater than 873.5225429946929. Delta is -0.008777565865898396\n",
      "Model is not converging.  Current: 878.7841120857835 is not greater than 878.7973883307274. Delta is -0.013276244943881466\n",
      "Model is not converging.  Current: 884.0675552370677 is not greater than 884.0832061286734. Delta is -0.015650891605673678\n",
      "Model is not converging.  Current: 888.4406645354486 is not greater than 888.4546074982136. Delta is -0.013942962764986078\n",
      "Model is not converging.  Current: 891.5273928499606 is not greater than 891.5409370785562. Delta is -0.013544228595606\n",
      "Model is not converging.  Current: 895.6423891999415 is not greater than 895.6621540917213. Delta is -0.019764891779800564\n",
      "Model is not converging.  Current: 907.1299216031401 is not greater than 907.1315871240096. Delta is -0.0016655208694373869\n",
      "  3%|█▉                                                                             | 204/8071 [00:02<01:17, 102.10it/s]Model is not converging.  Current: 1251.930063191636 is not greater than 1251.9318563133484. Delta is -0.0017931217123532406\n",
      "  3%|██                                                                             | 215/8071 [00:02<01:16, 102.61it/s]Model is not converging.  Current: 1270.8808786662203 is not greater than 1270.9000024141208. Delta is -0.01912374790049398\n",
      "Model is not converging.  Current: 1256.4417911020446 is not greater than 1256.445141220161. Delta is -0.0033501181164865557\n",
      "Model is not converging.  Current: 1258.1669827009332 is not greater than 1258.1690253705842. Delta is -0.002042669651018514\n",
      "Model is not converging.  Current: 1260.7018945126472 is not greater than 1260.7087790177143. Delta is -0.006884505067091595\n",
      "Model is not converging.  Current: 1263.493741011378 is not greater than 1263.5044641579007. Delta is -0.010723146522650495\n",
      "Model is not converging.  Current: 1265.7380372837474 is not greater than 1265.7469722059695. Delta is -0.008934922222124442\n",
      "  3%|██▏                                                                             | 226/8071 [00:02<01:24, 92.91it/s]Model is not converging.  Current: 1287.3570529146366 is not greater than 1287.362170038782. Delta is -0.005117124145499474\n",
      "Model is not converging.  Current: 1290.1089626895052 is not greater than 1290.1200361924605. Delta is -0.011073502955241565\n",
      "Model is not converging.  Current: 1292.917685729508 is not greater than 1292.929231054751. Delta is -0.01154532524287788\n",
      "Model is not converging.  Current: 1296.8275320048842 is not greater than 1296.8384060068577. Delta is -0.010874001973434133\n",
      "Model is not converging.  Current: 1301.8702309029854 is not greater than 1301.8871722171052. Delta is -0.016941314119776507\n",
      "  3%|██▎                                                                             | 236/8071 [00:02<01:26, 90.79it/s]Model is not converging.  Current: 1306.7316646413174 is not greater than 1306.7500193768399. Delta is -0.018354735522507326\n",
      "Model is not converging.  Current: 1312.1867115088476 is not greater than 1312.2020418249201. Delta is -0.015330316072549977\n",
      "Model is not converging.  Current: 1316.8940291561996 is not greater than 1316.908111655339. Delta is -0.014082499139476568\n",
      "Model is not converging.  Current: 1321.5117073837089 is not greater than 1321.5264167296468. Delta is -0.014709345937944818\n",
      "Model is not converging.  Current: 1325.871219202426 is not greater than 1325.8860152308673. Delta is -0.014796028441423914\n",
      "Model is not converging.  Current: 1329.7283480064168 is not greater than 1329.7379753757546. Delta is -0.00962736933774977\n",
      "  4%|██▊                                                                             | 285/8071 [00:03<01:27, 89.14it/s]Model is not converging.  Current: 1552.4200149129488 is not greater than 1552.5265850573937. Delta is -0.10657014444495871\n",
      "Model is not converging.  Current: 1556.3428020699223 is not greater than 1556.5119490155735. Delta is -0.16914694565116406\n",
      "Model is not converging.  Current: 1560.2525592594397 is not greater than 1560.441530133865. Delta is -0.18897087442519478\n",
      "Model is not converging.  Current: 1564.676473676532 is not greater than 1564.8695372970483. Delta is -0.19306362051634096\n",
      "Model is not converging.  Current: 1568.8139650905982 is not greater than 1568.9998548481851. Delta is -0.1858897575868923\n",
      "  4%|██▉                                                                             | 295/8071 [00:03<01:29, 86.71it/s]Model is not converging.  Current: 1600.7331320718222 is not greater than 1600.7602726606435. Delta is -0.027140588821339406\n",
      "Model is not converging.  Current: 1607.1591431662298 is not greater than 1607.2671174085751. Delta is -0.10797424234533537\n",
      "Model is not converging.  Current: 1613.6364577010406 is not greater than 1613.7898421308098. Delta is -0.15338442976917577\n",
      "Model is not converging.  Current: 1620.0887595743334 is not greater than 1620.261776623412. Delta is -0.17301704907868043\n",
      "Model is not converging.  Current: 1626.5983221069785 is not greater than 1626.7816101644896. Delta is -0.18328805751116306\n",
      "  4%|███                                                                             | 304/8071 [00:03<01:31, 84.54it/s]Model is not converging.  Current: 1632.9053480012096 is not greater than 1633.0948232167304. Delta is -0.18947521552081525\n",
      "Model is not converging.  Current: 1639.1426624906146 is not greater than 1639.3289946200416. Delta is -0.18633212942700084\n",
      "Model is not converging.  Current: 1645.7779477150727 is not greater than 1645.9605120313263. Delta is -0.18256431625354708\n",
      "Model is not converging.  Current: 1652.1412676376087 is not greater than 1652.3160546822012. Delta is -0.1747870445924491\n",
      "Model is not converging.  Current: 1657.9577456712282 is not greater than 1658.1204634147266. Delta is -0.16271774349843326\n",
      "Model is not converging.  Current: 1664.6699612088132 is not greater than 1664.8224661984084. Delta is -0.15250498959517245\n",
      "Model is not converging.  Current: 1671.0256068755543 is not greater than 1671.1669991712379. Delta is -0.14139229568354494\n",
      "Model is not converging.  Current: 1677.8084732911939 is not greater than 1677.9402010034723. Delta is -0.1317277122784617\n",
      "Model is not converging.  Current: 1684.5460338067455 is not greater than 1684.668246428685. Delta is -0.12221262193952498\n",
      "  4%|███                                                                             | 313/8071 [00:03<01:36, 80.77it/s]Model is not converging.  Current: 1690.569734535269 is not greater than 1690.6826828381204. Delta is -0.11294830285146418\n",
      "Model is not converging.  Current: 1696.9071609136488 is not greater than 1697.0147080109962. Delta is -0.10754709734737844\n",
      "Model is not converging.  Current: 1703.6783898290682 is not greater than 1703.7414529106945. Delta is -0.06306308162629648\n",
      "Model is not converging.  Current: 1710.051311644808 is not greater than 1710.1709086613432. Delta is -0.11959701653518096\n",
      "Model is not converging.  Current: 1716.1342504369625 is not greater than 1716.2632217594867. Delta is -0.12897132252419397\n",
      "Model is not converging.  Current: 1721.7348878537568 is not greater than 1721.893839731794. Delta is -0.15895187803721456\n",
      "Model is not converging.  Current: 1726.9515232221177 is not greater than 1727.0992218929957. Delta is -0.14769867087807143\n",
      "Model is not converging.  Current: 1732.201977184954 is not greater than 1732.3380965030906. Delta is -0.1361193181364797\n",
      "Model is not converging.  Current: 1736.8805187303312 is not greater than 1736.9620381721345. Delta is -0.08151944180326609\n",
      "  4%|███▏                                                                            | 322/8071 [00:03<01:44, 73.98it/s]Model is not converging.  Current: 1741.867325701073 is not greater than 1741.874707948114. Delta is -0.007382247041050505\n",
      "Model is not converging.  Current: 1746.2358630355723 is not greater than 1746.3442802660024. Delta is -0.10841723043017737\n",
      "Model is not converging.  Current: 1751.7587247005754 is not greater than 1751.8708554661116. Delta is -0.11213076553622159\n",
      "Model is not converging.  Current: 1757.1978636368797 is not greater than 1757.31084595237. Delta is -0.11298231549039883\n",
      "Model is not converging.  Current: 1763.1861386469668 is not greater than 1763.300790595668. Delta is -0.1146519487012938\n",
      "Model is not converging.  Current: 1764.2480561857383 is not greater than 1764.462319243111. Delta is -0.21426305737281837\n",
      "Model is not converging.  Current: 1769.0160285304507 is not greater than 1769.230353652137. Delta is -0.21432512168621543\n",
      "Model is not converging.  Current: 1773.9017756887265 is not greater than 1774.0957196179074. Delta is -0.19394392918093217\n",
      "  4%|███▎                                                                            | 330/8071 [00:03<01:48, 71.02it/s]Model is not converging.  Current: 1778.8501250217778 is not greater than 1779.0557916720402. Delta is -0.20566665026240116\n",
      "Model is not converging.  Current: 1782.5107793237717 is not greater than 1782.7528193153348. Delta is -0.24203999156316058\n",
      "Model is not converging.  Current: 1787.3831407718449 is not greater than 1787.6287896498536. Delta is -0.24564887800875113\n",
      "Model is not converging.  Current: 1792.8288173437209 is not greater than 1793.0733128867485. Delta is -0.2444955430275968\n",
      "Model is not converging.  Current: 1794.6336680358504 is not greater than 1794.8496611811386. Delta is -0.2159931452881665\n",
      "Model is not converging.  Current: 1799.9904986651463 is not greater than 1800.2031790210897. Delta is -0.21268035594334833\n",
      "Model is not converging.  Current: 1805.4902210710572 is not greater than 1805.6979393454208. Delta is -0.20771827436351487\n",
      "Model is not converging.  Current: 1810.9074898291292 is not greater than 1811.1106984415599. Delta is -0.20320861243067156\n",
      "  4%|███▎                                                                            | 338/8071 [00:03<01:55, 67.03it/s]Model is not converging.  Current: 1815.8825960714944 is not greater than 1816.0822679003006. Delta is -0.19967182880623113\n",
      "Model is not converging.  Current: 1821.394574334111 is not greater than 1821.5888614428895. Delta is -0.19428710877855337\n",
      "Model is not converging.  Current: 1826.4062957543558 is not greater than 1826.5942749434837. Delta is -0.18797918912787281\n",
      "Model is not converging.  Current: 1831.831962167548 is not greater than 1832.01311994826. Delta is -0.18115778071205568\n",
      "Model is not converging.  Current: 1837.4046074120686 is not greater than 1837.5800785679062. Delta is -0.17547115583761297\n",
      "Model is not converging.  Current: 1842.5067703836598 is not greater than 1842.6814534349967. Delta is -0.17468305133684225\n",
      "Model is not converging.  Current: 1845.298521883575 is not greater than 1845.4884375201893. Delta is -0.18991563661438704\n",
      "  4%|███▍                                                                            | 345/8071 [00:03<01:59, 64.50it/s]Model is not converging.  Current: 1850.13745632372 is not greater than 1850.3377251286877. Delta is -0.20026880496766353\n",
      "Model is not converging.  Current: 1854.7847160220517 is not greater than 1854.994717545436. Delta is -0.2100015233843351\n",
      "Model is not converging.  Current: 1859.9326233210938 is not greater than 1860.1493777824003. Delta is -0.2167544613064365\n",
      "Model is not converging.  Current: 1864.2404463116802 is not greater than 1864.4659366054127. Delta is -0.2254902937324914\n",
      "Model is not converging.  Current: 1867.523718579506 is not greater than 1867.7565044885175. Delta is -0.23278590901145435\n",
      "Model is not converging.  Current: 1872.4359074120682 is not greater than 1872.6719158683293. Delta is -0.23600845626106093\n",
      "Model is not converging.  Current: 1877.5895429586894 is not greater than 1877.8284148806745. Delta is -0.23887192198503726\n",
      "  4%|███▍                                                                            | 352/8071 [00:04<02:02, 62.79it/s]Model is not converging.  Current: 1882.7877311484428 is not greater than 1883.0237231209364. Delta is -0.2359919724935935\n",
      "Model is not converging.  Current: 1888.075686595404 is not greater than 1888.3114375515308. Delta is -0.23575095612682162\n",
      "Model is not converging.  Current: 1893.4755105952684 is not greater than 1893.7089953760155. Delta is -0.23348478074717605\n",
      "Model is not converging.  Current: 1898.224535413408 is not greater than 1898.4612504249337. Delta is -0.23671501152580277\n",
      "Model is not converging.  Current: 1902.805110102234 is not greater than 1903.0479775253755. Delta is -0.2428674231414334\n",
      "Model is not converging.  Current: 1907.5967047130991 is not greater than 1907.8445305131918. Delta is -0.24782580009264166\n",
      "Model is not converging.  Current: 1911.2709475133943 is not greater than 1911.5242847324328. Delta is -0.2533372190384853\n",
      "  4%|███▌                                                                            | 359/8071 [00:04<02:10, 59.14it/s]Model is not converging.  Current: 1915.8852408110952 is not greater than 1916.1382553456567. Delta is -0.25301453456154377\n",
      "Model is not converging.  Current: 1920.5316342732337 is not greater than 1920.7774377632084. Delta is -0.24580348997460533\n",
      "Model is not converging.  Current: 1924.9077210412615 is not greater than 1925.1374983116225. Delta is -0.2297772703609553\n",
      "Model is not converging.  Current: 1926.2608458467969 is not greater than 1926.4193562899914. Delta is -0.15851044319447283\n",
      "Model is not converging.  Current: 1931.1308950538003 is not greater than 1931.2516814199018. Delta is -0.12078636610158355\n",
      "Model is not converging.  Current: 1935.2108955737917 is not greater than 1935.2780188206552. Delta is -0.06712324686350257\n",
      "  5%|███▌                                                                            | 365/8071 [00:04<02:11, 58.61it/s]Model is not converging.  Current: 1939.9836556679954 is not greater than 1939.9866880631225. Delta is -0.0030323951270929683\n",
      " 12%|█████████▌                                                                      | 967/8071 [00:13<02:03, 57.34it/s]Model is not converging.  Current: 4287.110499427247 is not greater than 4287.11550405669. Delta is -0.005004629442737496\n",
      " 12%|█████████▋                                                                      | 974/8071 [00:13<02:02, 57.94it/s]Model is not converging.  Current: 4302.839906959039 is not greater than 4302.841193272301. Delta is -0.0012863132624261198\n",
      "Model is not converging.  Current: 4306.211364830537 is not greater than 4306.213157189925. Delta is -0.0017923593886735034\n",
      " 12%|█████████▋                                                                      | 981/8071 [00:13<01:59, 59.48it/s]Model is not converging.  Current: 4301.023555101683 is not greater than 4301.030894136834. Delta is -0.007339035150835116\n",
      "Model is not converging.  Current: 4301.440109451985 is not greater than 4301.442456005781. Delta is -0.0023465537960873917\n",
      "Model is not converging.  Current: 4298.557251563154 is not greater than 4298.594853438389. Delta is -0.03760187523494096\n",
      "Model is not converging.  Current: 4298.6166431257825 is not greater than 4298.652801709271. Delta is -0.036158583488941076\n",
      "Model is not converging.  Current: 4298.698566590679 is not greater than 4298.731875540349. Delta is -0.03330894967075437\n",
      " 12%|█████████▊                                                                      | 988/8071 [00:13<02:04, 56.70it/s]Model is not converging.  Current: 4295.896617835195 is not greater than 4295.928657064734. Delta is -0.0320392295388956\n",
      "Model is not converging.  Current: 4295.986294227479 is not greater than 4296.010740628313. Delta is -0.024446400833767257\n",
      "Model is not converging.  Current: 4295.914164337269 is not greater than 4295.929233925333. Delta is -0.015069588064761774\n",
      "Model is not converging.  Current: 4296.462206853923 is not greater than 4296.470068339573. Delta is -0.007861485650209943\n",
      "Model is not converging.  Current: 4297.621799785842 is not greater than 4297.624774989104. Delta is -0.0029752032614851487\n",
      "100%|███████████████████████████████████████████████████████████████████████████████| 8071/8071 [05:30<00:00, 24.39it/s]\n"
     ]
    },
    {
     "name": "stdout",
     "output_type": "stream",
     "text": [
      "Step 2: Backward pass - calculating smoothed probabilities...\n",
      "Complete! Historical regime probabilities calculated.\n",
      "Results:\n",
      "Real-time regime probs shape: (8131, 3)\n",
      "Smoothed regime probs shape: (8131, 3)\n"
     ]
    },
    {
     "data": {
      "image/png": "[encoded data removed]",
      "text/plain": [
       "<Figure size 1500x800 with 2 Axes>"
      ]
     },
     "metadata": {},
     "output_type": "display_data"
    }
   ],
   "source": [
    "\n",
    "# 一発でヒストリカル確率を計算\n",
    "regimes, realtime_probs, smoothed_probs = calculate_historical_regime_probabilities(X, min_window=60)\n",
    "\n",
    "print(\"Results:\")\n",
    "print(f\"Real-time regime probs shape: {realtime_probs.shape}\")\n",
    "print(f\"Smoothed regime probs shape: {smoothed_probs.shape}\")\n",
    "\n",
    "# 比較分析\n",
    "import matplotlib.pyplot as plt\n",
    "plt.figure(figsize=(15, 8))\n",
    "\n",
    "# リアルタイム確率\n",
    "plt.subplot(2, 1, 1)\n",
    "plt.plot(realtime_probs[:, 0], label='Low Vol (Real-time)', alpha=0.7)\n",
    "plt.plot(realtime_probs[:, 1], label='Mid Vol (Real-time)', alpha=0.7)\n",
    "plt.plot(realtime_probs[:, 2], label='High Vol (Real-time)', alpha=0.7)\n",
    "plt.title('Real-time Regime Probabilities')\n",
    "plt.legend()\n",
    "\n",
    "# 平滑化確率\n",
    "plt.subplot(2, 1, 2)\n",
    "plt.plot(smoothed_probs[:, 0], label='Low Vol (Smoothed)', alpha=0.7)\n",
    "plt.plot(smoothed_probs[:, 1], label='Mid Vol (Smoothed)', alpha=0.7)\n",
    "plt.plot(smoothed_probs[:, 2], label='High Vol (Smoothed)', alpha=0.7)\n",
    "plt.title('Smoothed Regime Probabilities (Using All Data)')\n",
    "plt.legend()\n",
    "\n",
    "plt.tight_layout()\n",
    "plt.show()"
   ]
  },
  {
   "cell_type": "code",
   "execution_count": 133,
   "id": "04e31874-48b6-499c-83a2-b30596576e90",
   "metadata": {},
   "outputs": [
    {
     "data": {
      "text/plain": [
       "<AxesSubplot: >"
      ]
     },
     "execution_count": 133,
     "metadata": {},
     "output_type": "execute_result"
    },
    {
     "data": {
      "image/png": "[encoded data removed]",
      "text/plain": [
       "<Figure size 640x480 with 1 Axes>"
      ]
     },
     "metadata": {},
     "output_type": "display_data"
    }
   ],
   "source": [
    "pd.DataFrame(realtime_probs,index=date_index).plot(kind='area',stacked=True)"
   ]
  },
  {
   "cell_type": "code",
   "execution_count": 135,
   "id": "bea881d5-9e2f-4159-9027-4275861719bb",
   "metadata": {},
   "outputs": [
    {
     "data": {
      "text/plain": [
       "<AxesSubplot: >"
      ]
     },
     "execution_count": 135,
     "metadata": {},
     "output_type": "execute_result"
    },
    {
     "data": {
      "image/png": "[encoded data removed]",
      "text/plain": [
       "<Figure size 640x480 with 1 Axes>"
      ]
     },
     "metadata": {},
     "output_type": "display_data"
    }
   ],
   "source": [
    "pd.DataFrame(smoothed_probs,index=date_index).plot(kind='area',stacked=True)"
   ]
  },
  {
   "cell_type": "code",
   "execution_count": 137,
   "id": "552651ff-0f3f-4713-ba28-14d0060ae7cd",
   "metadata": {},
   "outputs": [
    {
     "data": {
      "text/plain": [
       "array([1, 0, 1, ..., 0, 1, 0])"
      ]
     },
     "execution_count": 137,
     "metadata": {},
     "output_type": "execute_result"
    }
   ],
   "source": [
    "np.argmax(smoothed_probs,axis=1)"
   ]
  },
  {
   "cell_type": "code",
   "execution_count": 139,
   "id": "8753f3c9-05a1-4e2d-b396-8b1eecf9d4bd",
   "metadata": {},
   "outputs": [
    {
     "data": {
      "text/plain": [
       "1993-03-01    13.600000\n",
       "1993-03-02    12.490000\n",
       "1993-03-03    13.130000\n",
       "1993-03-04    13.440000\n",
       "1993-03-05    14.080000\n",
       "                ...    \n",
       "2025-06-10    16.950001\n",
       "2025-06-11    17.260000\n",
       "2025-06-12    18.020000\n",
       "2025-06-13    20.820000\n",
       "2025-06-16    18.820000\n",
       "Name: VIX_Close, Length: 8131, dtype: float64"
      ]
     },
     "execution_count": 139,
     "metadata": {},
     "output_type": "execute_result"
    }
   ],
   "source": [
    "df['VIX_Close']"
   ]
  },
  {
   "cell_type": "code",
   "execution_count": 141,
   "id": "a7b83901-d6c6-439d-9ee9-91472e51415a",
   "metadata": {},
   "outputs": [
    {
     "name": "stdout",
     "output_type": "stream",
     "text": [
      "VIX Statistics by Regime:\n",
      "                  mean\n",
      "Low Vol Regime   24.67\n",
      "Mid Vol Regime   19.22\n",
      "High Vol Regime  20.31\n"
     ]
    }
   ],
   "source": [
    "regime_groups = df.groupby(np.argmax(realtime_probs, axis=1))['VIX_Close'].agg(['mean'])\n",
    "regime_groups.index = ['Low Vol Regime', 'Mid Vol Regime', 'High Vol Regime']\n",
    "\n",
    "print(\"VIX Statistics by Regime:\")\n",
    "print(regime_groups.round(2))"
   ]
  },
  {
   "cell_type": "code",
   "execution_count": null,
   "id": "c080de9e-f712-4438-9e9f-73a3da5f1c95",
   "metadata": {},
   "outputs": [],
   "source": [
    "# シンプルに、将来の情報を使わないリアルタイムレジーム確率のみ\n",
    "regimes, realtime_probs = rolling_regime_estimation(X, min_window=60)\n",
    "\n",
    "# VIXデータと合わせて分析\n",
    "df['regime'] = np.nan\n",
    "df['prob_low_vol'] = np.nan\n",
    "df['prob_mid_vol'] = np.nan\n",
    "df['prob_high_vol'] = np.nan\n",
    "\n",
    "# 有効なインデックスにのみデータを格納\n",
    "valid_indices = ~np.isnan(regimes)\n",
    "df.loc[valid_indices, 'regime'] = regimes[valid_indices]\n",
    "df.loc[valid_indices, 'prob_low_vol'] = realtime_probs[valid_indices, 0]\n",
    "df.loc[valid_indices, 'prob_mid_vol'] = realtime_probs[valid_indices, 1]\n",
    "df.loc[valid_indices, 'prob_high_vol'] = realtime_probs[valid_indices, 2]\n",
    "\n",
    "# 結果確認\n",
    "print(\"Real-time Regime Analysis (No Future Information):\")\n",
    "print(df[['VIX_Close', 'regime', 'prob_low_vol', 'prob_mid_vol', 'prob_high_vol']].dropna().tail(10))\n",
    "\n",
    "# グループ別平均（リアルタイムレジームのみ）\n",
    "regime_stats = df.dropna().groupby('regime')['VIX_Close'].agg(['mean', 'std', 'count'])\n",
    "regime_stats.index = ['Low Vol Regime', 'Mid Vol Regime', 'High Vol Regime']\n",
    "print(\"\\nVIX Statistics by Real-time Regime:\")\n",
    "print(regime_stats.round(2))"
   ]
  }
 ],
 "metadata": {
  "kernelspec": {
   "display_name": "fin",
   "language": "python",
   "name": "fin"
  },
  "language_info": {
   "codemirror_mode": {
    "name": "ipython",
    "version": 3
   },
   "file_extension": ".py",
   "mimetype": "text/x-python",
   "name": "python",
   "nbconvert_exporter": "python",
   "pygments_lexer": "ipython3",
   "version": "3.9.0"
  }
 },
 "nbformat": 4,
 "nbformat_minor": 5
}
